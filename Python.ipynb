{
 "cells": [
  {
   "cell_type": "markdown",
   "metadata": {},
   "source": [
    "### 1. Introduction to Python\n"
   ]
  },
  {
   "cell_type": "code",
   "execution_count": 3,
   "metadata": {},
   "outputs": [
    {
     "name": "stdout",
     "output_type": "stream",
     "text": [
      "Hello World!\n",
      "Hi, Python!\n"
     ]
    }
   ],
   "source": [
    "# First python output with 'Print' functions\n",
    "print('Hello World!')\n",
    "print('Hi, Python!')"
   ]
  },
  {
   "cell_type": "markdown",
   "metadata": {},
   "source": [
    "Version control"
   ]
  },
  {
   "cell_type": "code",
   "execution_count": 4,
   "metadata": {},
   "outputs": [
    {
     "name": "stdout",
     "output_type": "stream",
     "text": [
      "3.9.13 (main, Aug 25 2022, 23:51:50) [MSC v.1916 64 bit (AMD64)]\n",
      "3.9\n",
      "<built-in function gettrace>\n",
      "['c:\\\\Users\\\\HP\\\\anaconda3\\\\lib\\\\site-packages\\\\ipykernel_launcher.py', '--ip=127.0.0.1', '--stdin=9003', '--control=9001', '--hb=9000', '--Session.signature_scheme=\"hmac-sha256\"', '--Session.key=b\"443b6f50-fdd0-4266-8265-88d8dd31434d\"', '--shell=9002', '--transport=\"tcp\"', '--iopub=9004', '--f=c:\\\\Users\\\\HP\\\\AppData\\\\Roaming\\\\jupyter\\\\runtime\\\\kernel-v2-201085d5z0FYRQzN5.json']\n"
     ]
    }
   ],
   "source": [
    "# Python version check\n",
    "import sys\n",
    "print(sys.version) # version control\n",
    "print(sys.winver) # [Windows only] version number of the Python DLL\n",
    "print(sys.gettrace) # get the global debug tracing function\n",
    "print(sys.argv) # keeps the parameters used while running the program we wrote in a list."
   ]
  },
  {
   "cell_type": "markdown",
   "metadata": {},
   "source": [
    "help() function"
   ]
  },
  {
   "cell_type": "code",
   "execution_count": 5,
   "metadata": {},
   "outputs": [
    {
     "name": "stdout",
     "output_type": "stream",
     "text": [
      "Help on built-in module sys:\n",
      "\n",
      "NAME\n",
      "    sys\n",
      "\n",
      "MODULE REFERENCE\n",
      "    https://docs.python.org/3.9/library/sys\n",
      "    \n",
      "    The following documentation is automatically generated from the Python\n",
      "    source files.  It may be incomplete, incorrect or include features that\n",
      "    are considered implementation detail and may vary between Python\n",
      "    implementations.  When in doubt, consult the module reference at the\n",
      "    location listed above.\n",
      "\n",
      "DESCRIPTION\n",
      "    This module provides access to some objects used or maintained by the\n",
      "    interpreter and to functions that interact strongly with the interpreter.\n",
      "    \n",
      "    Dynamic objects:\n",
      "    \n",
      "    argv -- command line arguments; argv[0] is the script pathname if known\n",
      "    path -- module search path; path[0] is the script directory, else ''\n",
      "    modules -- dictionary of loaded modules\n",
      "    \n",
      "    displayhook -- called to show results in an interactive session\n",
      "    excepthook -- called to handle any uncaught exception other than SystemExit\n",
      "      To customize printing in an interactive session or to install a custom\n",
      "      top-level exception handler, assign other functions to replace these.\n",
      "    \n",
      "    stdin -- standard input file object; used by input()\n",
      "    stdout -- standard output file object; used by print()\n",
      "    stderr -- standard error object; used for error messages\n",
      "      By assigning other file objects (or objects that behave like files)\n",
      "      to these, it is possible to redirect all of the interpreter's I/O.\n",
      "    \n",
      "    last_type -- type of last uncaught exception\n",
      "    last_value -- value of last uncaught exception\n",
      "    last_traceback -- traceback of last uncaught exception\n",
      "      These three are only available in an interactive session after a\n",
      "      traceback has been printed.\n",
      "    \n",
      "    Static objects:\n",
      "    \n",
      "    builtin_module_names -- tuple of module names built into this interpreter\n",
      "    copyright -- copyright notice pertaining to this interpreter\n",
      "    exec_prefix -- prefix used to find the machine-specific Python library\n",
      "    executable -- absolute path of the executable binary of the Python interpreter\n",
      "    float_info -- a named tuple with information about the float implementation.\n",
      "    float_repr_style -- string indicating the style of repr() output for floats\n",
      "    hash_info -- a named tuple with information about the hash algorithm.\n",
      "    hexversion -- version information encoded as a single integer\n",
      "    implementation -- Python implementation information.\n",
      "    int_info -- a named tuple with information about the int implementation.\n",
      "    maxsize -- the largest supported length of containers.\n",
      "    maxunicode -- the value of the largest Unicode code point\n",
      "    platform -- platform identifier\n",
      "    prefix -- prefix used to find the Python library\n",
      "    thread_info -- a named tuple with information about the thread implementation.\n",
      "    version -- the version of this interpreter as a string\n",
      "    version_info -- version information as a named tuple\n",
      "    dllhandle -- [Windows only] integer handle of the Python DLL\n",
      "    winver -- [Windows only] version number of the Python DLL\n",
      "    _enablelegacywindowsfsencoding -- [Windows only]\n",
      "    __stdin__ -- the original stdin; don't touch!\n",
      "    __stdout__ -- the original stdout; don't touch!\n",
      "    __stderr__ -- the original stderr; don't touch!\n",
      "    __displayhook__ -- the original displayhook; don't touch!\n",
      "    __excepthook__ -- the original excepthook; don't touch!\n",
      "    \n",
      "    Functions:\n",
      "    \n",
      "    displayhook() -- print an object to the screen, and save it in builtins._\n",
      "    excepthook() -- print an exception and its traceback to sys.stderr\n",
      "    exc_info() -- return thread-safe information about the current exception\n",
      "    exit() -- exit the interpreter by raising SystemExit\n",
      "    getdlopenflags() -- returns flags to be used for dlopen() calls\n",
      "    getprofile() -- get the global profiling function\n",
      "    getrefcount() -- return the reference count for an object (plus one :-)\n",
      "    getrecursionlimit() -- return the max recursion depth for the interpreter\n",
      "    getsizeof() -- return the size of an object in bytes\n",
      "    gettrace() -- get the global debug tracing function\n",
      "    setdlopenflags() -- set the flags to be used for dlopen() calls\n",
      "    setprofile() -- set the global profiling function\n",
      "    setrecursionlimit() -- set the max recursion depth for the interpreter\n",
      "    settrace() -- set the global debug tracing function\n",
      "\n",
      "FUNCTIONS\n",
      "    __breakpointhook__ = breakpointhook(...)\n",
      "        breakpointhook(*args, **kws)\n",
      "        \n",
      "        This hook function is called by built-in breakpoint().\n",
      "    \n",
      "    __displayhook__ = displayhook(object, /)\n",
      "        Print an object to sys.stdout and also save it in builtins._\n",
      "    \n",
      "    __excepthook__ = excepthook(exctype, value, traceback, /)\n",
      "        Handle an exception by displaying it with a traceback on sys.stderr.\n",
      "    \n",
      "    __unraisablehook__ = unraisablehook(unraisable, /)\n",
      "        Handle an unraisable exception.\n",
      "        \n",
      "        The unraisable argument has the following attributes:\n",
      "        \n",
      "        * exc_type: Exception type.\n",
      "        * exc_value: Exception value, can be None.\n",
      "        * exc_traceback: Exception traceback, can be None.\n",
      "        * err_msg: Error message, can be None.\n",
      "        * object: Object causing the exception, can be None.\n",
      "    \n",
      "    addaudithook(hook)\n",
      "        Adds a new audit hook callback.\n",
      "    \n",
      "    audit(...)\n",
      "        audit(event, *args)\n",
      "        \n",
      "        Passes the event to any audit hooks that are attached.\n",
      "    \n",
      "    call_tracing(func, args, /)\n",
      "        Call func(*args), while tracing is enabled.\n",
      "        \n",
      "        The tracing state is saved, and restored afterwards.  This is intended\n",
      "        to be called from a debugger from a checkpoint, to recursively debug\n",
      "        some other code.\n",
      "    \n",
      "    exc_info()\n",
      "        Return current exception information: (type, value, traceback).\n",
      "        \n",
      "        Return information about the most recent exception caught by an except\n",
      "        clause in the current stack frame or in an older stack frame.\n",
      "    \n",
      "    exit(status=None, /)\n",
      "        Exit the interpreter by raising SystemExit(status).\n",
      "        \n",
      "        If the status is omitted or None, it defaults to zero (i.e., success).\n",
      "        If the status is an integer, it will be used as the system exit status.\n",
      "        If it is another kind of object, it will be printed and the system\n",
      "        exit status will be one (i.e., failure).\n",
      "    \n",
      "    get_asyncgen_hooks()\n",
      "        Return the installed asynchronous generators hooks.\n",
      "        \n",
      "        This returns a namedtuple of the form (firstiter, finalizer).\n",
      "    \n",
      "    get_coroutine_origin_tracking_depth()\n",
      "        Check status of origin tracking for coroutine objects in this thread.\n",
      "    \n",
      "    getallocatedblocks()\n",
      "        Return the number of memory blocks currently allocated.\n",
      "    \n",
      "    getdefaultencoding()\n",
      "        Return the current default encoding used by the Unicode implementation.\n",
      "    \n",
      "    getfilesystemencodeerrors()\n",
      "        Return the error mode used Unicode to OS filename conversion.\n",
      "    \n",
      "    getfilesystemencoding()\n",
      "        Return the encoding used to convert Unicode filenames to OS filenames.\n",
      "    \n",
      "    getprofile()\n",
      "        Return the profiling function set with sys.setprofile.\n",
      "        \n",
      "        See the profiler chapter in the library manual.\n",
      "    \n",
      "    getrecursionlimit()\n",
      "        Return the current value of the recursion limit.\n",
      "        \n",
      "        The recursion limit is the maximum depth of the Python interpreter\n",
      "        stack.  This limit prevents infinite recursion from causing an overflow\n",
      "        of the C stack and crashing Python.\n",
      "    \n",
      "    getrefcount(object, /)\n",
      "        Return the reference count of object.\n",
      "        \n",
      "        The count returned is generally one higher than you might expect,\n",
      "        because it includes the (temporary) reference as an argument to\n",
      "        getrefcount().\n",
      "    \n",
      "    getsizeof(...)\n",
      "        getsizeof(object [, default]) -> int\n",
      "        \n",
      "        Return the size of object in bytes.\n",
      "    \n",
      "    getswitchinterval()\n",
      "        Return the current thread switch interval; see sys.setswitchinterval().\n",
      "    \n",
      "    gettrace()\n",
      "        Return the global debug tracing function set with sys.settrace.\n",
      "        \n",
      "        See the debugger chapter in the library manual.\n",
      "    \n",
      "    getwindowsversion()\n",
      "        Return info about the running version of Windows as a named tuple.\n",
      "        \n",
      "        The members are named: major, minor, build, platform, service_pack,\n",
      "        service_pack_major, service_pack_minor, suite_mask, product_type and\n",
      "        platform_version. For backward compatibility, only the first 5 items\n",
      "        are available by indexing. All elements are numbers, except\n",
      "        service_pack and platform_type which are strings, and platform_version\n",
      "        which is a 3-tuple. Platform is always 2. Product_type may be 1 for a\n",
      "        workstation, 2 for a domain controller, 3 for a server.\n",
      "        Platform_version is a 3-tuple containing a version number that is\n",
      "        intended for identifying the OS rather than feature detection.\n",
      "    \n",
      "    intern(string, /)\n",
      "        ``Intern'' the given string.\n",
      "        \n",
      "        This enters the string in the (global) table of interned strings whose\n",
      "        purpose is to speed up dictionary lookups. Return the string itself or\n",
      "        the previously interned string object with the same value.\n",
      "    \n",
      "    is_finalizing()\n",
      "        Return True if Python is exiting.\n",
      "    \n",
      "    set_asyncgen_hooks(...)\n",
      "        set_asyncgen_hooks(* [, firstiter] [, finalizer])\n",
      "        \n",
      "        Set a finalizer for async generators objects.\n",
      "    \n",
      "    set_coroutine_origin_tracking_depth(depth)\n",
      "        Enable or disable origin tracking for coroutine objects in this thread.\n",
      "        \n",
      "        Coroutine objects will track 'depth' frames of traceback information\n",
      "        about where they came from, available in their cr_origin attribute.\n",
      "        \n",
      "        Set a depth of 0 to disable.\n",
      "    \n",
      "    setprofile(...)\n",
      "        setprofile(function)\n",
      "        \n",
      "        Set the profiling function.  It will be called on each function call\n",
      "        and return.  See the profiler chapter in the library manual.\n",
      "    \n",
      "    setrecursionlimit(limit, /)\n",
      "        Set the maximum depth of the Python interpreter stack to n.\n",
      "        \n",
      "        This limit prevents infinite recursion from causing an overflow of the C\n",
      "        stack and crashing Python.  The highest possible limit is platform-\n",
      "        dependent.\n",
      "    \n",
      "    setswitchinterval(interval, /)\n",
      "        Set the ideal thread switching delay inside the Python interpreter.\n",
      "        \n",
      "        The actual frequency of switching threads can be lower if the\n",
      "        interpreter executes long sequences of uninterruptible code\n",
      "        (this is implementation-specific and workload-dependent).\n",
      "        \n",
      "        The parameter must represent the desired switching delay in seconds\n",
      "        A typical value is 0.005 (5 milliseconds).\n",
      "    \n",
      "    settrace(...)\n",
      "        settrace(function)\n",
      "        \n",
      "        Set the global debug tracing function.  It will be called on each\n",
      "        function call.  See the debugger chapter in the library manual.\n",
      "    \n",
      "    unraisablehook(unraisable, /)\n",
      "        Handle an unraisable exception.\n",
      "        \n",
      "        The unraisable argument has the following attributes:\n",
      "        \n",
      "        * exc_type: Exception type.\n",
      "        * exc_value: Exception value, can be None.\n",
      "        * exc_traceback: Exception traceback, can be None.\n",
      "        * err_msg: Error message, can be None.\n",
      "        * object: Object causing the exception, can be None.\n",
      "\n",
      "DATA\n",
      "    __stderr__ = <_io.TextIOWrapper name='<stderr>' mode='w' encoding='utf...\n",
      "    __stdin__ = <_io.TextIOWrapper name='<stdin>' mode='r' encoding='utf-8...\n",
      "    __stdout__ = <_io.TextIOWrapper name='<stdout>' mode='w' encoding='utf...\n",
      "    api_version = 1013\n",
      "    argv = [r'c:\\Users\\HP\\anaconda3\\lib\\site-packages\\ipykernel_launcher.p...\n",
      "    base_exec_prefix = r'c:\\Users\\HP\\anaconda3'\n",
      "    base_prefix = r'c:\\Users\\HP\\anaconda3'\n",
      "    builtin_module_names = ('_abc', '_ast', '_bisect', '_blake2', '_codecs...\n",
      "    byteorder = 'little'\n",
      "    copyright = 'Copyright (c) 2001-2022 Python Software Foundati...ematis...\n",
      "    displayhook = <ipykernel.displayhook.ZMQShellDisplayHook object>\n",
      "    dllhandle = 140731884830720\n",
      "    dont_write_bytecode = False\n",
      "    exec_prefix = r'c:\\Users\\HP\\anaconda3'\n",
      "    executable = r'c:\\Users\\HP\\anaconda3\\python.exe'\n",
      "    flags = sys.flags(debug=0, inspect=0, interactive=0, opt...ation=1, is...\n",
      "    float_info = sys.float_info(max=1.7976931348623157e+308, max_...epsilo...\n",
      "    float_repr_style = 'short'\n",
      "    hash_info = sys.hash_info(width=64, modulus=2305843009213693...iphash2...\n",
      "    hexversion = 50925040\n",
      "    implementation = namespace(name='cpython', cache_tag='cpython-39'...as...\n",
      "    int_info = sys.int_info(bits_per_digit=30, sizeof_digit=4)\n",
      "    last_value = ModuleNotFoundError(\"No module named 'handcalcs'\")\n",
      "    maxsize = 9223372036854775807\n",
      "    maxunicode = 1114111\n",
      "    meta_path = [<_distutils_hack.DistutilsMetaFinder object>, <class '_fr...\n",
      "    modules = {'IPython': <module 'IPython' from 'c:\\\\Users\\\\HP\\\\anaconda3...\n",
      "    path = [r'e:\\Github Repositories\\Python Foundation', r'c:\\Users\\HP\\ana...\n",
      "    path_hooks = [<class 'zipimport.zipimporter'>, <function FileFinder.pa...\n",
      "    path_importer_cache = {r'C:\\Users\\HP\\.ipython': FileFinder('C:\\\\Users\\...\n",
      "    platform = 'win32'\n",
      "    platlibdir = 'lib'\n",
      "    prefix = r'c:\\Users\\HP\\anaconda3'\n",
      "    ps1 = 'In : '\n",
      "    ps2 = '...: '\n",
      "    ps3 = 'Out: '\n",
      "    pycache_prefix = None\n",
      "    stderr = <ipykernel.iostream.OutStream object>\n",
      "    stdin = <_io.TextIOWrapper name='<stdin>' mode='r' encoding='utf-8'>\n",
      "    stdout = <ipykernel.iostream.OutStream object>\n",
      "    thread_info = sys.thread_info(name='nt', lock=None, version=None)\n",
      "    version = '3.9.13 (main, Aug 25 2022, 23:51:50) [MSC v.1916 64 bit (AM...\n",
      "    version_info = sys.version_info(major=3, minor=9, micro=13, releaselev...\n",
      "    warnoptions = []\n",
      "    winver = '3.9'\n",
      "\n",
      "FILE\n",
      "    (built-in)\n",
      "\n",
      "\n"
     ]
    }
   ],
   "source": [
    "# The Python help function is used to display the documentation of modules, functions, classes, keywords, etc.\n",
    "help(sys) # here the module name is 'sys'"
   ]
  },
  {
   "cell_type": "markdown",
   "metadata": {},
   "source": [
    "Comment"
   ]
  },
  {
   "cell_type": "code",
   "execution_count": 6,
   "metadata": {},
   "outputs": [
    {
     "name": "stdout",
     "output_type": "stream",
     "text": [
      "Hello World!\n",
      "Hello\n"
     ]
    }
   ],
   "source": [
    "# This is a comment, and to write a comment, '#' symbol is used.\n",
    "print('Hello World!') # This line prints a string.\n",
    "# Print 'Hello'\n",
    "print('Hello')"
   ]
  },
  {
   "cell_type": "markdown",
   "metadata": {},
   "source": [
    "Errors"
   ]
  },
  {
   "cell_type": "code",
   "execution_count": 7,
   "metadata": {},
   "outputs": [
    {
     "ename": "NameError",
     "evalue": "name 'frint' is not defined",
     "output_type": "error",
     "traceback": [
      "\u001b[1;31m---------------------------------------------------------------------------\u001b[0m",
      "\u001b[1;31mNameError\u001b[0m                                 Traceback (most recent call last)",
      "\u001b[1;32m~\\AppData\\Local\\Temp\\ipykernel_9392\\4167207709.py\u001b[0m in \u001b[0;36m<module>\u001b[1;34m\u001b[0m\n\u001b[0;32m      1\u001b[0m \u001b[1;31m# Print string as error message\u001b[0m\u001b[1;33m\u001b[0m\u001b[1;33m\u001b[0m\u001b[0m\n\u001b[1;32m----> 2\u001b[1;33m \u001b[0mfrint\u001b[0m\u001b[1;33m(\u001b[0m\u001b[1;34m'Hello, World!'\u001b[0m\u001b[1;33m)\u001b[0m\u001b[1;33m\u001b[0m\u001b[1;33m\u001b[0m\u001b[0m\n\u001b[0m",
      "\u001b[1;31mNameError\u001b[0m: name 'frint' is not defined"
     ]
    }
   ],
   "source": [
    "# Print string as error message\n",
    "frint('Hello, World!')\n"
   ]
  },
  {
   "cell_type": "code",
   "execution_count": 8,
   "metadata": {},
   "outputs": [
    {
     "ename": "SyntaxError",
     "evalue": "EOL while scanning string literal (922369443.py, line 2)",
     "output_type": "error",
     "traceback": [
      "\u001b[1;36m  File \u001b[1;32m\"C:\\Users\\HP\\AppData\\Local\\Temp\\ipykernel_9392\\922369443.py\"\u001b[1;36m, line \u001b[1;32m2\u001b[0m\n\u001b[1;33m    print('Hello, World!)\u001b[0m\n\u001b[1;37m                         ^\u001b[0m\n\u001b[1;31mSyntaxError\u001b[0m\u001b[1;31m:\u001b[0m EOL while scanning string literal\n"
     ]
    }
   ],
   "source": [
    "# Built-in error message\n",
    "print('Hello, World!)\n"
   ]
  },
  {
   "cell_type": "code",
   "execution_count": 9,
   "metadata": {},
   "outputs": [
    {
     "name": "stdout",
     "output_type": "stream",
     "text": [
      "This string is printed\n"
     ]
    },
    {
     "ename": "NameError",
     "evalue": "name 'frint' is not defined",
     "output_type": "error",
     "traceback": [
      "\u001b[1;31m---------------------------------------------------------------------------\u001b[0m",
      "\u001b[1;31mNameError\u001b[0m                                 Traceback (most recent call last)",
      "\u001b[1;32m~\\AppData\\Local\\Temp\\ipykernel_9392\\4155003112.py\u001b[0m in \u001b[0;36m<module>\u001b[1;34m\u001b[0m\n\u001b[0;32m      1\u001b[0m \u001b[1;31m# Print both string and error to see the running order\u001b[0m\u001b[1;33m\u001b[0m\u001b[1;33m\u001b[0m\u001b[0m\n\u001b[0;32m      2\u001b[0m \u001b[0mprint\u001b[0m\u001b[1;33m(\u001b[0m\u001b[1;34m'This string is printed'\u001b[0m\u001b[1;33m)\u001b[0m\u001b[1;33m\u001b[0m\u001b[1;33m\u001b[0m\u001b[0m\n\u001b[1;32m----> 3\u001b[1;33m \u001b[0mfrint\u001b[0m\u001b[1;33m(\u001b[0m\u001b[1;34m'This gives an error message'\u001b[0m\u001b[1;33m)\u001b[0m\u001b[1;33m\u001b[0m\u001b[1;33m\u001b[0m\u001b[0m\n\u001b[0m\u001b[0;32m      4\u001b[0m \u001b[0mprint\u001b[0m\u001b[1;33m(\u001b[0m\u001b[1;34m'This string will not be printed'\u001b[0m\u001b[1;33m)\u001b[0m\u001b[1;33m\u001b[0m\u001b[1;33m\u001b[0m\u001b[0m\n\u001b[0;32m      5\u001b[0m \u001b[1;36m1\u001b[0m\u001b[1;33m\u001b[0m\u001b[1;33m\u001b[0m\u001b[0m\n",
      "\u001b[1;31mNameError\u001b[0m: name 'frint' is not defined"
     ]
    }
   ],
   "source": [
    "# Print both string and error to see the running order\n",
    "print('This string is printed')\n",
    "frint('This gives an error message')\n",
    "print('This string will not be printed')\n"
   ]
  },
  {
   "cell_type": "markdown",
   "metadata": {},
   "source": [
    "Basic data types in Python"
   ]
  },
  {
   "cell_type": "code",
   "execution_count": 10,
   "metadata": {},
   "outputs": [
    {
     "name": "stdout",
     "output_type": "stream",
     "text": [
      "Hello, World!\n",
      "12\n",
      "3.14\n",
      "True\n",
      "False\n",
      "True\n",
      "False\n"
     ]
    }
   ],
   "source": [
    "# String\n",
    "print(\"Hello, World!\")\n",
    "# Integer\n",
    "print(12)\n",
    "# Float\n",
    "print(3.14)\n",
    "# Boolean\n",
    "print(True)\n",
    "print(False)\n",
    "print(bool(1)) # Output = True\n",
    "print(bool(0)) # Output = False"
   ]
  },
  {
   "cell_type": "markdown",
   "metadata": {},
   "source": [
    "type() function"
   ]
  },
  {
   "cell_type": "code",
   "execution_count": 11,
   "metadata": {},
   "outputs": [
    {
     "name": "stdout",
     "output_type": "stream",
     "text": [
      "<class 'str'>\n",
      "<class 'int'>\n",
      "<class 'int'>\n",
      "<class 'int'>\n",
      "<class 'int'>\n",
      "<class 'float'>\n",
      "<class 'float'>\n",
      "<class 'float'>\n",
      "<class 'float'>\n",
      "<class 'bool'>\n",
      "<class 'bool'>\n"
     ]
    }
   ],
   "source": [
    "# String\n",
    "print(type('Hello, World!'))\n",
    "# Integer\n",
    "print(type(15))\n",
    "print(type(-24))\n",
    "print(type(0))\n",
    "print(type(1))\n",
    "# Float\n",
    "print(type(3.14))\n",
    "print(type(0.5))\n",
    "print(type(1.0))\n",
    "print(type(-5.0))\n",
    "# Boolean\n",
    "print(type(True))\n",
    "print(type(False))"
   ]
  },
  {
   "cell_type": "code",
   "execution_count": 12,
   "metadata": {},
   "outputs": [
    {
     "name": "stdout",
     "output_type": "stream",
     "text": [
      "sys.int_info(bits_per_digit=30, sizeof_digit=4)\n",
      "\n",
      "sys.float_info(max=1.7976931348623157e+308, max_exp=1024, max_10_exp=308, min=2.2250738585072014e-308, min_exp=-1021, min_10_exp=-307, dig=15, mant_dig=53, epsilon=2.220446049250313e-16, radix=2, rounds=1)\n"
     ]
    }
   ],
   "source": [
    "# to obtain the information about 'interger' and 'float'\n",
    "print(sys.int_info)\n",
    "print() # to add a space between two outputs, use 'print()' function\n",
    "print(sys.float_info)\n"
   ]
  },
  {
   "cell_type": "markdown",
   "metadata": {},
   "source": [
    "Converting an abject type to another object type"
   ]
  },
  {
   "cell_type": "code",
   "execution_count": 14,
   "metadata": {},
   "outputs": [
    {
     "name": "stdout",
     "output_type": "stream",
     "text": [
      "6\n",
      "6.0\n",
      "<class 'int'>\n",
      "<class 'str'>\n",
      "<class 'float'>\n"
     ]
    },
    {
     "data": {
      "text/plain": [
       "'6'"
      ]
     },
     "execution_count": 14,
     "metadata": {},
     "output_type": "execute_result"
    }
   ],
   "source": [
    "# Let's convert the integer number 6 to a string and a float\n",
    "number = 6\n",
    "print(str(number))\n",
    "print(float(number))\n",
    "print(type(number))\n",
    "print(type(str(number)))\n",
    "print(type(float(number)))\n",
    "str(number)"
   ]
  },
  {
   "cell_type": "code",
   "execution_count": 15,
   "metadata": {},
   "outputs": [
    {
     "name": "stdout",
     "output_type": "stream",
     "text": [
      "3.14\n",
      "3\n",
      "<class 'float'>\n",
      "<class 'str'>\n",
      "<class 'int'>\n"
     ]
    },
    {
     "data": {
      "text/plain": [
       "'3.14'"
      ]
     },
     "execution_count": 15,
     "metadata": {},
     "output_type": "execute_result"
    }
   ],
   "source": [
    "# Let's conver the float number 3.14 to a string and an integer\n",
    "number = 3.14\n",
    "print(str(number))\n",
    "print(int(number))\n",
    "print(type(number))\n",
    "print(type(str(number)))\n",
    "print(type(int(number)))\n",
    "str(number)\n"
   ]
  },
  {
   "cell_type": "code",
   "execution_count": 16,
   "metadata": {},
   "outputs": [
    {
     "name": "stdout",
     "output_type": "stream",
     "text": [
      "1\n",
      "0\n",
      "1.0\n",
      "0.0\n",
      "True\n",
      "False\n",
      "True\n",
      "False\n"
     ]
    }
   ],
   "source": [
    "# Let's convert the booleans to an integer, a float, and a string\n",
    "bool_1 = True\n",
    "bool_2 = False\n",
    "print(int(bool_1))\n",
    "print(int(bool_2))\n",
    "print(float(bool_1))\n",
    "print(float(bool_2))\n",
    "print(str(bool_1))\n",
    "print(str(bool_2))\n",
    "print(bool(1))\n",
    "print(bool(0))\n"
   ]
  },
  {
   "cell_type": "code",
   "execution_count": 17,
   "metadata": {},
   "outputs": [
    {
     "name": "stdout",
     "output_type": "stream",
     "text": [
      "3.0\n",
      "2\n",
      "<class 'float'>\n",
      "<class 'int'>\n"
     ]
    }
   ],
   "source": [
    "# Let's find the data types of 9/3 and 9//4\n",
    "print(9/3)\n",
    "print(9//4)\n",
    "print(type(9/3))\n",
    "print(type(9//4))"
   ]
  },
  {
   "cell_type": "markdown",
   "metadata": {},
   "source": [
    "Experesion and variables"
   ]
  },
  {
   "cell_type": "code",
   "execution_count": 18,
   "metadata": {},
   "outputs": [
    {
     "name": "stdout",
     "output_type": "stream",
     "text": [
      "431.7\n",
      "<class 'float'>\n"
     ]
    }
   ],
   "source": [
    "# Addition\n",
    "x = 56+65+89+45+78.5+98.2\n",
    "print(x)\n",
    "print(type(x))\n"
   ]
  },
  {
   "cell_type": "code",
   "execution_count": 19,
   "metadata": {},
   "outputs": [
    {
     "name": "stdout",
     "output_type": "stream",
     "text": [
      "4\n",
      "<class 'int'>\n"
     ]
    }
   ],
   "source": [
    "# Substraction\n",
    "x = 85-52-21-8\n",
    "print(x)\n",
    "print(type(x))"
   ]
  },
  {
   "cell_type": "code",
   "execution_count": 20,
   "metadata": {},
   "outputs": [
    {
     "name": "stdout",
     "output_type": "stream",
     "text": [
      "592\n",
      "<class 'int'>\n"
     ]
    }
   ],
   "source": [
    "# Multiplication\n",
    "x = 8*74\n",
    "print(x)\n",
    "print(type(x))"
   ]
  },
  {
   "cell_type": "code",
   "execution_count": 21,
   "metadata": {},
   "outputs": [
    {
     "name": "stdout",
     "output_type": "stream",
     "text": [
      "5.208333333333333\n",
      "<class 'float'>\n"
     ]
    }
   ],
   "source": [
    "# Division\n",
    "x = 125/24\n",
    "print(x)\n",
    "print(type(x))"
   ]
  },
  {
   "cell_type": "code",
   "execution_count": 22,
   "metadata": {},
   "outputs": [
    {
     "name": "stdout",
     "output_type": "stream",
     "text": [
      "5\n",
      "<class 'int'>\n"
     ]
    }
   ],
   "source": [
    "# Floor division\n",
    "x = 125//24\n",
    "print(x)\n",
    "print(type(x))"
   ]
  },
  {
   "cell_type": "code",
   "execution_count": 23,
   "metadata": {},
   "outputs": [
    {
     "name": "stdout",
     "output_type": "stream",
     "text": [
      "5\n",
      "<class 'int'>\n"
     ]
    }
   ],
   "source": [
    "# Modulus\n",
    "x = 125%24\n",
    "print(x)\n",
    "print(type(x))"
   ]
  },
  {
   "cell_type": "code",
   "execution_count": 24,
   "metadata": {},
   "outputs": [
    {
     "name": "stdout",
     "output_type": "stream",
     "text": [
      "8\n",
      "<class 'int'>\n"
     ]
    }
   ],
   "source": [
    "# Exponentiation\n",
    "x = 2**3\n",
    "print(x)\n",
    "print(type(x))"
   ]
  },
  {
   "cell_type": "code",
   "execution_count": 25,
   "metadata": {},
   "outputs": [
    {
     "name": "stdout",
     "output_type": "stream",
     "text": [
      "1200\n",
      "<class 'int'>\n",
      "5.8\n",
      "<class 'float'>\n"
     ]
    }
   ],
   "source": [
    "# An example: Let's calculate how many minutes there are in 20 hours?\n",
    "one_hour = 60 # 60 minutes\n",
    "hour = 20\n",
    "minutes = one_hour *hour\n",
    "print(minutes)\n",
    "print(type(minutes))\n",
    "# An example: Let's calculate how many hours there are in 348 minutes?\n",
    "minutes = 348\n",
    "one_hour = 60\n",
    "hours = 348/60\n",
    "print(hours)\n",
    "print(type(hours))"
   ]
  },
  {
   "cell_type": "code",
   "execution_count": 26,
   "metadata": {},
   "outputs": [
    {
     "name": "stdout",
     "output_type": "stream",
     "text": [
      "312\n",
      "4272\n",
      "4584\n",
      "-3960\n",
      "1332864\n",
      "0.07303370786516854\n",
      "106764199167287649605554376373081784961189430306931493889556878541263403954002216688428743890341298063062142643611547988366237942127177343103591136201873077048553130787246373784413835009801652141537511130496428252345316433301059252139523910338594414308819431610621847043225489424826149872487789309094682282558124209932422054457355942893935706933289840196191187747301112830107448513231858429992761218679164101636444032930435771562516453083564435414559235582600151873226528287408677813227333412905261688524005256624038623662294237808277371997593998912667896831712792141180654000924337006775278052474872726377253010429179230961274610199709972018821656789423406359174060212611294727986571959777654952011794250637017985358080908216601447588481225599020031390728573271218289796869021285323813625335270974018872855233694196882336288630021223834404511661194298932452264999156099033727713855480854355371150599738557878712977577549271433343813379749929657561109032988835580585216092640612223164570913525512670029673834624186970132731885063633490286869816267116022850711291300730029398184689724964401635968014416006752408173907688299132168027630933159948201475263620124033097454167552874769580750572768536232057072836692747916545382704495886726653503557104569826738079815324618288334039076954316926964176144516801003942271474329159423194087001952320133263540787867323228560442611012542142088053706362634895360958683956071894298898275289575383990034416358647916025457617283044607150480067042215869291483350336006549248094246438696250080375208389461534853963152534164311981773333081098410305604829527446429676417593080887690716264087479272802801177928627019844338665504449942540252132224791393970054432608788587562964379101809673430739599135323155399832911668044620482009870025584493631148081851265376163103623562636387083932249894673001189744675371946275440365214654161414187030316648573222711835090080081897318300219091548245869334499977213608090446333258285781824122555715598499936719807827911143734551737624831645414556246691913161032429691949623249029853465910493538885314221796981865742062923668895728326074578208241709310004897251557428296032789067547486740192181391908859292119042333485960699513008994753111824412890390017121726969137720487194766161641244508636895641239842977175447098647696380000200601425457682932541424495840785297373343412092075704302175257106378815608869646461537867953037510714459707217905592259999912561471574087292229144681691045198307081603957970540631092904041275921597876900972900755292298162431716184190791412975756134160262682646323761541886261157163246543340734316160172951204369909284367422694003269863774148928793291915969509044808949436863330594309604418397549203216024899386834187882667613212086395315903060781966499106065496575998411192369605649732896520232659110078163366766396924820170443793295864862055239765764886615349315756654762394679720860927255248257903260508892594074251163309549833439313094400350182045130276659485650885602920547122788100336756451230359197707295010445629960379187771884371899800828897555201031016847625162792800651103118503681830485399157159784101527009177787347506142281832358052092991520401207615250009572655299882019296034942719718661285846838808934962130135038621976266858901427303893012659111887199414857205521162128556671552246693248259135495518066170791372005717080374330756739563074148217549182721539000440672863417653818918971054931761885346523340178063832122746190858336952642065518703658958590506919255597436781690581320252733183623644575336940681017851761674854552609352938273032295062139780487444512525951520401913098762308585919002068787781314520995637110702995570869861042647538423922752093051966520168878481396039406213366895420020493155613875832176925622262738906382371772990871883635467268860034427758036552526029234655452703164046562825351915904424601540290334128603211118191317089516497054917603124340977570216031818512682953752269854779079697434466541359538774597600982910935005055415700888730113962534578396907004674510699688115114239304326848340679191496490328075666274933516569087188601690957762795857158697153340327470923540353402594213039642939269098237297466918407872801352528344109932563316818187017474117917146347638300323550862777328083521362876715107291385142597813131288674580934279606607731846749496165120301251045111757666517301790243674120269285804312048431469862103499874651474662185845910620699984383738103255902787639593009575801155914929901600758286861488238083119043206357191532206344718169282919522014001548136211987781277499497952529901620166666071490042652109533029231909756515165834983245291299934857559140685642338334003302924093084782021778113214888165415357268032783374640126158054350445258263214362804681830456703757031170684990735569751511433026347700829125125730585047521290684039538034046831119430538335937416520403181650606933258044392244571720830013340319264941709035221019402305558239272729315429526618543924103320626915068572185023757382713023893056349581557843136721781023901237921557722144367638686874526223160473716592976991690326139661942437040468078065251569416039873226259172717015798797948596855998975242342711030337375043441281664379729175543851249355620124390586225229792894123673107803288521650496545676084561238832438979392228351076613343913905252103033931624844839919373048519189920464337630171032033549423871804114561982518231947107171561239828027154960684578814262277695072220083246941357396519556497954583137487523910519965893155637785146128259538559260027758426512366434176528059907146111804728425965236368727059039788741395275952303383831179009864148595849790220421421644829133738324154039065171580521425707741824665732326894555340769847394100724785507576931938257727997605422173758311047852051466874019230368062089784640916217891357966512652307743981799490300748785599561922221405163425218852423519128052331679493060816108711356031446298397695783045183794979015363134173192551003604171352540606379828468835885060141993030252168630656147922271984598735234941719838704044649522396112261904643657147368395984450483719546262524486766922745433952891223346866793485274639861751074752695187293094731995250144969109294087467492434064858747516258392831664510519332645497844052591284172676530616446296908457234348811370221016311939841337204807561188464588149192181845823265036727776143144592820683644693967386041097198497500315921552561300818695817916085711186424177776949572256017491243184398798492023185257267748681319738204633644543014836371947540587470008465276177552553234608719110897116422276120579342924324187520408533270553886276014263179179528666501808363320570370452066532791040468127831053995948679596449449800230553033085294214283559208821703016747172471592646508326628899514804486573561230195634104785581655563105026602981956508466321169440473874483730830201039181451114344400574925847186963039315085463574546636868638425234512394593481086651205236924953932000318375900186067899141509891492117055793035852947407715561185926871245783228906911727791050899965555159673220381951632419440030500324644448749934357612862429168699058305217936142869057149944469358345739210851751563457075683021133638525231666700514332193424917810026371828565623597140453834850111320654743614076015771670488044665370047639141480621563835183196365771922563010778953752358347412160128528798927782612122322108437207844802533124052027687743673345645354407519568370384296576412066534775150836154041702758146274346296955550140437370675634622433116308840111038787469014315731960812765067360128438979282485450833201119288606049588429605336098478997026616105613094434227896779486426534736056143781871790900891800536959252808781094713837356730884816493496508616758362538451464651712869803633010940287080580181269019026232498252491687899063050063462109238597916331247327663291696742614333695178256233412493282926446621493375434374814065501692625581592989069418629985529287847726895020024163648545122660871125512693003192830003948739025974642788863847370893643262786234597769100828554177657771423888741041985360835613308154547956357475691179172694351653059342526895651245649364459580402228702746098401495117966536947973225366393609345390599387744025066787658584043702592002201302738785603711154600695727107693273926358678775119385195257031515981436527737741728764691067948140605794639748689569347550248113650907833158659419812324506593992055499028289793777477427489085465952516285116556997533392145439861894625945705058566726369877010505775680494227865249586817936213382623385669662830749450474981641036684888836309420665593081517191738342314434133981514605583814609535988113128168802756715268344279110763082514705148404926333019276364127381900274982793975023907025514239996053585335333580125767040023326556849379626151845309051458872745997606397735395779558409558761095781871694462211031049836179161329260649319341242283701983883710853412443893717626557798402927786201533370750327875890708287578548914517538407385256797250117637822494708570394447552752761075322510952124277115637380545987671482035373410491457368879070162057223710126802979178921538392543456813781865219186598634056637653640515831912911101808733206260460320168021006474304584943029955859419770391723331331941405926089147503439070381347551610125841561348526140582160229631218887091987140449848823066369464695262633216039969252838708263284257138661025557093015023143880441861958171612931986517343997349788433308312521166715253271353850146995221922904341763627647423673293149107913554536085893006669810113332479328712820760039313752183001022750710747193995477927696342193422299029309657906910153235652815040621955398608785705740122638653264219603877570118177696906178872873244882327381280853263628546410112270518905994133207228655145236100941700654789687684919116135915560253541819222424848512804392804349777024775231969342032697685353494421220446807748989984463584305028185732016688761018816646962486170616160562447711750458454877856219862302418178738054682360121995953799059448216349297276045406090916685734475821039248716167989737932995363955375459883317586249912714616375977512244254163459086888032612286360613134831620633769945790451995449344223171774431297988423836125738390270218058615158554059728886527888309585939793070323504482634470637866728727012772500883741246129495617476217623080187868102601949911716035992486748007483284135024216800455377471747889521903534210603461174396446444002814189339902907785474683085645608883568845292059750792213213511795857412515364549171034983114170436406585915498634906070632175280637079269273742133501967626487909774310367160105659033123814658661816665229454868786819785567400976805687489082934757358780515856214435459495827563077779810007344486547456\n",
      "0\n",
      "312\n"
     ]
    }
   ],
   "source": [
    "# Mathematica expression\n",
    "x = 45+3*89\n",
    "y = (45+3)*89\n",
    "print(x)\n",
    "print(y)\n",
    "print(x+y)\n",
    "print(x-y)\n",
    "print(x*y)\n",
    "print(x/y)\n",
    "print(x**y)\n",
    "print(x//y)\n",
    "print(x%y)"
   ]
  },
  {
   "cell_type": "markdown",
   "metadata": {},
   "source": [
    "Variables"
   ]
  },
  {
   "cell_type": "code",
   "execution_count": 27,
   "metadata": {},
   "outputs": [
    {
     "name": "stdout",
     "output_type": "stream",
     "text": [
      "90\n",
      "<class 'int'>\n"
     ]
    }
   ],
   "source": [
    "# Store the value 89 into the variabe 'number'\n",
    "number = 90\n",
    "print(number)\n",
    "print(type(number))"
   ]
  },
  {
   "cell_type": "code",
   "execution_count": 28,
   "metadata": {},
   "outputs": [
    {
     "name": "stdout",
     "output_type": "stream",
     "text": [
      "-49\n",
      "-7.0\n",
      "-3.5\n"
     ]
    }
   ],
   "source": [
    "x = 25\n",
    "y = 87\n",
    "z = 5*x - 2*y\n",
    "print(z)\n",
    "t = z/7\n",
    "print(t)\n",
    "z = z/14\n",
    "print(z)"
   ]
  },
  {
   "cell_type": "code",
   "execution_count": 29,
   "metadata": {},
   "outputs": [
    {
     "name": "stdout",
     "output_type": "stream",
     "text": [
      "8 4 2\n",
      "8\n",
      "4\n",
      "2\n",
      "2.0\n",
      "4.0\n",
      "2.0\n",
      "14\n",
      "64\n",
      "2\n",
      "1.0\n",
      "1\n",
      "0\n"
     ]
    }
   ],
   "source": [
    "x, y, z = 8, 4, 2 # the values of x, y, and z can be written in one line.\n",
    "print(x, y, z)\n",
    "print(x)\n",
    "print(y)\n",
    "print(z)\n",
    "print(x/y)\n",
    "print(x/z)\n",
    "print(y/z)\n",
    "print(x+y+z)\n",
    "print(x*y*z)\n",
    "print(x-y-z)\n",
    "print(x/y/z)\n",
    "print(x//y//z)\n",
    "print(x%y%z)\n"
   ]
  },
  {
   "cell_type": "markdown",
   "metadata": {},
   "source": [
    "### 2. Strings"
   ]
  },
  {
   "cell_type": "code",
   "execution_count": 30,
   "metadata": {},
   "outputs": [
    {
     "data": {
      "text/plain": [
       "'Hello World!'"
      ]
     },
     "execution_count": 30,
     "metadata": {},
     "output_type": "execute_result"
    }
   ],
   "source": [
    "# Employ double quotation marks for describing a string\n",
    "\"Hello World!\"\n"
   ]
  },
  {
   "cell_type": "code",
   "execution_count": 31,
   "metadata": {},
   "outputs": [
    {
     "data": {
      "text/plain": [
       "'Hello World!'"
      ]
     },
     "execution_count": 31,
     "metadata": {},
     "output_type": "execute_result"
    }
   ],
   "source": [
    "# Employ single quotation marks for describing a string\n",
    "'Hello World!'\n"
   ]
  },
  {
   "cell_type": "code",
   "execution_count": 32,
   "metadata": {},
   "outputs": [
    {
     "data": {
      "text/plain": [
       "'3 6 9 2 6 8'"
      ]
     },
     "execution_count": 32,
     "metadata": {},
     "output_type": "execute_result"
    }
   ],
   "source": [
    "# Digitals and spaces in a string\n",
    "'3 6 9 2 6 8'"
   ]
  },
  {
   "cell_type": "code",
   "execution_count": 33,
   "metadata": {},
   "outputs": [
    {
     "data": {
      "text/plain": [
       "'@#5_]*$%^&'"
      ]
     },
     "execution_count": 33,
     "metadata": {},
     "output_type": "execute_result"
    }
   ],
   "source": [
    "# Specific characters in a string\n",
    "'@#5_]*$%^&'"
   ]
  },
  {
   "cell_type": "code",
   "execution_count": 34,
   "metadata": {},
   "outputs": [
    {
     "name": "stdout",
     "output_type": "stream",
     "text": [
      "Hello World!\n"
     ]
    }
   ],
   "source": [
    "# printing a string\n",
    "print('Hello World!')"
   ]
  },
  {
   "cell_type": "code",
   "execution_count": 35,
   "metadata": {},
   "outputs": [
    {
     "name": "stdout",
     "output_type": "stream",
     "text": [
      "Hello World!\n"
     ]
    },
    {
     "data": {
      "text/plain": [
       "'Hello World!'"
      ]
     },
     "execution_count": 35,
     "metadata": {},
     "output_type": "execute_result"
    }
   ],
   "source": [
    "# Assigning a string to a variable 'message'\n",
    "message = 'Hello World!'\n",
    "print(message)\n",
    "message"
   ]
  },
  {
   "cell_type": "markdown",
   "metadata": {},
   "source": [
    "Indexing of a string"
   ]
  },
  {
   "cell_type": "code",
   "execution_count": 36,
   "metadata": {},
   "outputs": [
    {
     "name": "stdout",
     "output_type": "stream",
     "text": [
      "H\n"
     ]
    }
   ],
   "source": [
    "# printing the first element in a string\n",
    "message = 'Hello World!'\n",
    "print(message[0])"
   ]
  },
  {
   "cell_type": "code",
   "execution_count": 37,
   "metadata": {},
   "outputs": [
    {
     "name": "stdout",
     "output_type": "stream",
     "text": [
      "r\n"
     ]
    }
   ],
   "source": [
    "# Printing the element on index 8 in a string\n",
    "print(message[8])"
   ]
  },
  {
   "cell_type": "code",
   "execution_count": 38,
   "metadata": {},
   "outputs": [
    {
     "data": {
      "text/plain": [
       "12"
      ]
     },
     "execution_count": 38,
     "metadata": {},
     "output_type": "execute_result"
    }
   ],
   "source": [
    "# lenght of a string includign spaces\n",
    "len(message)"
   ]
  },
  {
   "cell_type": "code",
   "execution_count": 39,
   "metadata": {},
   "outputs": [
    {
     "name": "stdout",
     "output_type": "stream",
     "text": [
      "!\n"
     ]
    },
    {
     "data": {
      "text/plain": [
       "'\\nAlthough the length of the string is 12, since the indexing in Python starts with 0,\\nthe number of the last element is therefore 11.\\n'"
      ]
     },
     "execution_count": 39,
     "metadata": {},
     "output_type": "execute_result"
    }
   ],
   "source": [
    "# Printing the last element in a string\n",
    "print(message[11])\n",
    "# Another comment writing type is as follows using triple quotes.\n",
    "\"\"\"\n",
    "Although the length of the string is 12, since the indexing in Python starts with 0,\n",
    "the number of the last element is therefore 11.\n",
    "\"\"\""
   ]
  },
  {
   "cell_type": "markdown",
   "metadata": {},
   "source": [
    "Negative indexing of a string"
   ]
  },
  {
   "cell_type": "code",
   "execution_count": 40,
   "metadata": {},
   "outputs": [
    {
     "data": {
      "text/plain": [
       "'!'"
      ]
     },
     "execution_count": 40,
     "metadata": {},
     "output_type": "execute_result"
    }
   ],
   "source": [
    "# printing the last element of a string\n",
    "message[-1]"
   ]
  },
  {
   "cell_type": "code",
   "execution_count": 41,
   "metadata": {},
   "outputs": [
    {
     "data": {
      "text/plain": [
       "'\\nSince the negative indexing starts with -1, in this case, the negative index number\\nof the first element is equal to -12.\\n'"
      ]
     },
     "execution_count": 41,
     "metadata": {},
     "output_type": "execute_result"
    }
   ],
   "source": [
    "# printing the first element of a string\n",
    "message[-12]\n",
    "\"\"\"\n",
    "Since the negative indexing starts with -1, in this case, the negative index number\n",
    "of the first element is equal to -12.\n",
    "\"\"\"\n"
   ]
  },
  {
   "cell_type": "code",
   "execution_count": 42,
   "metadata": {},
   "outputs": [
    {
     "name": "stdout",
     "output_type": "stream",
     "text": [
      "12\n"
     ]
    },
    {
     "data": {
      "text/plain": [
       "12"
      ]
     },
     "execution_count": 42,
     "metadata": {},
     "output_type": "execute_result"
    }
   ],
   "source": [
    "print(len(message))\n",
    "len(message)"
   ]
  },
  {
   "cell_type": "code",
   "execution_count": 43,
   "metadata": {},
   "outputs": [
    {
     "data": {
      "text/plain": [
       "12"
      ]
     },
     "execution_count": 43,
     "metadata": {},
     "output_type": "execute_result"
    }
   ],
   "source": [
    "len('Hello World!')"
   ]
  },
  {
   "cell_type": "markdown",
   "metadata": {},
   "source": [
    "Slicing of a string"
   ]
  },
  {
   "cell_type": "code",
   "execution_count": 44,
   "metadata": {},
   "outputs": [
    {
     "data": {
      "text/plain": [
       "'Hello'"
      ]
     },
     "execution_count": 44,
     "metadata": {},
     "output_type": "execute_result"
    }
   ],
   "source": [
    "# Slicing on the variable 'message' with only index 0 to index 5\n",
    "message[0:5]"
   ]
  },
  {
   "cell_type": "code",
   "execution_count": 45,
   "metadata": {},
   "outputs": [
    {
     "data": {
      "text/plain": [
       "'World!'"
      ]
     },
     "execution_count": 45,
     "metadata": {},
     "output_type": "execute_result"
    }
   ],
   "source": [
    "# Slicing on the variable 'message' with only index 6 to index 12\n",
    "message[6:12]"
   ]
  },
  {
   "cell_type": "markdown",
   "metadata": {},
   "source": [
    "Striding in a string"
   ]
  },
  {
   "cell_type": "code",
   "execution_count": 46,
   "metadata": {},
   "outputs": [
    {
     "data": {
      "text/plain": [
       "'HloWrd'"
      ]
     },
     "execution_count": 46,
     "metadata": {},
     "output_type": "execute_result"
    }
   ],
   "source": [
    "# to select every second element in the variable 'message'\n",
    "message[::2]"
   ]
  },
  {
   "cell_type": "code",
   "execution_count": 48,
   "metadata": {},
   "outputs": [
    {
     "data": {
      "text/plain": [
       "'Hlo'"
      ]
     },
     "execution_count": 48,
     "metadata": {},
     "output_type": "execute_result"
    }
   ],
   "source": [
    "# corporation of slicing and striding\n",
    "# get every second element in range from index 0 to index 6\n",
    "message[0:6:2]\n",
    "\n"
   ]
  },
  {
   "cell_type": "code",
   "execution_count": 49,
   "metadata": {},
   "outputs": [
    {
     "data": {
      "text/plain": [
       "'Hello World! How many people are living on the earth?'"
      ]
     },
     "execution_count": 49,
     "metadata": {},
     "output_type": "execute_result"
    }
   ],
   "source": [
    "message = 'Hello World!'\n",
    "question = ' How many people are living on the earth?'\n",
    "statement = message+question\n",
    "statement"
   ]
  },
  {
   "cell_type": "code",
   "execution_count": 50,
   "metadata": {},
   "outputs": [
    {
     "data": {
      "text/plain": [
       "' Hello World! Hello World! Hello World! Hello World!'"
      ]
     },
     "execution_count": 50,
     "metadata": {},
     "output_type": "execute_result"
    }
   ],
   "source": [
    "# printing a string for 4 times\n",
    "4*\" Hello World!\""
   ]
  },
  {
   "cell_type": "markdown",
   "metadata": {},
   "source": [
    "Escape sequences"
   ]
  },
  {
   "cell_type": "code",
   "execution_count": 51,
   "metadata": {},
   "outputs": [
    {
     "name": "stdout",
     "output_type": "stream",
     "text": [
      "Hello World! \n",
      "How many people are living on the earth?\n"
     ]
    }
   ],
   "source": [
    "# New line escape sequence\n",
    "print('Hello World! \\nHow many people are living on the earth?')"
   ]
  },
  {
   "cell_type": "code",
   "execution_count": 52,
   "metadata": {},
   "outputs": [
    {
     "name": "stdout",
     "output_type": "stream",
     "text": [
      "Hello World! \tHow many people are living on the earth?\n"
     ]
    }
   ],
   "source": [
    "# Tab escape sequence\n",
    "print('Hello World! \\tHow many people are living on the earth?')"
   ]
  },
  {
   "cell_type": "code",
   "execution_count": 53,
   "metadata": {},
   "outputs": [
    {
     "name": "stdout",
     "output_type": "stream",
     "text": [
      "Hello World! \\ How many people are living on the earth?\n",
      "Hello World! \\ How many people are living on the earth?\n"
     ]
    }
   ],
   "source": [
    "# back slash in a string\n",
    "print('Hello World! \\\\ How many people are living on the earth?')\n",
    "# r will say python that a string will be show as a raw string\n",
    "print(r'Hello World! \\ How many people are living on the earth?')"
   ]
  },
  {
   "cell_type": "markdown",
   "metadata": {},
   "source": [
    "String operations"
   ]
  },
  {
   "cell_type": "code",
   "execution_count": 54,
   "metadata": {},
   "outputs": [
    {
     "name": "stdout",
     "output_type": "stream",
     "text": [
      "Before uppercase:  hello python!\n",
      "After uppercase:  HELLO PYTHON!\n",
      "Again lowercase:  hello python!\n",
      "The first element of the string is uppercase:  Hello Python!\n"
     ]
    }
   ],
   "source": [
    "message = 'hello python!'\n",
    "print('Before uppercase: ', message )\n",
    "# convert uppercase the elements in a string\n",
    "message_upper = message.upper()\n",
    "print('After uppercase: ', message_upper)\n",
    "# convert lowercase the elements in a string\n",
    "message_lower = message.lower()\n",
    "print('Again lowercase: ', message_lower)\n",
    "# convert first letter of string to uppercase\n",
    "message_title = message.title()\n",
    "print('The first element of the string is uppercase: ', message_title)"
   ]
  },
  {
   "cell_type": "code",
   "execution_count": 55,
   "metadata": {},
   "outputs": [
    {
     "name": "stdout",
     "output_type": "stream",
     "text": [
      "Hi Python!\n",
      "Hello World!\n"
     ]
    }
   ],
   "source": [
    "# replace() method in a string\n",
    "message = 'Hello Python!'\n",
    "message_hi = message.replace('Hello', 'Hi')\n",
    "message_python = message.replace('Python', 'World')\n",
    "print(message_hi)\n",
    "print(message_python)"
   ]
  },
  {
   "cell_type": "code",
   "execution_count": 56,
   "metadata": {},
   "outputs": [
    {
     "name": "stdout",
     "output_type": "stream",
     "text": [
      "6\n"
     ]
    }
   ],
   "source": [
    "# find() method application in a string\n",
    "message = 'Hello World!'\n",
    "print(message.find('Wo'))\n",
    "# the output is the index number of the first element of the substring"
   ]
  },
  {
   "cell_type": "code",
   "execution_count": 57,
   "metadata": {},
   "outputs": [
    {
     "data": {
      "text/plain": [
       "6"
      ]
     },
     "execution_count": 57,
     "metadata": {},
     "output_type": "execute_result"
    }
   ],
   "source": [
    "# find() method application to obtain a substring in a string\n",
    "message.find('World!')"
   ]
  },
  {
   "cell_type": "code",
   "execution_count": 58,
   "metadata": {},
   "outputs": [
    {
     "data": {
      "text/plain": [
       "-1"
      ]
     },
     "execution_count": 58,
     "metadata": {},
     "output_type": "execute_result"
    }
   ],
   "source": [
    "# if cannot find the substring in a string, the output is -1.\n",
    "message.find('cndsjnd')"
   ]
  },
  {
   "cell_type": "code",
   "execution_count": 67,
   "metadata": {},
   "outputs": [
    {
     "data": {
      "text/plain": [
       "16"
      ]
     },
     "execution_count": 67,
     "metadata": {},
     "output_type": "execute_result"
    }
   ],
   "source": [
    "text = 'Jean-Paul known Nancy'\n",
    "\n",
    "# find the first index of the substring 'Nancy'\n",
    "text.find('Nancy')"
   ]
  },
  {
   "cell_type": "code",
   "execution_count": 68,
   "metadata": {},
   "outputs": [
    {
     "data": {
      "text/plain": [
       "'Jean-Paul known Nancy Lier Cosgrove Mullis'"
      ]
     },
     "execution_count": 68,
     "metadata": {},
     "output_type": "execute_result"
    }
   ],
   "source": [
    "# replace the substring 'Nancy' with 'Nancy Lier Cosgrove Mullis'\n",
    "text.replace('Nancy', 'Nancy Lier Cosgrove Mullis')"
   ]
  },
  {
   "cell_type": "code",
   "execution_count": 69,
   "metadata": {},
   "outputs": [
    {
     "data": {
      "text/plain": [
       "'jean-paul known nancy'"
      ]
     },
     "execution_count": 69,
     "metadata": {},
     "output_type": "execute_result"
    }
   ],
   "source": [
    "# convet the text to lower case\n",
    "text.lower()"
   ]
  },
  {
   "cell_type": "code",
   "execution_count": 70,
   "metadata": {},
   "outputs": [
    {
     "data": {
      "text/plain": [
       "'Jean-paul known nancy'"
      ]
     },
     "execution_count": 70,
     "metadata": {},
     "output_type": "execute_result"
    }
   ],
   "source": [
    "# convert the first letter of the text to capital letter\n",
    "text.capitalize()"
   ]
  },
  {
   "cell_type": "code",
   "execution_count": 71,
   "metadata": {},
   "outputs": [
    {
     "data": {
      "text/plain": [
       "'jean-paul known nancy'"
      ]
     },
     "execution_count": 71,
     "metadata": {},
     "output_type": "execute_result"
    }
   ],
   "source": [
    "# casefold() method returns a string where all the characters are in lower case\n",
    "text.casefold()"
   ]
  },
  {
   "cell_type": "code",
   "execution_count": 72,
   "metadata": {},
   "outputs": [
    {
     "data": {
      "text/plain": [
       "'-------------------Hallo Leute!-------------------'"
      ]
     },
     "execution_count": 72,
     "metadata": {},
     "output_type": "execute_result"
    }
   ],
   "source": [
    "# center() method will center align the string, using a specified character (space is the default) as the fill character.\n",
    "message = 'Hallo Leute!'\n",
    "message.center(50, '-')\n"
   ]
  },
  {
   "cell_type": "code",
   "execution_count": 74,
   "metadata": {},
   "outputs": [
    {
     "data": {
      "text/plain": [
       "1"
      ]
     },
     "execution_count": 74,
     "metadata": {},
     "output_type": "execute_result"
    }
   ],
   "source": [
    "# count() method returns the number of elements with the specified value\n",
    "text.count('known')"
   ]
  },
  {
   "cell_type": "code",
   "execution_count": 75,
   "metadata": {},
   "outputs": [
    {
     "name": "stdout",
     "output_type": "stream",
     "text": [
      "Hello World!\n",
      "Hi, My name is Bob and I am 36 years old.\n",
      "Hi, My name is Bob and I am 36 years old.\n",
      "Hi, My name is Bob and I am 36 years old.\n"
     ]
    }
   ],
   "source": [
    "# format() method\n",
    "\"\"\"\n",
    "The format() method formats the specified value(s) and insert them inside the string's placeholder.\n",
    "The placeholder is defined using curly brackets: {}.\n",
    "\"\"\"\n",
    "txt = \"Hello {word}\"\n",
    "print(txt.format(word = 'World!'))\n",
    "message1 = 'Hi, My name is {} and I am {} years old.'\n",
    "print(message1.format('Bob', 36))\n",
    "message2 = 'Hi, My name is {name} and I am {number} years old.'\n",
    "print(message2.format(name ='Bob', number = 36))\n",
    "message3 = 'Hi, My name is {0} and I am {1} years old.'\n",
    "print(message3.format('Bob', 36))\n"
   ]
  },
  {
   "cell_type": "markdown",
   "metadata": {},
   "source": [
    "### 3. Lists"
   ]
  },
  {
   "cell_type": "markdown",
   "metadata": {},
   "source": [
    "*Lists are ordered.\n",
    "Lists can contain any arbitrary objects.\n",
    "List elements can be accessed by index.\n",
    "Lists can be nested to arbitrary depth.\n",
    "Lists are mutable.\n",
    "Lists are dynamic.*"
   ]
  },
  {
   "cell_type": "markdown",
   "metadata": {},
   "source": [
    "Indexing"
   ]
  },
  {
   "cell_type": "code",
   "execution_count": 76,
   "metadata": {},
   "outputs": [
    {
     "data": {
      "text/plain": [
       "['python', 25, 2022]"
      ]
     },
     "execution_count": 76,
     "metadata": {},
     "output_type": "execute_result"
    }
   ],
   "source": [
    "# creatinng a list\n",
    "nlis = ['python', 25, 2022]\n",
    "nlis"
   ]
  },
  {
   "cell_type": "code",
   "execution_count": 77,
   "metadata": {},
   "outputs": [
    {
     "name": "stdout",
     "output_type": "stream",
     "text": [
      "Positive and negative indexing of the first element: \n",
      " - Positive index: python \n",
      " - Negative index: python\n",
      "\n",
      "Positive and negative indexing of the second element: \n",
      " - Positive index: 25 \n",
      " - Negative index: 25\n",
      "\n",
      "Positive and negative indexing of the third element: \n",
      " - Positive index: 2022 \n",
      " - Negative index: 2022\n"
     ]
    }
   ],
   "source": [
    "print('Positive and negative indexing of the first element: \\n - Positive index:', nlis[0], '\\n - Negative index:', nlis[-3])\n",
    "print()\n",
    "print('Positive and negative indexing of the second element: \\n - Positive index:', nlis[1], '\\n - Negative index:', nlis[-2])\n",
    "print()\n",
    "print('Positive and negative indexing of the third element: \\n - Positive index:', nlis[2], '\\n - Negative index:', nlis[-1])"
   ]
  },
  {
   "cell_type": "markdown",
   "metadata": {},
   "source": [
    "What can content a list?"
   ]
  },
  {
   "cell_type": "markdown",
   "metadata": {},
   "source": [
    "$ Strings\n",
    "Floats\n",
    "Integer\n",
    "Boolean\n",
    "Nested List\n",
    "Nested Tuple\n",
    "Other data structures$$"
   ]
  },
  {
   "cell_type": "code",
   "execution_count": 78,
   "metadata": {},
   "outputs": [
    {
     "data": {
      "text/plain": [
       "['python',\n",
       " 3.14,\n",
       " 2022,\n",
       " [1, 1, 2, 3, 5, 8, 13, 21, 34],\n",
       " ('hello', 'python', 3, 14, 2022)]"
      ]
     },
     "execution_count": 78,
     "metadata": {},
     "output_type": "execute_result"
    }
   ],
   "source": [
    "nlis = ['python', 3.14, 2022, [1, 1, 2, 3, 5, 8, 13, 21, 34], ('hello', 'python', 3,14, 2022)]\n",
    "nlis"
   ]
  },
  {
   "cell_type": "markdown",
   "metadata": {},
   "source": [
    "List operations"
   ]
  },
  {
   "cell_type": "code",
   "execution_count": 79,
   "metadata": {},
   "outputs": [
    {
     "data": {
      "text/plain": [
       "['python',\n",
       " 3.14,\n",
       " 2022,\n",
       " [1, 1, 2, 3, 5, 8, 13, 21, 34],\n",
       " ('hello', 'python', 3, 14, 2022)]"
      ]
     },
     "execution_count": 79,
     "metadata": {},
     "output_type": "execute_result"
    }
   ],
   "source": [
    "# take a list\n",
    "nlis = ['python', 3.14, 2022, [1, 1, 2, 3, 5, 8, 13, 21, 34], ('hello', 'python', 3,14, 2022)]\n",
    "nlis\n"
   ]
  },
  {
   "cell_type": "code",
   "execution_count": 80,
   "metadata": {},
   "outputs": [
    {
     "data": {
      "text/plain": [
       "5"
      ]
     },
     "execution_count": 80,
     "metadata": {},
     "output_type": "execute_result"
    }
   ],
   "source": [
    "# length of the list\n",
    "len(nlis)"
   ]
  },
  {
   "cell_type": "markdown",
   "metadata": {},
   "source": [
    "Slicing"
   ]
  },
  {
   "cell_type": "code",
   "execution_count": 81,
   "metadata": {},
   "outputs": [
    {
     "name": "stdout",
     "output_type": "stream",
     "text": [
      "['python', 3.14]\n",
      "[2022, [1, 1, 2, 3, 5, 8, 13, 21, 34]]\n",
      "[('hello', 'python', 3, 14, 2022)]\n"
     ]
    }
   ],
   "source": [
    "# slicing of a list\n",
    "print(nlis[0:2])\n",
    "print(nlis[2:4])\n",
    "print(nlis[4:6])"
   ]
  },
  {
   "cell_type": "markdown",
   "metadata": {},
   "source": [
    "Extending the list"
   ]
  },
  {
   "cell_type": "markdown",
   "metadata": {},
   "source": [
    "we use the extend() function to add a new element to the list"
   ]
  },
  {
   "cell_type": "markdown",
   "metadata": {},
   "source": [
    "With this function, we add more than one element to the list."
   ]
  },
  {
   "cell_type": "code",
   "execution_count": 82,
   "metadata": {},
   "outputs": [
    {
     "data": {
      "text/plain": [
       "['python',\n",
       " 3.14,\n",
       " 2022,\n",
       " [1, 1, 2, 3, 5, 8, 13, 21, 34],\n",
       " ('hello', 'python', 3, 14, 2022),\n",
       " 'hello world!',\n",
       " 1.618]"
      ]
     },
     "execution_count": 82,
     "metadata": {},
     "output_type": "execute_result"
    }
   ],
   "source": [
    "# take a list\n",
    "nlis = ['python', 3.14, 2022, [1, 1, 2, 3, 5, 8, 13, 21, 34], ('hello', 'python', 3,14, 2022)]\n",
    "nlis.extend(['hello world!', 1.618])\n",
    "nlis"
   ]
  },
  {
   "cell_type": "markdown",
   "metadata": {},
   "source": [
    "append() method"
   ]
  },
  {
   "cell_type": "markdown",
   "metadata": {},
   "source": [
    "As different from the extend() method, with the append() method, we add only one element to the list"
   ]
  },
  {
   "cell_type": "markdown",
   "metadata": {},
   "source": [
    "You can see the difference by comparing the above and below codes."
   ]
  },
  {
   "cell_type": "code",
   "execution_count": 83,
   "metadata": {},
   "outputs": [
    {
     "data": {
      "text/plain": [
       "['python',\n",
       " 3.14,\n",
       " 2022,\n",
       " [1, 1, 2, 3, 5, 8, 13, 21, 34],\n",
       " ('hello', 'python', 3, 14, 2022),\n",
       " ['hello world!', 1.618]]"
      ]
     },
     "execution_count": 83,
     "metadata": {},
     "output_type": "execute_result"
    }
   ],
   "source": [
    "nlis = ['python', 3.14, 2022, [1, 1, 2, 3, 5, 8, 13, 21, 34], ('hello', 'python', 3,14, 2022)]\n",
    "nlis.append(['hello world!', 1.618])\n",
    "nlis"
   ]
  },
  {
   "cell_type": "markdown",
   "metadata": {},
   "source": [
    "len(), append(), count(), index(), insert(), max(), min(), sum() functions"
   ]
  },
  {
   "cell_type": "code",
   "execution_count": 84,
   "metadata": {},
   "outputs": [
    {
     "name": "stdout",
     "output_type": "stream",
     "text": [
      "7\n",
      "[1, 2, 3, 4, 5, 6, 7, 4]\n",
      "2\n",
      "1\n",
      "[1, 2, 3, 4, 5, 6, 7, 4, 9]\n",
      "9\n",
      "1\n",
      "41\n"
     ]
    }
   ],
   "source": [
    "lis = [1,2,3,4,5,6,7]\n",
    "print(len(lis))\n",
    "lis.append(4)\n",
    "print(lis)\n",
    "print(lis.count(4)) # How many 4 are on the list 'lis'?\n",
    "print(lis.index(2)) # What is the index of the number 2 in the list 'lis'?\n",
    "lis.insert(8, 9) # Add number 9 to the index 8.\n",
    "print(lis)\n",
    "print(max(lis)) # What is the maximum number in the list?\n",
    "print(min(lis)) # What is the minimum number in the list?\n",
    "print(sum(lis)) # What is the sum of the numbers in the list? "
   ]
  },
  {
   "cell_type": "markdown",
   "metadata": {},
   "source": [
    "Changing the element of a list since it is mutable"
   ]
  },
  {
   "cell_type": "code",
   "execution_count": 85,
   "metadata": {},
   "outputs": [
    {
     "name": "stdout",
     "output_type": "stream",
     "text": [
      "Before changing: ['python', 3.14, 2022, [1, 1, 2, 3, 5, 8, 13, 21, 34], ('hello', 'python', 3, 14, 2022)]\n",
      "After changing: ['hello python!', 3.14, 2022, [1, 1, 2, 3, 5, 8, 13, 21, 34], ('hello', 'python', 3, 14, 2022)]\n",
      "After changing: ['hello python!', 1.618, 2022, [1, 1, 2, 3, 5, 8, 13, 21, 34], ('hello', 'python', 3, 14, 2022)]\n",
      "After changing: ['hello python!', 1.618, [3.14, 2022], [1, 1, 2, 3, 5, 8, 13, 21, 34], ('hello', 'python', 3, 14, 2022)]\n"
     ]
    }
   ],
   "source": [
    "nlis = ['python', 3.14, 2022, [1, 1, 2, 3, 5, 8, 13, 21, 34], ('hello', 'python', 3,14, 2022)]\n",
    "print('Before changing:', nlis)\n",
    "nlis[0] = 'hello python!'\n",
    "print('After changing:', nlis)\n",
    "nlis[1] = 1.618\n",
    "print('After changing:', nlis)\n",
    "nlis[2] = [3.14, 2022]\n",
    "print('After changing:', nlis)"
   ]
  },
  {
   "cell_type": "markdown",
   "metadata": {},
   "source": [
    "Deleting the element from the list using del() function"
   ]
  },
  {
   "cell_type": "code",
   "execution_count": 86,
   "metadata": {},
   "outputs": [
    {
     "name": "stdout",
     "output_type": "stream",
     "text": [
      "Before changing: ['hello python!', 1.618, [3.14, 2022], [1, 1, 2, 3, 5, 8, 13, 21, 34], ('hello', 'python', 3, 14, 2022)]\n",
      "After changing: [1.618, [3.14, 2022], [1, 1, 2, 3, 5, 8, 13, 21, 34], ('hello', 'python', 3, 14, 2022)]\n",
      "After changing: [1.618, [3.14, 2022], [1, 1, 2, 3, 5, 8, 13, 21, 34]]\n"
     ]
    }
   ],
   "source": [
    "print('Before changing:', nlis)\n",
    "del(nlis[0])\n",
    "print('After changing:', nlis)\n",
    "del(nlis[-1])\n",
    "print('After changing:', nlis)"
   ]
  },
  {
   "cell_type": "code",
   "execution_count": 87,
   "metadata": {},
   "outputs": [
    {
     "name": "stdout",
     "output_type": "stream",
     "text": [
      "Before deleting: ['python', 3.14, 2022, [1, 1, 2, 3, 5, 8, 13, 21, 34], ('hello', 'python', 3, 14, 2022)]\n"
     ]
    },
    {
     "ename": "NameError",
     "evalue": "name 'nlis' is not defined",
     "output_type": "error",
     "traceback": [
      "\u001b[1;31m---------------------------------------------------------------------------\u001b[0m",
      "\u001b[1;31mNameError\u001b[0m                                 Traceback (most recent call last)",
      "\u001b[1;32m~\\AppData\\Local\\Temp\\ipykernel_9392\\2190443850.py\u001b[0m in \u001b[0;36m<module>\u001b[1;34m\u001b[0m\n\u001b[0;32m      2\u001b[0m \u001b[0mprint\u001b[0m\u001b[1;33m(\u001b[0m\u001b[1;34m'Before deleting:'\u001b[0m\u001b[1;33m,\u001b[0m \u001b[0mnlis\u001b[0m\u001b[1;33m)\u001b[0m\u001b[1;33m\u001b[0m\u001b[1;33m\u001b[0m\u001b[0m\n\u001b[0;32m      3\u001b[0m \u001b[1;32mdel\u001b[0m \u001b[0mnlis\u001b[0m\u001b[1;33m\u001b[0m\u001b[1;33m\u001b[0m\u001b[0m\n\u001b[1;32m----> 4\u001b[1;33m \u001b[0mprint\u001b[0m\u001b[1;33m(\u001b[0m\u001b[1;34m'After deleting:'\u001b[0m\u001b[1;33m,\u001b[0m \u001b[0mnlis\u001b[0m\u001b[1;33m)\u001b[0m\u001b[1;33m\u001b[0m\u001b[1;33m\u001b[0m\u001b[0m\n\u001b[0m",
      "\u001b[1;31mNameError\u001b[0m: name 'nlis' is not defined"
     ]
    }
   ],
   "source": [
    "nlis = ['python', 3.14, 2022, [1, 1, 2, 3, 5, 8, 13, 21, 34], ('hello', 'python', 3,14, 2022)]\n",
    "print('Before deleting:', nlis)\n",
    "del nlis\n",
    "print('After deleting:', nlis)"
   ]
  },
  {
   "cell_type": "markdown",
   "metadata": {},
   "source": [
    "Conversion of a string into a list using split() function"
   ]
  },
  {
   "cell_type": "code",
   "execution_count": 88,
   "metadata": {},
   "outputs": [
    {
     "data": {
      "text/plain": [
       "['Python', 'is', 'a', 'programming', 'language.']"
      ]
     },
     "execution_count": 88,
     "metadata": {},
     "output_type": "execute_result"
    }
   ],
   "source": [
    "message = 'Python is a programming language.'\n",
    "message.split()\n"
   ]
  },
  {
   "cell_type": "markdown",
   "metadata": {},
   "source": [
    "Use of split() function with a delimiter"
   ]
  },
  {
   "cell_type": "code",
   "execution_count": 89,
   "metadata": {},
   "outputs": [
    {
     "data": {
      "text/plain": [
       "['p', 'y', 't', 'h', 'o', 'n']"
      ]
     },
     "execution_count": 89,
     "metadata": {},
     "output_type": "execute_result"
    }
   ],
   "source": [
    "text = 'p,y,t,h,o,n'\n",
    "text.split(\",\" )"
   ]
  },
  {
   "cell_type": "markdown",
   "metadata": {},
   "source": [
    "Basic operations"
   ]
  },
  {
   "cell_type": "code",
   "execution_count": 90,
   "metadata": {},
   "outputs": [
    {
     "name": "stdout",
     "output_type": "stream",
     "text": [
      "4\n",
      "6\n",
      "['a', 'b', 'hello', 'Python', 1, 2, 3, 4, 5, 6]\n",
      "['a', 'b', 'hello', 'Python', 'a', 'b', 'hello', 'Python', 'a', 'b', 'hello', 'Python']\n",
      "[1, 2, 3, 4, 5, 6, 1, 2, 3, 4, 5, 6, 1, 2, 3, 4, 5, 6]\n",
      "a\n",
      "b\n",
      "hello\n",
      "Python\n",
      "1\n",
      "2\n",
      "3\n",
      "4\n",
      "5\n",
      "6\n",
      "False\n",
      "True\n"
     ]
    }
   ],
   "source": [
    "nlis_1 = ['a', 'b', 'hello', 'Python']\n",
    "nlis_2 = [1,2,3,4, 5, 6]\n",
    "print(len(nlis_1))\n",
    "print(len(nlis_2))\n",
    "print(nlis_1+nlis_2)\n",
    "print(nlis_1*3)\n",
    "print(nlis_2*3)\n",
    "for i in nlis_1:\n",
    " print(i)\n",
    "for i in nlis_2:\n",
    " print(i)\n",
    "print(4 in nlis_1)\n",
    "print(4 in nlis_2)"
   ]
  },
  {
   "cell_type": "markdown",
   "metadata": {},
   "source": [
    "Copy the list"
   ]
  },
  {
   "cell_type": "code",
   "execution_count": 91,
   "metadata": {},
   "outputs": [
    {
     "name": "stdout",
     "output_type": "stream",
     "text": [
      "nlis: ['python', 3.14, 2022, [1, 1, 2, 3, 5, 8, 13, 21, 34], ('hello', 'python', 3, 14, 2022)]\n",
      "copy_list: ['python', 3.14, 2022, [1, 1, 2, 3, 5, 8, 13, 21, 34], ('hello', 'python', 3, 14, 2022)]\n"
     ]
    }
   ],
   "source": [
    "nlis = ['python', 3.14, 2022, [1, 1, 2, 3, 5, 8, 13, 21, 34], ('hello', 'python', 3,14, 2022)]\n",
    "copy_list = nlis\n",
    "print('nlis:', nlis)\n",
    "print('copy_list:', copy_list)"
   ]
  },
  {
   "cell_type": "code",
   "execution_count": 92,
   "metadata": {},
   "outputs": [
    {
     "name": "stdout",
     "output_type": "stream",
     "text": [
      "['python', 3.14, 2022, [1, 1, 2, 3, 5, 8, 13, 21, 34], ('hello', 'python', 3, 14, 2022)]\n",
      "['python', 3.14, 2022, [1, 1, 2, 3, 5, 8, 13, 21, 34], ('hello', 'python', 3, 14, 2022)]\n",
      "copy_list[0]: python\n",
      "copy_list[0]: hello python!\n"
     ]
    }
   ],
   "source": [
    "# The element in the copied list also changes when the element in the original list was changed.\n",
    "# See the following example\n",
    "nlis = ['python', 3.14, 2022, [1, 1, 2, 3, 5, 8, 13, 21, 34], ('hello', 'python', 3,14, 2022)]\n",
    "print(nlis)\n",
    "copy_list = nlis\n",
    "print(copy_list)\n",
    "print('copy_list[0]:', copy_list[0])\n",
    "nlis[0] = 'hello python!'\n",
    "print('copy_list[0]:', copy_list[0])\n"
   ]
  },
  {
   "cell_type": "markdown",
   "metadata": {},
   "source": [
    "Clone the list"
   ]
  },
  {
   "cell_type": "code",
   "execution_count": 93,
   "metadata": {},
   "outputs": [
    {
     "data": {
      "text/plain": [
       "['python',\n",
       " 3.14,\n",
       " 2022,\n",
       " [1, 1, 2, 3, 5, 8, 13, 21, 34],\n",
       " ('hello', 'python', 3, 14, 2022)]"
      ]
     },
     "execution_count": 93,
     "metadata": {},
     "output_type": "execute_result"
    }
   ],
   "source": [
    "# The cloned list is a new copy or clone of the original list.\n",
    "nlis = ['python', 3.14, 2022, [1, 1, 2, 3, 5, 8, 13, 21, 34], ('hello', 'python', 3,14, 2022)]\n",
    "clone_lis = nlis[:]\n",
    "clone_lis"
   ]
  },
  {
   "cell_type": "code",
   "execution_count": 94,
   "metadata": {},
   "outputs": [
    {
     "name": "stdout",
     "output_type": "stream",
     "text": [
      "['python', 3.14, 2022, [1, 1, 2, 3, 5, 8, 13, 21, 34], ('hello', 'python', 3, 14, 2022)]\n",
      "['python', 3.14, 2022, [1, 1, 2, 3, 5, 8, 13, 21, 34], ('hello', 'python', 3, 14, 2022)]\n",
      "clone_list[0]: python\n",
      "nlis[0]: hello, python!\n"
     ]
    }
   ],
   "source": [
    "# When an element in the original list is changed, the element in the cloned list does not change.\n",
    "nlis = ['python', 3.14, 2022, [1, 1, 2, 3, 5, 8, 13, 21, 34], ('hello', 'python', 3,14, 2022)]\n",
    "print(nlis)\n",
    "clone_list = nlis[:]\n",
    "print(clone_list)\n",
    "print('clone_list[0]:', clone_list[0])\n",
    "nlis[0] = 'hello, python!'\n",
    "print('nlis[0]:', nlis[0])"
   ]
  },
  {
   "cell_type": "markdown",
   "metadata": {},
   "source": [
    "Concatenate the list"
   ]
  },
  {
   "cell_type": "code",
   "execution_count": 95,
   "metadata": {},
   "outputs": [
    {
     "name": "stdout",
     "output_type": "stream",
     "text": [
      "['a', 'b', ['c', 'd'], 'e', 1, 2, 3, 4, 5, (6, 7), True, False]\n"
     ]
    }
   ],
   "source": [
    "a_list = ['a', 'b', ['c', 'd'], 'e']\n",
    "b_list = [1,2,3,4,5,(6,7), True, False]\n",
    "new_list = a_list + b_list\n",
    "print(new_list)\n"
   ]
  },
  {
   "cell_type": "markdown",
   "metadata": {},
   "source": [
    "As different from the list, I also find significant the following information."
   ]
  },
  {
   "cell_type": "markdown",
   "metadata": {},
   "source": [
    "input() function --------------------------------\n",
    "input() function in Python provides a user of a program supply inputs to the program at runtime"
   ]
  },
  {
   "cell_type": "code",
   "execution_count": 96,
   "metadata": {},
   "outputs": [
    {
     "name": "stdout",
     "output_type": "stream",
     "text": [
      "The text is vinaya\n",
      "<class 'str'>\n"
     ]
    }
   ],
   "source": [
    "text = input('Enter a string:')\n",
    "print('The text is', text)\n",
    "print(type(text))"
   ]
  },
  {
   "cell_type": "code",
   "execution_count": 97,
   "metadata": {},
   "outputs": [
    {
     "name": "stdout",
     "output_type": "stream",
     "text": [
      "The number is 4\n",
      "<class 'str'>\n"
     ]
    }
   ],
   "source": [
    "# Although the function wants an integer, the type of the entered number is a string.\n",
    "number = input('Enter an integer: ')\n",
    "print('The number is', number)\n",
    "print(type(number))\n"
   ]
  },
  {
   "cell_type": "code",
   "execution_count": 98,
   "metadata": {},
   "outputs": [
    {
     "name": "stdout",
     "output_type": "stream",
     "text": [
      "The number is 9\n",
      "<class 'int'>\n"
     ]
    }
   ],
   "source": [
    "number = int(input('Enter an integer:'))\n",
    "print('The number is', number)\n",
    "print(type(number))"
   ]
  },
  {
   "cell_type": "code",
   "execution_count": 99,
   "metadata": {},
   "outputs": [
    {
     "name": "stdout",
     "output_type": "stream",
     "text": [
      "The number is 9.0\n",
      "<class 'float'>\n"
     ]
    }
   ],
   "source": [
    "number = float(input('Enter an integer:'))\n",
    "print('The number is', number)\n",
    "print(type(number))"
   ]
  },
  {
   "cell_type": "markdown",
   "metadata": {},
   "source": [
    "eval() functions"
   ]
  },
  {
   "cell_type": "markdown",
   "metadata": {},
   "source": [
    "*This function serves the aim of converting a string to an integer or a float"
   ]
  },
  {
   "cell_type": "code",
   "execution_count": 100,
   "metadata": {},
   "outputs": [
    {
     "name": "stdout",
     "output_type": "stream",
     "text": [
      "Sum of the expression is 15\n",
      "<class 'str'>\n",
      "<class 'int'>\n"
     ]
    }
   ],
   "source": [
    "expression = '8+7'\n",
    "total = eval(expression)\n",
    "print('Sum of the expression is', total)\n",
    "print(type(expression))\n",
    "print(type(total))\n"
   ]
  },
  {
   "cell_type": "markdown",
   "metadata": {},
   "source": [
    "format() function"
   ]
  },
  {
   "cell_type": "markdown",
   "metadata": {},
   "source": [
    "This function helps to format the output printed on the secreen with good look and attractive.\n"
   ]
  },
  {
   "cell_type": "code",
   "execution_count": 101,
   "metadata": {},
   "outputs": [
    {
     "name": "stdout",
     "output_type": "stream",
     "text": [
      "Sum of 3.14 and 4.0 is 7.140000000000001.\n"
     ]
    }
   ],
   "source": [
    "a = float(input('Enter the pi number:'))\n",
    "b = float(input('Enter the golden ratio:'))\n",
    "total = a + b\n",
    "print('Sum of {} and {} is {}.'.format(a, b, total))"
   ]
  },
  {
   "cell_type": "code",
   "execution_count": 102,
   "metadata": {},
   "outputs": [
    {
     "name": "stdout",
     "output_type": "stream",
     "text": [
      "I like strawbery and dosa.\n",
      "I like strawbery and dosa.\n",
      "I like dosa and strawbery.\n"
     ]
    }
   ],
   "source": [
    "a = input('Enter your favorite fruit:')\n",
    "b = input('Enter your favorite food:')\n",
    "print('I like {} and {}.'.format(a, b))\n",
    "print('I like {0} and {1}.'.format(a, b))\n",
    "print('I like {1} and {0}.'.format(a, b))"
   ]
  },
  {
   "cell_type": "markdown",
   "metadata": {},
   "source": [
    "Comparison operators"
   ]
  },
  {
   "cell_type": "markdown",
   "metadata": {},
   "source": [
    "The operators such as <, >, <=, >=, ==, and != compare the certain two operands and return True or False."
   ]
  },
  {
   "cell_type": "code",
   "execution_count": 103,
   "metadata": {},
   "outputs": [
    {
     "name": "stdout",
     "output_type": "stream",
     "text": [
      "a>b is: True\n",
      "a<b is: False\n",
      "a<=b is: False\n",
      "a>=b is: True\n",
      "a==b is: False\n",
      "a!=b is: True\n"
     ]
    }
   ],
   "source": [
    "a = 3.14\n",
    "b = 1.618\n",
    "print('a>b is:', a>b)\n",
    "print('a<b is:', a<b)\n",
    "print('a<=b is:', a<=b)\n",
    "print('a>=b is:', a>=b)\n",
    "print('a==b is:', a==b)\n",
    "print('a!=b is:', a!=b)\n"
   ]
  },
  {
   "cell_type": "markdown",
   "metadata": {},
   "source": [
    "Logical operators"
   ]
  },
  {
   "cell_type": "markdown",
   "metadata": {},
   "source": [
    "The operators including and, or, not are utilized to bring two conditions together and assess them. The\n",
    "output returns True or False"
   ]
  },
  {
   "cell_type": "code",
   "execution_count": 104,
   "metadata": {},
   "outputs": [
    {
     "name": "stdout",
     "output_type": "stream",
     "text": [
      "True\n",
      "False\n",
      "True\n",
      "True\n",
      "False\n"
     ]
    }
   ],
   "source": [
    "a = 3.14\n",
    "b = 1.618\n",
    "c = 12\n",
    "d = 3.14\n",
    "print(a>b and c>a)\n",
    "print(b>c and d>a)\n",
    "print(b<c or d>a)\n",
    "print( not a==b)\n",
    "print(not a==d)\n"
   ]
  },
  {
   "cell_type": "markdown",
   "metadata": {},
   "source": [
    "Assignment operators"
   ]
  },
  {
   "cell_type": "markdown",
   "metadata": {},
   "source": [
    "The operators including =, +=, -=, =, /=, %=, //=, *=, &=, |=, ^=, >>=, and <<= are employed to evaluate a\n",
    "value to a variable.\n"
   ]
  },
  {
   "cell_type": "code",
   "execution_count": 105,
   "metadata": {},
   "outputs": [
    {
     "name": "stdout",
     "output_type": "stream",
     "text": [
      "8.14\n"
     ]
    }
   ],
   "source": [
    "x = 3.14\n",
    "x+=5\n",
    "print(x)"
   ]
  },
  {
   "cell_type": "code",
   "execution_count": 106,
   "metadata": {},
   "outputs": [
    {
     "name": "stdout",
     "output_type": "stream",
     "text": [
      "-1.8599999999999999\n"
     ]
    }
   ],
   "source": [
    "x = 3.14\n",
    "x-=5\n",
    "print(x)"
   ]
  },
  {
   "cell_type": "code",
   "execution_count": 107,
   "metadata": {},
   "outputs": [
    {
     "name": "stdout",
     "output_type": "stream",
     "text": [
      "15.700000000000001\n"
     ]
    }
   ],
   "source": [
    "x = 3.14\n",
    "x*=5\n",
    "print(x)"
   ]
  },
  {
   "cell_type": "code",
   "execution_count": 108,
   "metadata": {},
   "outputs": [
    {
     "name": "stdout",
     "output_type": "stream",
     "text": [
      "0.628\n"
     ]
    }
   ],
   "source": [
    "x = 3.14\n",
    "x/=5\n",
    "print(x)"
   ]
  },
  {
   "cell_type": "code",
   "execution_count": 109,
   "metadata": {},
   "outputs": [
    {
     "name": "stdout",
     "output_type": "stream",
     "text": [
      "3.14\n"
     ]
    }
   ],
   "source": [
    "x = 3.14\n",
    "x%=5\n",
    "print(x)"
   ]
  },
  {
   "cell_type": "code",
   "execution_count": 110,
   "metadata": {},
   "outputs": [
    {
     "name": "stdout",
     "output_type": "stream",
     "text": [
      "0.0\n"
     ]
    }
   ],
   "source": [
    "x = 3.14\n",
    "x//=5\n",
    "print(x)"
   ]
  },
  {
   "cell_type": "code",
   "execution_count": 111,
   "metadata": {},
   "outputs": [
    {
     "name": "stdout",
     "output_type": "stream",
     "text": [
      "305.2447761824001\n"
     ]
    }
   ],
   "source": [
    "x = 3.14\n",
    "x**=5\n",
    "print(x)"
   ]
  },
  {
   "cell_type": "markdown",
   "metadata": {},
   "source": [
    "Identity operators"
   ]
  },
  {
   "cell_type": "markdown",
   "metadata": {},
   "source": [
    "The operators is or is not are employed to control if the operands or objects to the left and right of these\n",
    "operators are referring to a value stored in the same momory location and return True or False."
   ]
  },
  {
   "cell_type": "code",
   "execution_count": 112,
   "metadata": {},
   "outputs": [
    {
     "name": "stdout",
     "output_type": "stream",
     "text": [
      "False\n",
      "True\n",
      "False\n",
      "True\n",
      "False\n",
      "True\n"
     ]
    }
   ],
   "source": [
    "a = 3.14\n",
    "b = 1.618\n",
    "print(a is b)\n",
    "print(a is not b)\n",
    "msg1= 'Hello, Python!'\n",
    "msg2 = 'Hello, World!'\n",
    "print(msg1 is msg2)\n",
    "print(msg1 is not msg2)\n",
    "lis1 = [3.14, 1.618]\n",
    "lis2 = [3.14, 1.618]\n",
    "print(lis1 is lis2) # You should see a list copy behavior\n",
    "print(lis1 is not lis2)"
   ]
  },
  {
   "cell_type": "markdown",
   "metadata": {},
   "source": [
    "Membership operators"
   ]
  },
  {
   "cell_type": "markdown",
   "metadata": {},
   "source": [
    "**These operators inclusing in and not in are employed to check if the certain value is available in the\n",
    "sequence of values and return True or False.\n",
    "*"
   ]
  },
  {
   "cell_type": "code",
   "execution_count": 113,
   "metadata": {},
   "outputs": [
    {
     "name": "stdout",
     "output_type": "stream",
     "text": [
      "False\n",
      "False\n",
      "True\n",
      "True\n"
     ]
    }
   ],
   "source": [
    "# take a list\n",
    "nlis = [4, 6, 7, 8, 'hello', (4,5), {'name': 'Python'}, {1,2,3}, [1,2,3]]\n",
    "print(5 in nlis)\n",
    "print(4 not in nlis)\n",
    "print((4,5) in nlis)\n",
    "print(9 not in nlis)"
   ]
  },
  {
   "cell_type": "markdown",
   "metadata": {},
   "source": [
    "### 4. Tuples in Python"
   ]
  },
  {
   "cell_type": "markdown",
   "metadata": {},
   "source": [
    "Tuples are immutable lists and cannot be changed in any way once it is created."
   ]
  },
  {
   "cell_type": "markdown",
   "metadata": {},
   "source": [
    "# *Tuples are defined in the same way as lists.\n",
    "*They are enclosed within parenthesis and not within square braces.\n",
    "*Tuples are ordered, indexed collections of data.\n",
    "*Similar to string indices, the first value in the tuple will have the index [0], the second value [1]\n",
    "*Negative indices are counted from the end of the tuple, just like lists.\n",
    "*Tuple also has the same structure where commas separate the values.\n",
    "*Tuples can store duplicate values.\n",
    "*Tuples allow you to store several data items including string, integer, float in one variable."
   ]
  },
  {
   "cell_type": "code",
   "execution_count": 114,
   "metadata": {},
   "outputs": [
    {
     "data": {
      "text/plain": [
       "('Hello',\n",
       " 'Python',\n",
       " 3.14,\n",
       " 1.618,\n",
       " True,\n",
       " False,\n",
       " 32,\n",
       " [1, 2, 3],\n",
       " {1, 2, 3},\n",
       " {'A': 3, 'B': 8},\n",
       " (0, 1))"
      ]
     },
     "execution_count": 114,
     "metadata": {},
     "output_type": "execute_result"
    }
   ],
   "source": [
    "# Take a tuple\n",
    "tuple_1 = ('Hello', 'Python', 3.14, 1.618, True, False, 32, [1,2,3], {1,2,3}, {'A': 3, 'B': 8}, (0, 1))\n",
    "tuple_1"
   ]
  },
  {
   "cell_type": "code",
   "execution_count": 115,
   "metadata": {},
   "outputs": [
    {
     "name": "stdout",
     "output_type": "stream",
     "text": [
      "<class 'tuple'>\n",
      "11\n"
     ]
    }
   ],
   "source": [
    "print(type(tuple_1))\n",
    "print(len(tuple_1))"
   ]
  },
  {
   "cell_type": "markdown",
   "metadata": {},
   "source": [
    "Indexing"
   ]
  },
  {
   "cell_type": "code",
   "execution_count": 116,
   "metadata": {},
   "outputs": [
    {
     "name": "stdout",
     "output_type": "stream",
     "text": [
      "Hello\n",
      "Python\n",
      "3.14\n",
      "(0, 1)\n",
      "{'A': 3, 'B': 8}\n",
      "{1, 2, 3}\n"
     ]
    }
   ],
   "source": [
    "# Printing the each value in a tuple using both positive and negative indexing\n",
    "tuple_1 = ('Hello', 'Python', 3.14, 1.618, True, False, 32, [1,2,3], {1,2,3}, {'A': 3, 'B': 8}, (0, 1))\n",
    "print(tuple_1[0])\n",
    "print(tuple_1[1])\n",
    "print(tuple_1[2])\n",
    "print(tuple_1[-1])\n",
    "print(tuple_1[-2])\n",
    "print(tuple_1[-3])"
   ]
  },
  {
   "cell_type": "code",
   "execution_count": 117,
   "metadata": {},
   "outputs": [
    {
     "name": "stdout",
     "output_type": "stream",
     "text": [
      "<class 'str'>\n",
      "<class 'float'>\n",
      "<class 'bool'>\n",
      "<class 'int'>\n",
      "<class 'list'>\n",
      "<class 'set'>\n",
      "<class 'dict'>\n",
      "<class 'tuple'>\n"
     ]
    }
   ],
   "source": [
    "# Printing the type of each value in the tuple\n",
    "tuple_1 = ('Hello', 'Python', 3.14, 1.618, True, False, 32, [1,2,3], {1,2,3}, {'A': 3, 'B': 8}, (0, 1))\n",
    "print(type(tuple_1[0]))\n",
    "print(type(tuple_1[2]))\n",
    "print(type(tuple_1[4]))\n",
    "print(type(tuple_1[6]))\n",
    "print(type(tuple_1[7]))\n",
    "print(type(tuple_1[8]))\n",
    "print(type(tuple_1[9]))\n",
    "print(type(tuple_1[10]))\n"
   ]
  },
  {
   "cell_type": "markdown",
   "metadata": {},
   "source": [
    "Concatenation of tuples"
   ]
  },
  {
   "cell_type": "markdown",
   "metadata": {},
   "source": [
    "To concatenate tuples, + sign is used"
   ]
  },
  {
   "cell_type": "code",
   "execution_count": 118,
   "metadata": {},
   "outputs": [
    {
     "data": {
      "text/plain": [
       "('Hello',\n",
       " 'Python',\n",
       " 3.14,\n",
       " 1.618,\n",
       " True,\n",
       " False,\n",
       " 32,\n",
       " [1, 2, 3],\n",
       " {1, 2, 3},\n",
       " {'A': 3, 'B': 8},\n",
       " (0, 1),\n",
       " 'Hello World!',\n",
       " 2022)"
      ]
     },
     "execution_count": 118,
     "metadata": {},
     "output_type": "execute_result"
    }
   ],
   "source": [
    "tuple_2 = tuple_1 + ('Hello World!', 2022)\n",
    "tuple_2"
   ]
  },
  {
   "cell_type": "markdown",
   "metadata": {},
   "source": [
    "Repetition of a tuple"
   ]
  },
  {
   "cell_type": "code",
   "execution_count": 119,
   "metadata": {},
   "outputs": [
    {
     "data": {
      "text/plain": [
       "(1, 2, 3, 4, 1, 2, 3, 4)"
      ]
     },
     "execution_count": 119,
     "metadata": {},
     "output_type": "execute_result"
    }
   ],
   "source": [
    "rep_tup = (1,2,3,4)\n",
    "rep_tup*2"
   ]
  },
  {
   "cell_type": "markdown",
   "metadata": {},
   "source": [
    "Membership"
   ]
  },
  {
   "cell_type": "code",
   "execution_count": 120,
   "metadata": {},
   "outputs": [
    {
     "name": "stdout",
     "output_type": "stream",
     "text": [
      "True\n",
      "False\n",
      "False\n",
      "True\n"
     ]
    }
   ],
   "source": [
    "rep_tup = (1,2,3,4)\n",
    "print(2 in rep_tup)\n",
    "print(2 not in rep_tup)\n",
    "print(5 in rep_tup)\n",
    "print(5 not in rep_tup)"
   ]
  },
  {
   "cell_type": "markdown",
   "metadata": {},
   "source": [
    "Iteration"
   ]
  },
  {
   "cell_type": "code",
   "execution_count": 121,
   "metadata": {},
   "outputs": [
    {
     "name": "stdout",
     "output_type": "stream",
     "text": [
      "1\n",
      "2\n",
      "3\n",
      "4\n"
     ]
    }
   ],
   "source": [
    "rep_tup = (1,2,3,4)\n",
    "for i in rep_tup:\n",
    " print(i)"
   ]
  },
  {
   "cell_type": "markdown",
   "metadata": {},
   "source": [
    "cmp() function"
   ]
  },
  {
   "cell_type": "markdown",
   "metadata": {},
   "source": [
    "It is to compare two tuples and returs True or False"
   ]
  },
  {
   "cell_type": "code",
   "execution_count": 122,
   "metadata": {},
   "outputs": [
    {
     "name": "stdout",
     "output_type": "stream",
     "text": [
      "-1\n",
      "1\n",
      "0\n"
     ]
    }
   ],
   "source": [
    "def cmp(t1, t2):\n",
    " return bool(t1 > t2) - bool(t1 < t2)\n",
    "def cmp(t31, t4):\n",
    " return bool(t3 > t4) - bool(t3 < t4)\n",
    "def cmp(t5, t6):\n",
    " return bool(t5 > t6) - bool(t5 < t6)\n",
    "t1 = (1,3,5) # Here t1 is lower than t2, since the output is -1\n",
    "t2 = (2,4,6)\n",
    "t3 = (5,) # Here t3 is higher than t4 since the output is 1\n",
    "t4 = (4,)\n",
    "t5 = (3.14,) # Here t5 is equal to t6 since the output is 0\n",
    "t6 = (3.14,)\n",
    "print(cmp(t1, t2))\n",
    "print(cmp(t3, t4))\n",
    "print(cmp(t5, t6))"
   ]
  },
  {
   "cell_type": "markdown",
   "metadata": {},
   "source": [
    "min() function"
   ]
  },
  {
   "cell_type": "code",
   "execution_count": 123,
   "metadata": {},
   "outputs": [
    {
     "data": {
      "text/plain": [
       "1"
      ]
     },
     "execution_count": 123,
     "metadata": {},
     "output_type": "execute_result"
    }
   ],
   "source": [
    "rep_tup = (1,2,3,4)\n",
    "min(rep_tup)"
   ]
  },
  {
   "cell_type": "markdown",
   "metadata": {},
   "source": [
    "max() function"
   ]
  },
  {
   "cell_type": "code",
   "execution_count": 124,
   "metadata": {},
   "outputs": [
    {
     "data": {
      "text/plain": [
       "4"
      ]
     },
     "execution_count": 124,
     "metadata": {},
     "output_type": "execute_result"
    }
   ],
   "source": [
    "rep_tup = (1,2,3,4)\n",
    "max(rep_tup)"
   ]
  },
  {
   "cell_type": "markdown",
   "metadata": {},
   "source": [
    "tup(seq) function"
   ]
  },
  {
   "cell_type": "markdown",
   "metadata": {},
   "source": [
    "It converts a specific sequence to a tuple"
   ]
  },
  {
   "cell_type": "code",
   "execution_count": 125,
   "metadata": {},
   "outputs": [
    {
     "data": {
      "text/plain": [
       "('A', 'T', 'G', 'C', 'G', 'T', 'A', 'T', 'T', 'G', 'C', 'C', 'A', 'T')"
      ]
     },
     "execution_count": 125,
     "metadata": {},
     "output_type": "execute_result"
    }
   ],
   "source": [
    "seq = 'ATGCGTATTGCCAT'\n",
    "tuple(seq)"
   ]
  },
  {
   "cell_type": "markdown",
   "metadata": {},
   "source": [
    "###### Slicing\n",
    "To obtain a new tuple from the current tuple, the slicing method is used.\n"
   ]
  },
  {
   "cell_type": "code",
   "execution_count": 126,
   "metadata": {},
   "outputs": [
    {
     "data": {
      "text/plain": [
       "(3.14, 1.618, True, False, 32)"
      ]
     },
     "execution_count": 126,
     "metadata": {},
     "output_type": "execute_result"
    }
   ],
   "source": [
    "# Obtaining a new tuple from the index 2 to index 6\n",
    "tuple_1 = ('Hello', 'Python', 3.14, 1.618, True, False, 32, [1,2,3], {1,2,3}, {'A': 3, 'B': 8}, (0, 1))\n",
    "tuple_1[2:7]"
   ]
  },
  {
   "cell_type": "code",
   "execution_count": 127,
   "metadata": {},
   "outputs": [
    {
     "data": {
      "text/plain": [
       "([1, 2, 3], {1, 2, 3}, {'A': 3, 'B': 8})"
      ]
     },
     "execution_count": 127,
     "metadata": {},
     "output_type": "execute_result"
    }
   ],
   "source": [
    "# Obtaining tuple using negative indexing\n",
    "tuple_1 = ('Hello', 'Python', 3.14, 1.618, True, False, 32, [1,2,3], {1,2,3}, {'A': 3, 'B': 8}, (0, 1))\n",
    "tuple_1[-4:-1]\n"
   ]
  },
  {
   "cell_type": "markdown",
   "metadata": {},
   "source": [
    "##### len() function\n",
    "To obtain how many elements there are in the tuple, use len() function"
   ]
  },
  {
   "cell_type": "code",
   "execution_count": 128,
   "metadata": {},
   "outputs": [
    {
     "data": {
      "text/plain": [
       "11"
      ]
     },
     "execution_count": 128,
     "metadata": {},
     "output_type": "execute_result"
    }
   ],
   "source": [
    "tuple_1 = ('Hello', 'Python', 3.14, 1.618, True, False, 32, [1,2,3], {1,2,3}, {'A': 3, 'B': 8}, (0, 1))\n",
    "len(tuple_1)"
   ]
  },
  {
   "cell_type": "markdown",
   "metadata": {},
   "source": [
    "Sorting tuple"
   ]
  },
  {
   "cell_type": "code",
   "execution_count": 129,
   "metadata": {},
   "outputs": [
    {
     "data": {
      "text/plain": [
       "[0, 1, 2, 3, 4, 6, 7, 8, 9, 9]"
      ]
     },
     "execution_count": 129,
     "metadata": {},
     "output_type": "execute_result"
    }
   ],
   "source": [
    "# Tuples can be sorted and save as a new tuple.\n",
    "tuple_3 = (0,9,7,4,6,2,9,8,3,1)\n",
    "sorted_tuple_3 = sorted(tuple_3)\n",
    "sorted_tuple_3"
   ]
  },
  {
   "cell_type": "markdown",
   "metadata": {},
   "source": [
    "#### Nested tuple\n",
    "In Python, a tuple written inside another tuple is known as a nested tuple."
   ]
  },
  {
   "cell_type": "code",
   "execution_count": 130,
   "metadata": {},
   "outputs": [
    {
     "data": {
      "text/plain": [
       "('biotechnology',\n",
       " (0, 5),\n",
       " ('fermentation', 'ethanol'),\n",
       " (3.14, 'pi', (1.618, 'golden ratio')))"
      ]
     },
     "execution_count": 130,
     "metadata": {},
     "output_type": "execute_result"
    }
   ],
   "source": [
    "# Take a nested tuple\n",
    "nested_tuple =('biotechnology', (0, 5), ('fermentation', 'ethanol'), (3.14, 'pi', (1.618, 'golden ratio')) )\n",
    "nested_tuple"
   ]
  },
  {
   "cell_type": "code",
   "execution_count": 131,
   "metadata": {},
   "outputs": [
    {
     "name": "stdout",
     "output_type": "stream",
     "text": [
      "Item 0 of nested tuple is biotechnology\n",
      "Item 1 of nested tuple is (0, 5)\n",
      "Item 2 of nested tuple is ('fermentation', 'ethanol')\n",
      "Item 3 of nested tuple is (3.14, 'pi', (1.618, 'golden ratio'))\n"
     ]
    }
   ],
   "source": [
    "# Now printing the each element of the nested tuple\n",
    "print('Item 0 of nested tuple is', nested_tuple[0])\n",
    "print('Item 1 of nested tuple is', nested_tuple[1])\n",
    "print('Item 2 of nested tuple is', nested_tuple[2])\n",
    "print('Item 3 of nested tuple is', nested_tuple[3])"
   ]
  },
  {
   "cell_type": "code",
   "execution_count": 132,
   "metadata": {},
   "outputs": [
    {
     "name": "stdout",
     "output_type": "stream",
     "text": [
      "Item 1, 0 of the nested tuple is 0\n",
      "Item 1, 1 of the nested tuple is 5\n",
      "Item 2, 0 of the nested tuple is fermentation\n",
      "Item 2, 1 of the nested tuple is ethanol\n",
      "Item 3, 0 of the nested tuple is 3.14\n",
      "Item 3, 1 of the nested tuple is pi\n",
      "Item 3, 2 of the nested tuple is (1.618, 'golden ratio')\n",
      "Item 3, 2, 0 of the nested tuple is 1.618\n",
      "Item 3, 2, 1 of the nested tuple is golden ratio\n"
     ]
    }
   ],
   "source": [
    "# Using second index to access other tuples in the nested tuple\n",
    "print('Item 1, 0 of the nested tuple is', nested_tuple[1][0])\n",
    "print('Item 1, 1 of the nested tuple is', nested_tuple[1][1])\n",
    "print('Item 2, 0 of the nested tuple is', nested_tuple[2][0])\n",
    "print('Item 2, 1 of the nested tuple is', nested_tuple[2][1])\n",
    "print('Item 3, 0 of the nested tuple is', nested_tuple[3][0])\n",
    "print('Item 3, 1 of the nested tuple is', nested_tuple[3][1])\n",
    "print('Item 3, 2 of the nested tuple is', nested_tuple[3][2])\n",
    "# Accesing to the items in the second nested tuples using a third index\n",
    "print('Item 3, 2, 0 of the nested tuple is', nested_tuple[3][2][0])\n",
    "print('Item 3, 2, 1 of the nested tuple is', nested_tuple[3][2][1])\n"
   ]
  },
  {
   "cell_type": "markdown",
   "metadata": {},
   "source": [
    "Tuples are immutable"
   ]
  },
  {
   "cell_type": "code",
   "execution_count": 133,
   "metadata": {},
   "outputs": [
    {
     "ename": "TypeError",
     "evalue": "'tuple' object does not support item assignment",
     "output_type": "error",
     "traceback": [
      "\u001b[1;31m---------------------------------------------------------------------------\u001b[0m",
      "\u001b[1;31mTypeError\u001b[0m                                 Traceback (most recent call last)",
      "\u001b[1;32m~\\AppData\\Local\\Temp\\ipykernel_9392\\159077897.py\u001b[0m in \u001b[0;36m<module>\u001b[1;34m\u001b[0m\n\u001b[0;32m      1\u001b[0m \u001b[1;31m# Take a tuple\u001b[0m\u001b[1;33m\u001b[0m\u001b[1;33m\u001b[0m\u001b[0m\n\u001b[0;32m      2\u001b[0m \u001b[0mtuple_4\u001b[0m \u001b[1;33m=\u001b[0m \u001b[1;33m(\u001b[0m\u001b[1;36m1\u001b[0m\u001b[1;33m,\u001b[0m\u001b[1;36m3\u001b[0m\u001b[1;33m,\u001b[0m\u001b[1;36m5\u001b[0m\u001b[1;33m,\u001b[0m\u001b[1;36m7\u001b[0m\u001b[1;33m,\u001b[0m\u001b[1;36m8\u001b[0m\u001b[1;33m)\u001b[0m\u001b[1;33m\u001b[0m\u001b[1;33m\u001b[0m\u001b[0m\n\u001b[1;32m----> 3\u001b[1;33m \u001b[0mtuple_4\u001b[0m\u001b[1;33m[\u001b[0m\u001b[1;36m0\u001b[0m\u001b[1;33m]\u001b[0m \u001b[1;33m=\u001b[0m \u001b[1;36m9\u001b[0m\u001b[1;33m\u001b[0m\u001b[1;33m\u001b[0m\u001b[0m\n\u001b[0m\u001b[0;32m      4\u001b[0m \u001b[0mprint\u001b[0m\u001b[1;33m(\u001b[0m\u001b[0mtuple_4\u001b[0m\u001b[1;33m)\u001b[0m\u001b[1;33m\u001b[0m\u001b[1;33m\u001b[0m\u001b[0m\n\u001b[0;32m      5\u001b[0m \u001b[1;31m# The output shows the tuple is immutable\u001b[0m\u001b[1;33m\u001b[0m\u001b[1;33m\u001b[0m\u001b[0m\n",
      "\u001b[1;31mTypeError\u001b[0m: 'tuple' object does not support item assignment"
     ]
    }
   ],
   "source": [
    "# Take a tuple\n",
    "tuple_4 = (1,3,5,7,8)\n",
    "tuple_4[0] = 9\n",
    "print(tuple_4)\n",
    "# The output shows the tuple is immutable"
   ]
  },
  {
   "cell_type": "markdown",
   "metadata": {},
   "source": [
    "#### Delete a tuple\n",
    "An element in a tuple can not be deleted since it is immutable.\n",
    "But a whole tuple can be deleted"
   ]
  },
  {
   "cell_type": "code",
   "execution_count": 134,
   "metadata": {},
   "outputs": [
    {
     "name": "stdout",
     "output_type": "stream",
     "text": [
      "Before deleting: (1, 3, 5, 7, 8)\n"
     ]
    },
    {
     "ename": "NameError",
     "evalue": "name 'tuple_4' is not defined",
     "output_type": "error",
     "traceback": [
      "\u001b[1;31m---------------------------------------------------------------------------\u001b[0m",
      "\u001b[1;31mNameError\u001b[0m                                 Traceback (most recent call last)",
      "\u001b[1;32m~\\AppData\\Local\\Temp\\ipykernel_9392\\736020228.py\u001b[0m in \u001b[0;36m<module>\u001b[1;34m\u001b[0m\n\u001b[0;32m      2\u001b[0m \u001b[0mprint\u001b[0m\u001b[1;33m(\u001b[0m\u001b[1;34m'Before deleting:'\u001b[0m\u001b[1;33m,\u001b[0m \u001b[0mtuple_4\u001b[0m\u001b[1;33m)\u001b[0m\u001b[1;33m\u001b[0m\u001b[1;33m\u001b[0m\u001b[0m\n\u001b[0;32m      3\u001b[0m \u001b[1;32mdel\u001b[0m \u001b[0mtuple_4\u001b[0m\u001b[1;33m\u001b[0m\u001b[1;33m\u001b[0m\u001b[0m\n\u001b[1;32m----> 4\u001b[1;33m \u001b[0mprint\u001b[0m\u001b[1;33m(\u001b[0m\u001b[1;34m'After deleting:'\u001b[0m\u001b[1;33m,\u001b[0m \u001b[0mtuple_4\u001b[0m\u001b[1;33m)\u001b[0m\u001b[1;33m\u001b[0m\u001b[1;33m\u001b[0m\u001b[0m\n\u001b[0m",
      "\u001b[1;31mNameError\u001b[0m: name 'tuple_4' is not defined"
     ]
    }
   ],
   "source": [
    "tuple_4 = (1,3,5,7,8)\n",
    "print('Before deleting:', tuple_4)\n",
    "del tuple_4\n",
    "print('After deleting:', tuple_4)"
   ]
  },
  {
   "cell_type": "markdown",
   "metadata": {},
   "source": [
    "#### count() method\n",
    "This method returns the number of time an item occurs in a tuple."
   ]
  },
  {
   "cell_type": "code",
   "execution_count": 135,
   "metadata": {},
   "outputs": [
    {
     "data": {
      "text/plain": [
       "4"
      ]
     },
     "execution_count": 135,
     "metadata": {},
     "output_type": "execute_result"
    }
   ],
   "source": [
    "tuple_5 = (1,1,3,3,5,5,5,5,6,6,7,8,9)\n",
    "tuple_5.count(5)\n"
   ]
  },
  {
   "cell_type": "markdown",
   "metadata": {},
   "source": [
    "#### index() method\n",
    "It returns the index of the first occurrence of the specified value in a tuple"
   ]
  },
  {
   "cell_type": "code",
   "execution_count": 136,
   "metadata": {},
   "outputs": [
    {
     "name": "stdout",
     "output_type": "stream",
     "text": [
      "4\n",
      "0\n",
      "12\n"
     ]
    }
   ],
   "source": [
    "tuple_5 = (1,1,3,3,5,5,5,5,6,6,7,8,9)\n",
    "print(tuple_5.index(5))\n",
    "print(tuple_5.index(1))\n",
    "print(tuple_5.index(9))"
   ]
  },
  {
   "cell_type": "markdown",
   "metadata": {},
   "source": [
    "#### One element tuple\n",
    "if a tuple includes only one element, you should put a comma after the element. Otherwise, it is not considered\n",
    "as a tuple"
   ]
  },
  {
   "cell_type": "code",
   "execution_count": 137,
   "metadata": {},
   "outputs": [
    {
     "name": "stdout",
     "output_type": "stream",
     "text": [
      "0\n",
      "<class 'int'>\n"
     ]
    }
   ],
   "source": [
    "tuple_6 = (0)\n",
    "print(tuple_6)\n",
    "print(type(tuple_6))\n",
    "# Here, you see that the output is an integer"
   ]
  },
  {
   "cell_type": "code",
   "execution_count": 138,
   "metadata": {},
   "outputs": [
    {
     "name": "stdout",
     "output_type": "stream",
     "text": [
      "(0,)\n",
      "<class 'tuple'>\n"
     ]
    }
   ],
   "source": [
    "tuple_7 = (0,)\n",
    "print(tuple_7)\n",
    "print(type(tuple_7))\n",
    "# You see that the output is a tuple\n"
   ]
  },
  {
   "cell_type": "markdown",
   "metadata": {},
   "source": [
    "#  5. Sets in Python"
   ]
  },
  {
   "cell_type": "markdown",
   "metadata": {},
   "source": [
    "## \n",
    "`*Set is one of 4 built-in data types in Python used to store collections of data including List, Tuple, and\n",
    "*Dictionary\n",
    "*Sets are unordered, but you can remove items and add new items.\n",
    "*Set elements are unique. Duplicate elements are not allowed.\n",
    "*A set itself may be modified, but the elements contained in the set must be of an immutable type.\n",
    "*Sets are used to store multiple items in a single variable.\n",
    "*You can denote a set with a pair of curly brackets {}.$`\n",
    "```"
   ]
  },
  {
   "cell_type": "code",
   "execution_count": 139,
   "metadata": {},
   "outputs": [
    {
     "name": "stdout",
     "output_type": "stream",
     "text": [
      "<class 'dict'>\n"
     ]
    }
   ],
   "source": [
    "# The empty set of curly braces denotes the empty dictionary, not empty set\n",
    "x = {}\n",
    "print(type(x))"
   ]
  },
  {
   "cell_type": "code",
   "execution_count": 140,
   "metadata": {},
   "outputs": [
    {
     "name": "stdout",
     "output_type": "stream",
     "text": [
      "<class 'set'>\n"
     ]
    }
   ],
   "source": [
    "# To take a set without elements, use set() function without any items\n",
    "y = set()\n",
    "print(type(y))"
   ]
  },
  {
   "cell_type": "code",
   "execution_count": 141,
   "metadata": {},
   "outputs": [
    {
     "data": {
      "text/plain": [
       "{1.618, 2022, 3.14, False, 'Hello Python!', 'Hello World!', True}"
      ]
     },
     "execution_count": 141,
     "metadata": {},
     "output_type": "execute_result"
    }
   ],
   "source": [
    "# Take a set\n",
    "set1 = {'Hello Python!', 3.14, 1.618, 'Hello World!', 3.14, 1.618, True, False, 2022}\n",
    "set1"
   ]
  },
  {
   "cell_type": "markdown",
   "metadata": {},
   "source": [
    "Converting list to set"
   ]
  },
  {
   "cell_type": "code",
   "execution_count": 142,
   "metadata": {},
   "outputs": [
    {
     "data": {
      "text/plain": [
       "{1.618, 2022, 3.14, False, 'Hello Python!', 'Hello World!', True}"
      ]
     },
     "execution_count": 142,
     "metadata": {},
     "output_type": "execute_result"
    }
   ],
   "source": [
    "# A list can convert to a set\n",
    "# Take a list\n",
    "nlis = ['Hello Python!', 3.14, 1.618, 'Hello World!', 3.14, 1.618, True, False, 2022]\n",
    "# Convert the list to a set\n",
    "set2 = set(nlis)\n",
    "set2\n"
   ]
  },
  {
   "cell_type": "markdown",
   "metadata": {},
   "source": [
    "Set operations"
   ]
  },
  {
   "cell_type": "code",
   "execution_count": 143,
   "metadata": {},
   "outputs": [
    {
     "data": {
      "text/plain": [
       "{1.618, 2022, 3.14, False, 'Hello Python!', 'Hello World!', True}"
      ]
     },
     "execution_count": 143,
     "metadata": {},
     "output_type": "execute_result"
    }
   ],
   "source": [
    "# Take a set\n",
    "set3 = set(['Hello Python!', 3.14, 1.618, 'Hello World!', 3.14, 1.618, True, False, 2022])\n",
    "set3"
   ]
  },
  {
   "cell_type": "markdown",
   "metadata": {},
   "source": [
    "#### add() function\n",
    "To add an element into a set, we use the function add(). If the same element is added to the set, nothing will\n",
    "happen because the set accepts no duplicates."
   ]
  },
  {
   "cell_type": "code",
   "execution_count": 1,
   "metadata": {},
   "outputs": [
    {
     "data": {
      "text/plain": [
       "{1.618,\n",
       " 2022,\n",
       " 3.14,\n",
       " False,\n",
       " 'Hello Python!',\n",
       " 'Hello World!',\n",
       " 'Hi, Python!',\n",
       " True}"
      ]
     },
     "execution_count": 1,
     "metadata": {},
     "output_type": "execute_result"
    }
   ],
   "source": [
    "# Addition of an element to a set\n",
    "set3 = set(['Hello Python!', 3.14, 1.618, 'Hello World!', 3.14, 1.618, True, False, 2022])\n",
    "set3.add('Hi, Python!')\n",
    "set3"
   ]
  },
  {
   "cell_type": "code",
   "execution_count": 6,
   "metadata": {},
   "outputs": [
    {
     "name": "stdout",
     "output_type": "stream",
     "text": [
      "{False, 1.618, True, 3.14, 2022, 'Hello World!', 'Hi, Python!'}\n",
      "{8, 9, 6, 7}\n",
      "{3, 4, 5, 6, 7, 8, 9}\n"
     ]
    }
   ],
   "source": [
    "# Addition of the same element\n",
    "set3.add('Hi, Python!')\n",
    "print(set3)\n",
    "# As you see that there is only one from the added element 'Hi, Python!'\n",
    "x_set = {6,7,8,9}\n",
    "print(x_set)\n",
    "x_set.update({3,4,5})\n",
    "print(x_set)\n"
   ]
  },
  {
   "cell_type": "markdown",
   "metadata": {},
   "source": [
    "#### update() function\n",
    "To add multiple elements into the set"
   ]
  },
  {
   "cell_type": "code",
   "execution_count": 4,
   "metadata": {},
   "outputs": [
    {
     "name": "stdout",
     "output_type": "stream",
     "text": [
      "{8, 9, 6, 7}\n",
      "{3, 4, 5, 6, 7, 8, 9}\n"
     ]
    }
   ],
   "source": [
    "x_set = {6,7,8,9}\n",
    "print(x_set)\n",
    "x_set.update({3,4,5})\n",
    "print(x_set)"
   ]
  },
  {
   "cell_type": "markdown",
   "metadata": {},
   "source": [
    "#### remove() function\n",
    "To remove an element from the set"
   ]
  },
  {
   "cell_type": "code",
   "execution_count": 5,
   "metadata": {},
   "outputs": [
    {
     "data": {
      "text/plain": [
       "{1.618, 2022, 3.14, False, 'Hello World!', 'Hi, Python!', True}"
      ]
     },
     "execution_count": 5,
     "metadata": {},
     "output_type": "execute_result"
    }
   ],
   "source": [
    "set3.remove('Hello Python!')\n",
    "set3"
   ]
  },
  {
   "cell_type": "markdown",
   "metadata": {},
   "source": [
    "#### discard() function\n",
    "It leaves the set unchanged if the element to be deleted is not available in the set."
   ]
  },
  {
   "cell_type": "code",
   "execution_count": 7,
   "metadata": {},
   "outputs": [
    {
     "data": {
      "text/plain": [
       "{1.618, 2022, False, 'Hello World!', 'Hi, Python!', True}"
      ]
     },
     "execution_count": 7,
     "metadata": {},
     "output_type": "execute_result"
    }
   ],
   "source": [
    "set3.discard(3.14)\n",
    "set3"
   ]
  },
  {
   "cell_type": "code",
   "execution_count": 8,
   "metadata": {},
   "outputs": [
    {
     "data": {
      "text/plain": [
       "True"
      ]
     },
     "execution_count": 8,
     "metadata": {},
     "output_type": "execute_result"
    }
   ],
   "source": [
    "# To verify if the element is in the set\n",
    "1.618 in set3"
   ]
  },
  {
   "cell_type": "markdown",
   "metadata": {},
   "source": [
    "Logic operations in Sets"
   ]
  },
  {
   "cell_type": "code",
   "execution_count": 9,
   "metadata": {},
   "outputs": [
    {
     "data": {
      "text/plain": [
       "({1.618, 3.14, 'Hello Python!', 'Hello World!'},\n",
       " {False, True, 1.618, 3.14, 2022})"
      ]
     },
     "execution_count": 9,
     "metadata": {},
     "output_type": "execute_result"
    }
   ],
   "source": [
    "# Take two sets\n",
    "set4 = set(['Hello Python!', 3.14, 1.618, 'Hello World!'])\n",
    "set5 = set([3.14, 1.618, True, False, 2022])\n",
    "# Printing two sets\n",
    "set4, set5\n"
   ]
  },
  {
   "cell_type": "markdown",
   "metadata": {},
   "source": [
    "To find the intersect of two sets using &"
   ]
  },
  {
   "cell_type": "code",
   "execution_count": 10,
   "metadata": {},
   "outputs": [
    {
     "data": {
      "text/plain": [
       "{1.618, 3.14}"
      ]
     },
     "execution_count": 10,
     "metadata": {},
     "output_type": "execute_result"
    }
   ],
   "source": [
    "intersection = set4 & set5\n",
    "intersection"
   ]
  },
  {
   "cell_type": "markdown",
   "metadata": {},
   "source": [
    "To find the intersect of two sets, use intersection() function"
   ]
  },
  {
   "cell_type": "code",
   "execution_count": 11,
   "metadata": {},
   "outputs": [
    {
     "data": {
      "text/plain": [
       "{1.618, 3.14}"
      ]
     },
     "execution_count": 11,
     "metadata": {},
     "output_type": "execute_result"
    }
   ],
   "source": [
    "set4.intersection(set5) # The output is the same as that of above"
   ]
  },
  {
   "cell_type": "markdown",
   "metadata": {},
   "source": [
    "#### difference() function\n",
    "To find the difference between two sets"
   ]
  },
  {
   "cell_type": "code",
   "execution_count": 12,
   "metadata": {},
   "outputs": [
    {
     "name": "stdout",
     "output_type": "stream",
     "text": [
      "{'Hello World!', 'Hello Python!'}\n",
      "{False, True, 2022}\n",
      "{'Hello World!', 'Hello Python!'}\n",
      "{False, True, 2022}\n"
     ]
    }
   ],
   "source": [
    "print(set4.difference(set5))\n",
    "print(set5.difference(set4))\n",
    "# The same process can make using subtraction operator as follows:\n",
    "print(set4-set5)\n",
    "print(set5-set4)"
   ]
  },
  {
   "cell_type": "markdown",
   "metadata": {},
   "source": [
    "Set comparison"
   ]
  },
  {
   "cell_type": "code",
   "execution_count": 13,
   "metadata": {},
   "outputs": [
    {
     "name": "stdout",
     "output_type": "stream",
     "text": [
      "False\n",
      "False\n",
      "False\n"
     ]
    }
   ],
   "source": [
    "print(set4>set5)\n",
    "print(set5>set4)\n",
    "print(set4==set5)"
   ]
  },
  {
   "cell_type": "markdown",
   "metadata": {},
   "source": [
    "#### union() function\n",
    "it corresponds to all the elements in both sets"
   ]
  },
  {
   "cell_type": "code",
   "execution_count": 14,
   "metadata": {},
   "outputs": [
    {
     "data": {
      "text/plain": [
       "{1.618, 2022, 3.14, False, 'Hello Python!', 'Hello World!', True}"
      ]
     },
     "execution_count": 14,
     "metadata": {},
     "output_type": "execute_result"
    }
   ],
   "source": [
    "set4.union(set5)"
   ]
  },
  {
   "cell_type": "markdown",
   "metadata": {},
   "source": [
    "#### issuperset() and issubset() functions\n",
    "To control if a set is a superset or a subset of another set"
   ]
  },
  {
   "cell_type": "code",
   "execution_count": 15,
   "metadata": {},
   "outputs": [
    {
     "data": {
      "text/plain": [
       "False"
      ]
     },
     "execution_count": 15,
     "metadata": {},
     "output_type": "execute_result"
    }
   ],
   "source": [
    "set(set4).issuperset(set5)"
   ]
  },
  {
   "cell_type": "code",
   "execution_count": 16,
   "metadata": {},
   "outputs": [
    {
     "data": {
      "text/plain": [
       "False"
      ]
     },
     "execution_count": 16,
     "metadata": {},
     "output_type": "execute_result"
    }
   ],
   "source": [
    "set(set4).issubset(set5)\n"
   ]
  },
  {
   "cell_type": "code",
   "execution_count": 17,
   "metadata": {},
   "outputs": [
    {
     "name": "stdout",
     "output_type": "stream",
     "text": [
      "True\n",
      "True\n",
      "True\n",
      "True\n"
     ]
    }
   ],
   "source": [
    "print(set([3.14, 1.618]).issubset(set5))\n",
    "print(set([3.14, 1.618]).issubset(set4))\n",
    "print(set4.issuperset([3.14, 1.618]))\n",
    "print(set5.issuperset([3.14, 1.618]))"
   ]
  },
  {
   "cell_type": "markdown",
   "metadata": {},
   "source": [
    "min(), max() and sum() functions"
   ]
  },
  {
   "cell_type": "code",
   "execution_count": 18,
   "metadata": {},
   "outputs": [
    {
     "name": "stdout",
     "output_type": "stream",
     "text": [
      "The minimum number of A is 1\n",
      "The minimum number of B is 1\n",
      "The maximum number of A is 5\n",
      "The maximum number of B is 5\n",
      "The sum of A is 30\n",
      "The sum of B is 15\n"
     ]
    }
   ],
   "source": [
    "A = [1,1,2,2,3,3,4,4,5,5] # Take a list\n",
    "B = {1,1,2,2,3,3,4,4,5,5} # Take a set\n",
    "print('The minimum number of A is', min(A))\n",
    "print('The minimum number of B is', min(B))\n",
    "print('The maximum number of A is', max(A))\n",
    "print('The maximum number of B is', max(B))\n",
    "print('The sum of A is', sum(A))\n",
    "print('The sum of B is', sum(B))\n",
    "# As you see that the sum of A and B is different. Because the set takes no duplicate"
   ]
  },
  {
   "cell_type": "markdown",
   "metadata": {},
   "source": [
    "#### No mutable sequence in a set\n",
    "A set can not have mutable elements such as list or dictionary in it. If any, it returns error as follows:\n"
   ]
  },
  {
   "cell_type": "code",
   "execution_count": 19,
   "metadata": {},
   "outputs": [
    {
     "ename": "TypeError",
     "evalue": "unhashable type: 'list'",
     "output_type": "error",
     "traceback": [
      "\u001b[1;31m---------------------------------------------------------------------------\u001b[0m",
      "\u001b[1;31mTypeError\u001b[0m                                 Traceback (most recent call last)",
      "\u001b[1;32m~\\AppData\\Local\\Temp\\ipykernel_20268\\2974310107.py\u001b[0m in \u001b[0;36m<module>\u001b[1;34m\u001b[0m\n\u001b[1;32m----> 1\u001b[1;33m \u001b[0mset6\u001b[0m \u001b[1;33m=\u001b[0m \u001b[1;33m{\u001b[0m\u001b[1;34m'Python'\u001b[0m\u001b[1;33m,\u001b[0m \u001b[1;36m1\u001b[0m\u001b[1;33m,\u001b[0m\u001b[1;36m2\u001b[0m\u001b[1;33m,\u001b[0m\u001b[1;36m3\u001b[0m\u001b[1;33m,\u001b[0m \u001b[1;33m[\u001b[0m\u001b[1;36m1\u001b[0m\u001b[1;33m,\u001b[0m\u001b[1;36m2\u001b[0m\u001b[1;33m,\u001b[0m\u001b[1;36m3\u001b[0m\u001b[1;33m]\u001b[0m\u001b[1;33m}\u001b[0m\u001b[1;33m\u001b[0m\u001b[1;33m\u001b[0m\u001b[0m\n\u001b[0m\u001b[0;32m      2\u001b[0m \u001b[0mset6\u001b[0m\u001b[1;33m\u001b[0m\u001b[1;33m\u001b[0m\u001b[0m\n",
      "\u001b[1;31mTypeError\u001b[0m: unhashable type: 'list'"
     ]
    }
   ],
   "source": [
    "set6 = {'Python', 1,2,3, [1,2,3]}\n",
    "set6"
   ]
  },
  {
   "cell_type": "markdown",
   "metadata": {},
   "source": [
    "#### index() function\n",
    "This function does not work in set since the set is unordered collection"
   ]
  },
  {
   "cell_type": "code",
   "execution_count": 20,
   "metadata": {},
   "outputs": [
    {
     "ename": "TypeError",
     "evalue": "'set' object is not subscriptable",
     "output_type": "error",
     "traceback": [
      "\u001b[1;31m---------------------------------------------------------------------------\u001b[0m",
      "\u001b[1;31mTypeError\u001b[0m                                 Traceback (most recent call last)",
      "\u001b[1;32m~\\AppData\\Local\\Temp\\ipykernel_20268\\2857678888.py\u001b[0m in \u001b[0;36m<module>\u001b[1;34m\u001b[0m\n\u001b[0;32m      1\u001b[0m \u001b[0mset7\u001b[0m \u001b[1;33m=\u001b[0m \u001b[1;33m{\u001b[0m\u001b[1;36m1\u001b[0m\u001b[1;33m,\u001b[0m\u001b[1;36m2\u001b[0m\u001b[1;33m,\u001b[0m\u001b[1;36m3\u001b[0m\u001b[1;33m,\u001b[0m\u001b[1;36m4\u001b[0m\u001b[1;33m}\u001b[0m\u001b[1;33m\u001b[0m\u001b[1;33m\u001b[0m\u001b[0m\n\u001b[1;32m----> 2\u001b[1;33m \u001b[0mset7\u001b[0m\u001b[1;33m[\u001b[0m\u001b[1;36m1\u001b[0m\u001b[1;33m]\u001b[0m\u001b[1;33m\u001b[0m\u001b[1;33m\u001b[0m\u001b[0m\n\u001b[0m",
      "\u001b[1;31mTypeError\u001b[0m: 'set' object is not subscriptable"
     ]
    }
   ],
   "source": [
    "set7 = {1,2,3,4}\n",
    "set7[1]\n"
   ]
  },
  {
   "cell_type": "markdown",
   "metadata": {},
   "source": [
    "Copy the set"
   ]
  },
  {
   "cell_type": "code",
   "execution_count": 21,
   "metadata": {},
   "outputs": [
    {
     "name": "stdout",
     "output_type": "stream",
     "text": [
      "{1, 3, 5, 7, 9}\n",
      "{1, 3, 5, 7, 9}\n",
      "{1, 3, 5, 7, 9, 11}\n",
      "{1, 3, 5, 7, 9, 11}\n"
     ]
    },
    {
     "data": {
      "text/plain": [
       "\"\\nAs you see that although the number 8 is added into the set 'set8', the added number\\nis also added into the set 'set9'\\n\""
      ]
     },
     "execution_count": 21,
     "metadata": {},
     "output_type": "execute_result"
    }
   ],
   "source": [
    "set8 = {1,3,5,7,9}\n",
    "print(set8)\n",
    "set9 = set8\n",
    "print(set9)\n",
    "set8.add(11)\n",
    "print(set8)\n",
    "print(set9)\n",
    "\"\"\"\n",
    "As you see that although the number 8 is added into the set 'set8', the added number\n",
    "is also added into the set 'set9'\n",
    "\"\"\""
   ]
  },
  {
   "cell_type": "markdown",
   "metadata": {},
   "source": [
    "#### copy() function\n",
    "it returns a shallow copy of the original set.\n"
   ]
  },
  {
   "cell_type": "code",
   "execution_count": 22,
   "metadata": {},
   "outputs": [
    {
     "name": "stdout",
     "output_type": "stream",
     "text": [
      "{1, 3, 5, 7, 9}\n",
      "{1, 3, 5, 7, 9}\n",
      "{1, 3, 5, 7, 9, 11}\n",
      "{1, 3, 5, 7, 9}\n"
     ]
    },
    {
     "data": {
      "text/plain": [
       "\"\\nWhen this function is used, the original set stays unmodified.\\nA new copy stored in another set of memory locations is created.\\nThe change made in one copy won't reflect in another.\\n\""
      ]
     },
     "execution_count": 22,
     "metadata": {},
     "output_type": "execute_result"
    }
   ],
   "source": [
    "set8 = {1,3,5,7,9}\n",
    "print(set8)\n",
    "set9 = set8.copy()\n",
    "print(set9)\n",
    "set8.add(11)\n",
    "print(set8)\n",
    "print(set9)\n",
    "\"\"\"\n",
    "When this function is used, the original set stays unmodified.\n",
    "A new copy stored in another set of memory locations is created.\n",
    "The change made in one copy won't reflect in another.\n",
    "\"\"\""
   ]
  },
  {
   "cell_type": "markdown",
   "metadata": {},
   "source": [
    "#### celar() function\n",
    "it removes all elements in the set and then do the set empty.\n"
   ]
  },
  {
   "cell_type": "code",
   "execution_count": 24,
   "metadata": {},
   "outputs": [
    {
     "name": "stdout",
     "output_type": "stream",
     "text": [
      "{0, 1, 2, 3, 34, 5, 8, 13, 21}\n",
      "set()\n"
     ]
    }
   ],
   "source": [
    "x = {0, 1,1,2,3,5,8,13, 21,34}\n",
    "print( x)\n",
    "x.clear()\n",
    "print(x)"
   ]
  },
  {
   "cell_type": "markdown",
   "metadata": {},
   "source": [
    "#### pop() function\n",
    "It removes and returns an arbitrary set element.\n"
   ]
  },
  {
   "cell_type": "code",
   "execution_count": 25,
   "metadata": {},
   "outputs": [
    {
     "name": "stdout",
     "output_type": "stream",
     "text": [
      "{0, 1, 2, 3, 34, 5, 8, 13, 21}\n",
      "{1, 2, 3, 34, 5, 8, 13, 21}\n"
     ]
    }
   ],
   "source": [
    "x = {0, 1,1,2,3,5,8,13,21,34}\n",
    "print(x)\n",
    "x.pop()\n",
    "print(x)"
   ]
  }
 ],
 "metadata": {
  "kernelspec": {
   "display_name": "base",
   "language": "python",
   "name": "python3"
  },
  "language_info": {
   "codemirror_mode": {
    "name": "ipython",
    "version": 3
   },
   "file_extension": ".py",
   "mimetype": "text/x-python",
   "name": "python",
   "nbconvert_exporter": "python",
   "pygments_lexer": "ipython3",
   "version": "3.9.13"
  },
  "orig_nbformat": 4
 },
 "nbformat": 4,
 "nbformat_minor": 2
}
