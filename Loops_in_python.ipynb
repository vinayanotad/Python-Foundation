{
 "cells": [
  {
   "cell_type": "markdown",
   "metadata": {},
   "source": [
    "## 8. Loops in Python"
   ]
  },
  {
   "cell_type": "markdown",
   "metadata": {},
   "source": [
    "#### A for loop is used for iterating over a sequence (that is either a list, a tuple, a dictionary, a set, or a string).\n",
    "*This is less like the for keyword in other programming languages, and works more like an iterator method as found in other object-orientated programming languages.\n",
    "*With the for loop we can execute a set of statements, once for each item in a list, tuple, set etc.\n",
    "*The for loop does not require an indexing variable to set beforehand.\n",
    "*With the while loop we can execute a set of statements as long as a condition is true.\n",
    "*Note: remember to increment i, or else the loop will continue forever.\n",
    "*The while loop requires relevant variables to be ready, in this example we need to define an indexing variable, i, which we set to 1."
   ]
  },
  {
   "cell_type": "markdown",
   "metadata": {},
   "source": [
    "#### range() function\n",
    "*It is helpful to think of the range object as an ordered list.\n",
    "*To loop through a set of code a specified number of times, we can use the range() function,\n",
    "*The range() function returns a sequence of numbers, starting from 0 by default, and increments by 1 (by default), and ends at a specified number."
   ]
  },
  {
   "cell_type": "code",
   "execution_count": 1,
   "metadata": {},
   "outputs": [
    {
     "name": "stdout",
     "output_type": "stream",
     "text": [
      "range(0, 5)\n",
      "range(0, 10)\n"
     ]
    }
   ],
   "source": [
    "# Take a range() function\n",
    "print(range(5))\n",
    "print(range(10))"
   ]
  },
  {
   "cell_type": "markdown",
   "metadata": {},
   "source": [
    "#### for loop\n",
    "The for loop enables you to execute a code block multiple times.\n"
   ]
  },
  {
   "cell_type": "code",
   "execution_count": 2,
   "metadata": {},
   "outputs": [
    {
     "name": "stdout",
     "output_type": "stream",
     "text": [
      "2005\n",
      "2006\n",
      "2007\n",
      "2008\n",
      "2009\n",
      "2010\n"
     ]
    }
   ],
   "source": [
    "# Take an example\n",
    "# Diectly accessing to the elements in the list\n",
    "years = [2005, 2006, 2007, 2008, 2009, 2010]\n",
    "for i in years:\n",
    " print(i)\n"
   ]
  },
  {
   "cell_type": "code",
   "execution_count": 3,
   "metadata": {},
   "outputs": [
    {
     "name": "stdout",
     "output_type": "stream",
     "text": [
      "2005\n",
      "2006\n",
      "2007\n",
      "2008\n",
      "2009\n",
      "2010\n"
     ]
    }
   ],
   "source": [
    "# Again, directly accessing to the elements in the list\n",
    "years = [2005, 2006, 2007, 2008, 2009, 2010]\n",
    "for year in years:\n",
    " print(year)"
   ]
  },
  {
   "cell_type": "code",
   "execution_count": 4,
   "metadata": {},
   "outputs": [
    {
     "name": "stdout",
     "output_type": "stream",
     "text": [
      "2005\n",
      "2006\n",
      "2007\n",
      "2008\n",
      "2009\n",
      "2010\n"
     ]
    }
   ],
   "source": [
    "# Take an example\n",
    "years = [2005, 2006, 2007, 2008, 2009, 2010]\n",
    "for i in range(len(years)):\n",
    " print(years[i])\n"
   ]
  },
  {
   "cell_type": "code",
   "execution_count": 5,
   "metadata": {},
   "outputs": [
    {
     "name": "stdout",
     "output_type": "stream",
     "text": [
      "2\n",
      "3\n",
      "4\n",
      "5\n",
      "6\n",
      "7\n",
      "8\n",
      "9\n",
      "10\n",
      "11\n"
     ]
    }
   ],
   "source": [
    "# Another for loop example\n",
    "for i in range(2, 12):\n",
    " print(i)"
   ]
  },
  {
   "cell_type": "code",
   "execution_count": 6,
   "metadata": {},
   "outputs": [
    {
     "name": "stdout",
     "output_type": "stream",
     "text": [
      "2\n",
      "5\n",
      "8\n",
      "11\n"
     ]
    }
   ],
   "source": [
    "# Striding in for loop\n",
    "for i in range(2, 12, 3):\n",
    " print(i)\n"
   ]
  },
  {
   "cell_type": "code",
   "execution_count": 7,
   "metadata": {},
   "outputs": [
    {
     "name": "stdout",
     "output_type": "stream",
     "text": [
      "Before language 0 is Java\n",
      "After language 0 is Python\n",
      "Before language 1 is JavaScript\n",
      "After language 1 is Python\n",
      "Before language 2 is C\n",
      "After language 2 is Python\n",
      "Before language 3 is C++\n",
      "After language 3 is Python\n",
      "Before language 4 is PHP\n",
      "After language 4 is Python\n"
     ]
    }
   ],
   "source": [
    "# Changing the elements in the list\n",
    "languages = ['Java', 'JavaScript', 'C', 'C++', 'PHP']\n",
    "for i in range(len(languages)):\n",
    " print('Before language', i, 'is', languages[i])\n",
    " languages[i] = 'Python'\n",
    " print('After language', i, 'is', languages[i])"
   ]
  },
  {
   "cell_type": "code",
   "execution_count": 8,
   "metadata": {},
   "outputs": [
    {
     "name": "stdout",
     "output_type": "stream",
     "text": [
      "0 Python\n",
      "1 Java\n",
      "2 JavaScript\n",
      "3 C\n",
      "4 C++\n",
      "5 PHP\n"
     ]
    }
   ],
   "source": [
    "# Enumaeration of the elements in the list\n",
    "languages = ['Python', 'Java', 'JavaScript', 'C', 'C++', 'PHP']\n",
    "for index, language in enumerate(languages):\n",
    " print(index, language)"
   ]
  },
  {
   "cell_type": "code",
   "execution_count": 9,
   "metadata": {},
   "outputs": [
    {
     "name": "stdout",
     "output_type": "stream",
     "text": [
      "-3\n",
      "-2\n",
      "-1\n",
      "0\n",
      "1\n",
      "2\n",
      "3\n",
      "4\n",
      "5\n",
      "6\n"
     ]
    }
   ],
   "source": [
    "# Take the numbers between -3 and 6 using for loop\n",
    "# Use range() function\n",
    "for i in range(-3, 7):\n",
    " print(i)\n",
    " \n",
    " "
   ]
  },
  {
   "cell_type": "code",
   "execution_count": 10,
   "metadata": {},
   "outputs": [
    {
     "name": "stdout",
     "output_type": "stream",
     "text": [
      "0 Python\n",
      "1 Java\n",
      "2 JavaScript\n",
      "3 C\n",
      "4 C++\n",
      "5 PHP\n"
     ]
    }
   ],
   "source": [
    "# Take a list and print the elements using for loop\n",
    "languages = ['Python', 'Java', 'JavaScript', 'C', 'C++', 'PHP']\n",
    "for i in range(len(languages)):\n",
    " print(i, languages[i])"
   ]
  },
  {
   "cell_type": "code",
   "execution_count": 11,
   "metadata": {},
   "outputs": [
    {
     "name": "stdout",
     "output_type": "stream",
     "text": [
      "The entered numbers are 89 and 56.\n",
      "89 x 0 = 0 , 56 x 0 = 0\n",
      "89 x 1 = 89 , 56 x 1 = 56\n",
      "89 x 2 = 178 , 56 x 2 = 112\n",
      "89 x 3 = 267 , 56 x 3 = 168\n",
      "89 x 4 = 356 , 56 x 4 = 224\n",
      "89 x 5 = 445 , 56 x 5 = 280\n",
      "89 x 6 = 534 , 56 x 6 = 336\n",
      "89 x 7 = 623 , 56 x 7 = 392\n",
      "89 x 8 = 712 , 56 x 8 = 448\n",
      "89 x 9 = 801 , 56 x 9 = 504\n",
      "89 x 10 = 890 , 56 x 10 = 560\n"
     ]
    }
   ],
   "source": [
    "number1 = int(input('Enter a number:'))\n",
    "number2 = int(input('Enter a number:'))\n",
    "print(f'The entered numbers are {number1} and {number2}.')\n",
    "for i in range(0, 11):\n",
    " print(('%d x %d = %d' %(number1, i, number1*i)), ',', ('%d x %d = %d' %(number2, i, number2*i )))"
   ]
  },
  {
   "cell_type": "markdown",
   "metadata": {},
   "source": [
    "Addition and average calculation in for loop"
   ]
  },
  {
   "cell_type": "code",
   "execution_count": 12,
   "metadata": {},
   "outputs": [
    {
     "name": "stdout",
     "output_type": "stream",
     "text": [
      "The total value of the numbers in the list is 1780.053\n",
      "The avearge value of the numbers in the list is 254.29328571428573\n"
     ]
    }
   ],
   "source": [
    "# Take a list\n",
    "nlis = [0.577, 2.718, 3.14, 1.618, 1729, 6, 37]\n",
    "# Write a for loop for addition\n",
    "count = 0\n",
    "for i in nlis:\n",
    " count+=i\n",
    "print('The total value of the numbers in the list is', count)\n",
    "# Calculate the average using len() function\n",
    "print('The avearge value of the numbers in the list is', count/len(nlis))"
   ]
  },
  {
   "cell_type": "markdown",
   "metadata": {},
   "source": [
    "for-else statement"
   ]
  },
  {
   "cell_type": "code",
   "execution_count": 13,
   "metadata": {},
   "outputs": [
    {
     "name": "stdout",
     "output_type": "stream",
     "text": [
      "1, 2, 3, 4, 5, These are numbers from 1 to 5.\n"
     ]
    }
   ],
   "source": [
    "for i in range(1,6):\n",
    " print(i, end=\", \")\n",
    "else:\n",
    " print('These are numbers from 1 to 5.')"
   ]
  },
  {
   "cell_type": "markdown",
   "metadata": {},
   "source": [
    "nested for loop"
   ]
  },
  {
   "cell_type": "code",
   "execution_count": 16,
   "metadata": {},
   "outputs": [
    {
     "name": "stdout",
     "output_type": "stream",
     "text": [
      "The entered the number is 7.\n",
      "\n",
      "+\n",
      "++\n",
      "+++\n",
      "++++\n",
      "+++++\n",
      "++++++\n",
      "+++++++"
     ]
    }
   ],
   "source": [
    "num = int(input('Enter a number:'))\n",
    "print(f'The entered the number is {num}.')\n",
    "i, j = 0, 0\n",
    "for i in range(0, num):\n",
    "    print()\n",
    "    for j in range(0, i+1):\n",
    "        print('+', end='')\n"
   ]
  },
  {
   "cell_type": "markdown",
   "metadata": {},
   "source": [
    "continue in for loop"
   ]
  },
  {
   "cell_type": "code",
   "execution_count": 18,
   "metadata": {},
   "outputs": [
    {
     "name": "stdout",
     "output_type": "stream",
     "text": [
      "1\n",
      "2\n",
      "4\n",
      "6\n",
      "7\n",
      "8\n",
      "9\n",
      "10\n",
      "11\n",
      "12\n",
      "13\n",
      "14\n"
     ]
    },
    {
     "data": {
      "text/plain": [
       "'\\nYou see that the output includes the numbers without 5.\\nThe continue function jumps when it meets with the reference.\\n'"
      ]
     },
     "execution_count": 18,
     "metadata": {},
     "output_type": "execute_result"
    }
   ],
   "source": [
    "# Take a list\n",
    "nlis = [1,2,4,5,6,7,8,9,10,11,12,13,14]\n",
    "for i in nlis:\n",
    " if i == 5:\n",
    "    continue\n",
    " print(i)\n",
    "\n",
    "\"\"\"\n",
    "You see that the output includes the numbers without 5.\n",
    "The continue function jumps when it meets with the reference.\n",
    "\"\"\""
   ]
  },
  {
   "cell_type": "markdown",
   "metadata": {},
   "source": [
    "break in for loop"
   ]
  },
  {
   "cell_type": "code",
   "execution_count": 20,
   "metadata": {},
   "outputs": [
    {
     "name": "stdout",
     "output_type": "stream",
     "text": [
      "1\n",
      "2\n",
      "4\n"
     ]
    },
    {
     "data": {
      "text/plain": [
       "'\\nYou see that the output includes the numbers before 5.\\nThe break function terminate the loop when it meets with the reference.\\n'"
      ]
     },
     "execution_count": 20,
     "metadata": {},
     "output_type": "execute_result"
    }
   ],
   "source": [
    "# Take a list\n",
    "nlis = [1,2,4,5,6,7,8,9,10,11,12,13,14]\n",
    "for i in nlis:\n",
    " if i == 5:\n",
    "    break\n",
    " print(i)\n",
    "\n",
    "\"\"\"\n",
    "You see that the output includes the numbers before 5.\n",
    "The break function terminate the loop when it meets with the reference.\n",
    "\"\"\"\n"
   ]
  },
  {
   "cell_type": "markdown",
   "metadata": {},
   "source": [
    "#### while loop"
   ]
  },
  {
   "cell_type": "markdown",
   "metadata": {},
   "source": [
    "*The while loop exists as a tool for repeated execution based on a condition. The code block will keep being executed until the given logical condition returns a False boolean value."
   ]
  },
  {
   "cell_type": "code",
   "execution_count": 21,
   "metadata": {},
   "outputs": [
    {
     "name": "stdout",
     "output_type": "stream",
     "text": [
      "22\n",
      "23\n",
      "24\n",
      "25\n",
      "26\n"
     ]
    }
   ],
   "source": [
    "# Take an example\n",
    "i = 22\n",
    "while i<27:\n",
    " print(i)\n",
    " i+=1"
   ]
  },
  {
   "cell_type": "code",
   "execution_count": 22,
   "metadata": {},
   "outputs": [
    {
     "name": "stdout",
     "output_type": "stream",
     "text": [
      "22\n",
      "21\n",
      "20\n",
      "19\n",
      "18\n",
      "17\n"
     ]
    }
   ],
   "source": [
    "#Take an example\n",
    "i = 22\n",
    "while i>=17:\n",
    " print(i)\n",
    " i-=1\n"
   ]
  },
  {
   "cell_type": "code",
   "execution_count": 23,
   "metadata": {},
   "outputs": [
    {
     "name": "stdout",
     "output_type": "stream",
     "text": [
      "2005\n",
      "2006\n",
      "2007\n",
      "It gives us only 3 repetititons to get out of loop\n"
     ]
    }
   ],
   "source": [
    "# Take an example\n",
    "years = [2005, 2006, 2007, 2008, 2009, 2010]\n",
    "index = 0\n",
    "year = years[0]\n",
    "while year !=2008:\n",
    " print(year)\n",
    " index+=1\n",
    " year = years[index]\n",
    "print('It gives us only', index, 'repetititons to get out of loop')"
   ]
  },
  {
   "cell_type": "code",
   "execution_count": 24,
   "metadata": {},
   "outputs": [
    {
     "name": "stdout",
     "output_type": "stream",
     "text": [
      "8.0\n",
      "7.5\n",
      "There is only 2 movie rating, because the loop stops when it meets with the number lower than 6.\n"
     ]
    }
   ],
   "source": [
    "# Print the movie ratings gretater than 6.\n",
    "movie_rating = [8.0, 7.5, 5.4, 9.1, 6.3, 6.5, 2.1, 4.8, 3.3]\n",
    "index = 0\n",
    "rating = movie_rating[0]\n",
    "while rating>=6:\n",
    " print(rating)\n",
    " index += 1\n",
    " rating = movie_rating[index]\n",
    "print('There is only', index, 'movie rating, because the loop stops when it meets with the number lower than 6.')"
   ]
  },
  {
   "cell_type": "code",
   "execution_count": 26,
   "metadata": {},
   "outputs": [
    {
     "name": "stdout",
     "output_type": "stream",
     "text": [
      "1 8.0\n",
      "2 7.5\n",
      "2 5.4\n",
      "3 9.1\n",
      "4 6.3\n",
      "5 6.5\n",
      "5 2.1\n",
      "5 4.8\n",
      "5 3.3\n",
      "There is only 5 films gretater than movie rating 6\n"
     ]
    }
   ],
   "source": [
    "# Print the movie ratings gretater than 6.\n",
    "movie_rating = [8.0, 7.5, 5.4, 9.1, 6.3, 6.5, 2.1, 4.8, 3.3]\n",
    "index = 0\n",
    "for i in range(len(movie_rating)):\n",
    " if movie_rating[i] >= 6:\n",
    "    index += 1\n",
    " print(index, movie_rating[i])\n",
    "print('There is only', index, 'films gretater than movie rating 6')"
   ]
  },
  {
   "cell_type": "code",
   "execution_count": 27,
   "metadata": {},
   "outputs": [
    {
     "name": "stdout",
     "output_type": "stream",
     "text": [
      "['banana']\n"
     ]
    }
   ],
   "source": [
    "# Adding the element in a list to a new list\n",
    "fruits = ['banana', 'apple', 'banana', 'orange', 'kiwi', 'banana', 'Cherry', 'Grapes']\n",
    "new_fruits = []\n",
    "index = 0\n",
    "while fruits[index] == 'banana':\n",
    " new_fruits.append(fruits[index])\n",
    " index += 1\n",
    "print(new_fruits)"
   ]
  },
  {
   "cell_type": "code",
   "execution_count": 28,
   "metadata": {},
   "outputs": [
    {
     "name": "stdout",
     "output_type": "stream",
     "text": [
      "The entered numbers are 7 and 9.\n",
      "7 x 0 = 0 , 9 x 0 = 0\n",
      "7 x 1 = 7 , 9 x 1 = 9\n",
      "7 x 2 = 14 , 9 x 2 = 18\n",
      "7 x 3 = 21 , 9 x 3 = 27\n",
      "7 x 4 = 28 , 9 x 4 = 36\n",
      "7 x 5 = 35 , 9 x 5 = 45\n",
      "7 x 6 = 42 , 9 x 6 = 54\n",
      "7 x 7 = 49 , 9 x 7 = 63\n",
      "7 x 8 = 56 , 9 x 8 = 72\n",
      "7 x 9 = 63 , 9 x 9 = 81\n",
      "7 x 10 = 70 , 9 x 10 = 90\n"
     ]
    }
   ],
   "source": [
    "number1 = int(input('Enter a number:'))\n",
    "number2 = int(input('Enter a number:'))\n",
    "print(f'The entered numbers are {number1} and {number2}.')\n",
    "i = 0\n",
    "while i<=10:\n",
    " print(('%d x %d = %d' %(number1, i, number1*i)), ',', ('%d x %d = %d' %(number2, i, number2*i )))\n",
    " i+=1"
   ]
  },
  {
   "cell_type": "markdown",
   "metadata": {},
   "source": [
    "while-else statement"
   ]
  },
  {
   "cell_type": "code",
   "execution_count": 29,
   "metadata": {},
   "outputs": [
    {
     "name": "stdout",
     "output_type": "stream",
     "text": [
      "0 1 2 3 4 5 It gives us the numbers between 0 and 5.\n"
     ]
    }
   ],
   "source": [
    "index = 0\n",
    "while index <=5:\n",
    " print(index, end=' ')\n",
    " index += 1\n",
    "else:\n",
    " print('It gives us the numbers between 0 and 5.')"
   ]
  },
  {
   "cell_type": "markdown",
   "metadata": {},
   "source": [
    "continue in while loop"
   ]
  },
  {
   "cell_type": "code",
   "execution_count": 36,
   "metadata": {},
   "outputs": [
    {
     "name": "stdout",
     "output_type": "stream",
     "text": [
      "0\n",
      "1\n",
      "2\n",
      "3\n",
      "4\n",
      "5\n"
     ]
    }
   ],
   "source": [
    "i = 0\n",
    "while i<=5:\n",
    "    print(i)\n",
    "    i+=1\n",
    "    if i == 3:\n",
    "        continue"
   ]
  },
  {
   "cell_type": "markdown",
   "metadata": {},
   "source": [
    "break in while loop"
   ]
  },
  {
   "cell_type": "code",
   "execution_count": 38,
   "metadata": {},
   "outputs": [
    {
     "name": "stdout",
     "output_type": "stream",
     "text": [
      "0\n",
      "1\n",
      "2\n"
     ]
    }
   ],
   "source": [
    "i = 0\n",
    "while i<=5:\n",
    " print(i)\n",
    " i+=1\n",
    " if i == 3:\n",
    "    break"
   ]
  }
 ],
 "metadata": {
  "kernelspec": {
   "display_name": "base",
   "language": "python",
   "name": "python3"
  },
  "language_info": {
   "codemirror_mode": {
    "name": "ipython",
    "version": 3
   },
   "file_extension": ".py",
   "mimetype": "text/x-python",
   "name": "python",
   "nbconvert_exporter": "python",
   "pygments_lexer": "ipython3",
   "version": "3.9.13"
  },
  "orig_nbformat": 4
 },
 "nbformat": 4,
 "nbformat_minor": 2
}
