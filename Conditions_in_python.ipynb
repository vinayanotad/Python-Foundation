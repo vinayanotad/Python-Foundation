{
 "cells": [
  {
   "cell_type": "markdown",
   "metadata": {},
   "source": [
    "##  7. Conditions in Python"
   ]
  },
  {
   "cell_type": "markdown",
   "metadata": {},
   "source": [
    "#### Comparison operators\n",
    "Comparison operations compare some value or operand and based on a condition, produce a Boolean. Python\n",
    "has six comparison operators as below:"
   ]
  },
  {
   "cell_type": "markdown",
   "metadata": {},
   "source": [
    "##### *Less than (<)\n",
    "##### *Less than or equal to (<=)\n",
    "##### *Greater than (>)\n",
    "##### *Greater than or equal to (>=)\n",
    "##### *Equal to (==)\n",
    "##### *Not equal to (!=)"
   ]
  },
  {
   "cell_type": "code",
   "execution_count": 1,
   "metadata": {},
   "outputs": [
    {
     "name": "stdout",
     "output_type": "stream",
     "text": [
      "True\n",
      "False\n"
     ]
    }
   ],
   "source": [
    "# Take a variable\n",
    "golden_ratio = 1.618\n",
    "# Condition less than\n",
    "print(golden_ratio<2) # The golden ratio is lower than 2, thus the output is True\n",
    "print(golden_ratio<1) # The golden ratio is greater than 1, thus the output is False"
   ]
  },
  {
   "cell_type": "code",
   "execution_count": 2,
   "metadata": {},
   "outputs": [
    {
     "name": "stdout",
     "output_type": "stream",
     "text": [
      "True\n",
      "False\n",
      "True\n"
     ]
    }
   ],
   "source": [
    "# Take a variable\n",
    "golden_ratio = 1.618\n",
    "# Condition less than or equal to\n",
    "print(golden_ratio<=2) # The golden ratio is lower than 2, thus the condition is True.\n",
    "print(golden_ratio<=1) # The golden ratio is greater than 1, thus the condition is False.\n",
    "print(golden_ratio<=1.618) # The golden ratio is equal to 1.618, thus the condition is True."
   ]
  },
  {
   "cell_type": "code",
   "execution_count": 3,
   "metadata": {},
   "outputs": [
    {
     "name": "stdout",
     "output_type": "stream",
     "text": [
      "False\n",
      "True\n"
     ]
    }
   ],
   "source": [
    "# Take a variable\n",
    "golden_ratio = 1.618\n",
    "# Condition greater than\n",
    "print(golden_ratio>2) # The golden ratio is lower than 2, thus the condition is False.\n",
    "print(golden_ratio>1) # The golden ratio is greater than 1, thus the condition is True"
   ]
  },
  {
   "cell_type": "code",
   "execution_count": 4,
   "metadata": {},
   "outputs": [
    {
     "name": "stdout",
     "output_type": "stream",
     "text": [
      "False\n",
      "True\n",
      "True\n"
     ]
    }
   ],
   "source": [
    "# Take a variable\n",
    "golden_ratio = 1.618\n",
    "# Condition greater than or equal to\n",
    "print(golden_ratio>=2) # The golden ratio is not greater than 2, thus the condition is False.\n",
    "print(golden_ratio>=1) # The golden ratio is greater than 1, thus the condition is True.\n",
    "print(golden_ratio>=1.618) # The golden ratio is equal to 1.618, thus the condition is True."
   ]
  },
  {
   "cell_type": "code",
   "execution_count": 5,
   "metadata": {},
   "outputs": [
    {
     "name": "stdout",
     "output_type": "stream",
     "text": [
      "False\n",
      "True\n"
     ]
    }
   ],
   "source": [
    "# Take a variable\n",
    "golden_ratio = 1.618\n",
    "# Condition equal to\n",
    "print(golden_ratio==2) # The golden ratio is not equal to 1.618, thus the condition is False.\n",
    "print(golden_ratio==1.618) # The golden ratio is equal to 1.618, thus the condition is True.\n"
   ]
  },
  {
   "cell_type": "code",
   "execution_count": 6,
   "metadata": {},
   "outputs": [
    {
     "name": "stdout",
     "output_type": "stream",
     "text": [
      "True\n",
      "False\n"
     ]
    }
   ],
   "source": [
    "# Take a variable\n",
    "golden_ratio = 1.618\n",
    "# Condition not equal to\n",
    "print(golden_ratio!=2) # The golden ratio is not equal to 1.618, thus the condition is True.\n",
    "print(golden_ratio!=1.618) # The golden ratio is equal to 1.618, thus the condition is False.\n"
   ]
  },
  {
   "cell_type": "code",
   "execution_count": 7,
   "metadata": {},
   "outputs": [
    {
     "name": "stdout",
     "output_type": "stream",
     "text": [
      "False\n",
      "True\n",
      "True\n",
      "False\n",
      "True\n",
      "False\n",
      "True\n",
      "False\n",
      "False\n"
     ]
    }
   ],
   "source": [
    "# Compare strings\n",
    "print('Hello' == 'Python')\n",
    "print('Hello' != 'Python')\n",
    "print('Hello' <= 'Python')\n",
    "print('Hello' >= 'Python')\n",
    "print('Hello' < 'Python')\n",
    "print('Hello' > 'Python')\n",
    "print('B'>'A') # According to ASCII table, the values of A and B are equal 65 and 66, respectively.\n",
    "print('a'>'b') # According to ASCII table, the values of a and b are equal 97 and 98, respectively.\n",
    "print('CD'>'DC') # According to ASCII table, the value of C (67) is lower than that of D (68)\n",
    "# The values of uppercase and lowercase letters are different since python is case sensitive."
   ]
  },
  {
   "cell_type": "markdown",
   "metadata": {},
   "source": [
    "#### Branching (if, elif, else)\n",
    "*Decision making is required when we want to execute a code only if a certain condition is satisfied.\n",
    "*The if/elif/else statement is used in Python for decision making.\n",
    "*An else statement can be combined with an if statement.\n",
    "*An else statement contains the block of code that executes if the conditional expression in the if statement resolves to 0 or a False value\n",
    "*The else statement is an optional statement and there could be at most only one else statement following if.\n",
    "*The elif statement allows you to check multiple expressions for True and execute a block of code as soon as one of the conditions evaluates to True.\n",
    "*Similar to the else, the elif statement is optional.\n",
    "*However, unlike else, for which there can be at most one statement, there can be an arbitrary number of elif statements following an if.\n"
   ]
  },
  {
   "cell_type": "markdown",
   "metadata": {},
   "source": [
    "If statement"
   ]
  },
  {
   "cell_type": "code",
   "execution_count": 8,
   "metadata": {},
   "outputs": [
    {
     "name": "stdout",
     "output_type": "stream",
     "text": [
      "The number pi 3.14 is greater than the golden ratio 1.618.\n",
      "Done!\n"
     ]
    }
   ],
   "source": [
    "pi = 3.14\n",
    "golden_ratio = 1.618\n",
    "# This statement can be True or False.\n",
    "if pi > golden_ratio:\n",
    " # If the conditions is True, the following statement will be printed.\n",
    " print(f'The number pi {pi} is greater than the golden ratio {golden_ratio}.')\n",
    "# The following statement will be printed in each situtation.\n",
    "print('Done!')"
   ]
  },
  {
   "cell_type": "code",
   "execution_count": 9,
   "metadata": {},
   "outputs": [
    {
     "name": "stdout",
     "output_type": "stream",
     "text": [
      "Hello, python!\n"
     ]
    }
   ],
   "source": [
    "if 2:\n",
    " print('Hello, python!')"
   ]
  },
  {
   "cell_type": "code",
   "execution_count": 10,
   "metadata": {},
   "outputs": [
    {
     "name": "stdout",
     "output_type": "stream",
     "text": [
      "This is true.\n"
     ]
    }
   ],
   "source": [
    "if True:\n",
    " print('This is true.')"
   ]
  },
  {
   "cell_type": "markdown",
   "metadata": {},
   "source": [
    "else statement"
   ]
  },
  {
   "cell_type": "code",
   "execution_count": 11,
   "metadata": {},
   "outputs": [
    {
     "name": "stdout",
     "output_type": "stream",
     "text": [
      "The golden ratio 1.618 is lower than the number pi 3.14.\n",
      "Done!\n"
     ]
    }
   ],
   "source": [
    "pi = 3.14\n",
    "golden_ratio = 1.618\n",
    "if pi < golden_ratio:\n",
    " print(f'The number pi {pi} is greater than the golden ratio {golden_ratio}.')\n",
    "else:\n",
    " print(f'The golden ratio {golden_ratio} is lower than the number pi {pi}.')\n",
    "print('Done!')\n"
   ]
  },
  {
   "cell_type": "markdown",
   "metadata": {},
   "source": [
    "elif statement"
   ]
  },
  {
   "cell_type": "code",
   "execution_count": 12,
   "metadata": {},
   "outputs": [
    {
     "name": "stdout",
     "output_type": "stream",
     "text": [
      "You should go to kindergarten.\n",
      "Done!\n"
     ]
    }
   ],
   "source": [
    "age = 5\n",
    "if age > 6:\n",
    " print('You can go to primary school.' )\n",
    "elif age == 5:\n",
    " print('You should go to kindergarten.')\n",
    "else:\n",
    " print('You are a baby' )\n",
    "\n",
    "print('Done!')"
   ]
  },
  {
   "cell_type": "code",
   "execution_count": 13,
   "metadata": {},
   "outputs": [
    {
     "name": "stdout",
     "output_type": "stream",
     "text": [
      "Done!\n"
     ]
    }
   ],
   "source": [
    "album_year = 2000\n",
    "album_year = 1990\n",
    "if album_year >= 1995:\n",
    " print('Album year is higher than 1995.')\n",
    "print('Done!')"
   ]
  },
  {
   "cell_type": "code",
   "execution_count": 14,
   "metadata": {},
   "outputs": [
    {
     "name": "stdout",
     "output_type": "stream",
     "text": [
      "Album year is higher than 1995.\n",
      "Done!\n"
     ]
    }
   ],
   "source": [
    "album_year = 2000\n",
    "# album_year = 1990\n",
    "if album_year >= 1995:\n",
    " print('Album year is higher than 1995.')\n",
    "else:\n",
    " print('Album year is lower than 1995.')\n",
    "print('Done!')"
   ]
  },
  {
   "cell_type": "code",
   "execution_count": 15,
   "metadata": {},
   "outputs": [
    {
     "name": "stdout",
     "output_type": "stream",
     "text": [
      "The movie could win Oscar.\n"
     ]
    }
   ],
   "source": [
    "imdb_point = 9.0\n",
    "if imdb_point > 8.5:\n",
    " print('The movie could win Oscar.')"
   ]
  },
  {
   "cell_type": "code",
   "execution_count": 16,
   "metadata": {},
   "outputs": [
    {
     "name": "stdout",
     "output_type": "stream",
     "text": [
      "The entered movie rating is: 5.0\n",
      "The movie has merit to be watched with 5.0 rating.\n"
     ]
    }
   ],
   "source": [
    "movie_rating = float(input('Enter a rating number:'))\n",
    "print(f'The entered movie rating is: {movie_rating}')\n",
    "if movie_rating > 8.5:\n",
    " print('The movie is awesome with {} rating and you should watch it.'.format(movie_rating))\n",
    "else:\n",
    " print('The movie has merit to be watched with {} rating.'.format(movie_rating))"
   ]
  },
  {
   "cell_type": "code",
   "execution_count": 18,
   "metadata": {},
   "outputs": [
    {
     "name": "stdout",
     "output_type": "stream",
     "text": [
      "The entered note value is: 45.0\n",
      "The letter grade is FE.\n"
     ]
    }
   ],
   "source": [
    "note = float(input('Enter a note:'))\n",
    "print(f'The entered note value is: {note}')\n",
    "if note >= 90 and note <= 100:\n",
    " print('The letter grade is AA.')\n",
    "elif note >= 85 and note <= 89:\n",
    " print('The letter grade is BA.')\n",
    "elif note >= 80 and note <= 84:\n",
    " print('The letter grade is BB.')\n",
    "elif note >= 75 and note <= 79:\n",
    " print('The letter grade is CB.')\n",
    "elif note >= 70 and note <= 74:\n",
    " print('The letter grade is CC.')\n",
    "elif note >= 65 and note <= 69:\n",
    " print('The letter grade is DC.')\n",
    "elif note >= 60 and note <= 64:\n",
    " print('The letter grade is DD.')\n",
    "elif note >=55 and note <= 59:\n",
    " print('The letter grade is ED.')\n",
    "elif note >=50 and note <= 54:\n",
    " print('The letter grade is EE.')\n",
    "elif note >=45 and note <=49:\n",
    " print('The letter grade is FE.')\n",
    "else:\n",
    " print('The letter grade is FF.')\n"
   ]
  },
  {
   "cell_type": "code",
   "execution_count": 19,
   "metadata": {},
   "outputs": [
    {
     "name": "stdout",
     "output_type": "stream",
     "text": [
      "The entered number is: 76\n",
      "The entered number 76 is even\n"
     ]
    }
   ],
   "source": [
    "number = int(input('Enter a number:'))\n",
    "print(f'The entered number is: {number}')\n",
    "if number %2 == 0:\n",
    " print(f'The entered number {number} is even')\n",
    "else:\n",
    " print(f'The entered number {number} is odd')"
   ]
  },
  {
   "cell_type": "markdown",
   "metadata": {},
   "source": [
    "#### Logical operators\n",
    "Logical operators are used to combine conditional statements.\n"
   ]
  },
  {
   "cell_type": "markdown",
   "metadata": {},
   "source": [
    "#### and: Returns True if both statements are true\n",
    "#### or: Returns True if one of the statements is true\n",
    "#### not: Reverse the result, returns False if the result is true"
   ]
  },
  {
   "cell_type": "markdown",
   "metadata": {},
   "source": [
    "and"
   ]
  },
  {
   "cell_type": "code",
   "execution_count": 20,
   "metadata": {},
   "outputs": [
    {
     "name": "stdout",
     "output_type": "stream",
     "text": [
      "You were born between 1990 and 1994\n",
      "Done!\n"
     ]
    }
   ],
   "source": [
    "birth_year = 1990\n",
    "if birth_year > 1989 and birth_year < 1995:\n",
    " print('You were born between 1990 and 1994')\n",
    "print('Done!')"
   ]
  },
  {
   "cell_type": "code",
   "execution_count": 21,
   "metadata": {},
   "outputs": [
    {
     "name": "stdout",
     "output_type": "stream",
     "text": [
      "The entered numbers for x, y, and z are 87, 87, and 89, respectively.\n",
      "The number z with 89 is the greatest number.\n"
     ]
    }
   ],
   "source": [
    "x = int(input('Enter a number:'))\n",
    "y = int(input('Enter a number: '))\n",
    "z = int(input('Enter a number:'))\n",
    "print(f'The entered numbers for x, y, and z are {x}, {y}, and {z}, respectively.')\n",
    "if x>y and x>z:\n",
    " print(f'The number x with {x} is the greatest number.')\n",
    "elif y>x and y>z:\n",
    " print(f'The number y with {y} is the greatest number.')\n",
    "else:\n",
    " print(f'The number z with {z} is the greatest number.')"
   ]
  },
  {
   "cell_type": "markdown",
   "metadata": {},
   "source": [
    "or"
   ]
  },
  {
   "cell_type": "code",
   "execution_count": 22,
   "metadata": {},
   "outputs": [
    {
     "name": "stdout",
     "output_type": "stream",
     "text": [
      "You were not born in 1980s.\n",
      "Done!\n"
     ]
    }
   ],
   "source": [
    "birth_year = 1990\n",
    "if birth_year < 1980 or birth_year > 1989:\n",
    " print('You were not born in 1980s.')\n",
    "else:\n",
    " print('You were born in 1990s.')\n",
    "print('Done!')"
   ]
  },
  {
   "cell_type": "markdown",
   "metadata": {},
   "source": [
    "not"
   ]
  },
  {
   "cell_type": "code",
   "execution_count": 23,
   "metadata": {},
   "outputs": [
    {
     "name": "stdout",
     "output_type": "stream",
     "text": [
      "The year of birth is not 1991.\n"
     ]
    }
   ],
   "source": [
    "birth_year = 1990\n",
    "if not birth_year == 1991:\n",
    " print('The year of birth is not 1991.')"
   ]
  },
  {
   "cell_type": "code",
   "execution_count": 24,
   "metadata": {},
   "outputs": [
    {
     "name": "stdout",
     "output_type": "stream",
     "text": [
      "The entered year of birth is: 2001\n",
      "Your year of birth with 2001 is wrong.\n"
     ]
    }
   ],
   "source": [
    "birth_year = int(input('Enter a year of birth: '))\n",
    "print(f'The entered year of birth is: {birth_year}')\n",
    "if birth_year < 1985 or birth_year == 1991 or birth_year == 1995:\n",
    " print(f'You were born in {birth_year}')\n",
    "else:\n",
    " # For instance, if your year of birth is 1993\n",
    " print(f'Your year of birth with {birth_year} is wrong.')\n"
   ]
  },
  {
   "cell_type": "code",
   "execution_count": 25,
   "metadata": {},
   "outputs": [
    {
     "name": "stdout",
     "output_type": "stream",
     "text": [
      "The entered year of birth is: 2008\n",
      "Your year of birth with 2008 is wrong.\n"
     ]
    }
   ],
   "source": [
    "birth_year = int(input('Enter a year of birth: '))\n",
    "print(f'The entered year of birth is: {birth_year}')\n",
    "if birth_year < 1985 or birth_year == 1991 or birth_year == 1995:\n",
    " # For instance, if your year of birth is 1995\n",
    " print(f'You were born in {birth_year}')\n",
    "else:\n",
    " print(f'Your year of birth with {birth_year} is wrong.')\n"
   ]
  }
 ],
 "metadata": {
  "kernelspec": {
   "display_name": "base",
   "language": "python",
   "name": "python3"
  },
  "language_info": {
   "codemirror_mode": {
    "name": "ipython",
    "version": 3
   },
   "file_extension": ".py",
   "mimetype": "text/x-python",
   "name": "python",
   "nbconvert_exporter": "python",
   "pygments_lexer": "ipython3",
   "version": "3.9.13"
  },
  "orig_nbformat": 4
 },
 "nbformat": 4,
 "nbformat_minor": 2
}
