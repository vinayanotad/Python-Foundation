{
 "cells": [
  {
   "cell_type": "markdown",
   "metadata": {},
   "source": [
    "#### 6. Dictionaries in Python"
   ]
  },
  {
   "cell_type": "markdown",
   "metadata": {},
   "source": [
    "## *Dictionaries are used to store data values in key:value pairs.\n",
    "*A dictionary is a collection which is ordered, changeable or mutable and do not allow duplicates.\n",
    "*Dictionary items are ordered, changeable, and does not allow duplicates.\n",
    "*Dictionary items are presented in key:value pairs, and can be referred to by using the key name.\n",
    "*Dictionaries are changeable, meaning that we can change, add or remove items after the dictionary has been created.\n",
    "*Dictionaries cannot have two items with the same key.\n",
    "*A dictionary can nested and can contain another dictionary.\n",
    "*"
   ]
  },
  {
   "cell_type": "code",
   "execution_count": 2,
   "metadata": {},
   "outputs": [
    {
     "data": {
      "text/plain": [
       "{'key_1': 3.14,\n",
       " 'key_2': 1.618,\n",
       " 'key_3': True,\n",
       " 'key_4': [3.14, 1.618],\n",
       " 'key_5': (3.14, 1.618),\n",
       " 'key_6': 2022,\n",
       " (3.14, 1.618): 'pi and golden ratio'}"
      ]
     },
     "execution_count": 2,
     "metadata": {},
     "output_type": "execute_result"
    }
   ],
   "source": [
    "# Take a sample dictionary\n",
    "sample_dict = {'key_1': 3.14, 'key_2': 1.618,\n",
    " 'key_3': True, 'key_4': [3.14, 1.618],\n",
    " 'key_5': (3.14, 1.618), 'key_6': 2022, (3.14, 1.618): 'pi and golden ratio'}\n",
    "sample_dict"
   ]
  },
  {
   "cell_type": "markdown",
   "metadata": {},
   "source": [
    "Note: As you see that the whole dictionary is enclosed in curly braces, each key is separated from its value by\n",
    "a column \":\", and commas are used to separate the items in the dictionary"
   ]
  },
  {
   "cell_type": "code",
   "execution_count": 3,
   "metadata": {},
   "outputs": [
    {
     "name": "stdout",
     "output_type": "stream",
     "text": [
      "3.14\n",
      "1.618\n",
      "True\n",
      "[3.14, 1.618]\n",
      "(3.14, 1.618)\n",
      "2022\n",
      "pi and golden ratio\n"
     ]
    }
   ],
   "source": [
    "# Accessing to the value using the key\n",
    "print(sample_dict['key_1'])\n",
    "print(sample_dict['key_2'])\n",
    "print(sample_dict['key_3'])\n",
    "print(sample_dict['key_4'])\n",
    "print(sample_dict['key_5'])\n",
    "print(sample_dict['key_6'])\n",
    "print(sample_dict[(3.14, 1.618)]) # Keys can be any immutable object like tuple"
   ]
  },
  {
   "cell_type": "markdown",
   "metadata": {},
   "source": [
    "Keys"
   ]
  },
  {
   "cell_type": "code",
   "execution_count": 15,
   "metadata": {},
   "outputs": [
    {
     "data": {
      "text/plain": [
       "{'Aspergillus niger': 'inulinase',\n",
       " 'Saccharomyces cerevisiae': 'ethanol',\n",
       " 'Scheffersomyces stipitis': 'ethanol',\n",
       " 'Aspergillus sojae_1': 'mannanase',\n",
       " 'Streptococcus zooepidemicus': 'hyaluronic acid',\n",
       " 'Lactobacillus casei': 'lactic acid',\n",
       " 'Aspergillus sojae_2': 'polygalacturonase'}"
      ]
     },
     "execution_count": 15,
     "metadata": {},
     "output_type": "execute_result"
    }
   ],
   "source": [
    "# Take a sample dictionary\n",
    "product = {'Aspergillus niger': 'inulinase', 'Saccharomyces cerevisiae': 'ethanol',\n",
    " 'Scheffersomyces stipitis': 'ethanol', 'Aspergillus sojae_1': 'mannanase',\n",
    " 'Streptococcus zooepidemicus': 'hyaluronic acid', 'Lactobacillus casei': 'lactic acid',\n",
    " 'Aspergillus sojae_2': 'polygalacturonase'}\n",
    "product"
   ]
  },
  {
   "cell_type": "code",
   "execution_count": 16,
   "metadata": {},
   "outputs": [
    {
     "name": "stdout",
     "output_type": "stream",
     "text": [
      "inulinase\n",
      "ethanol\n",
      "ethanol\n"
     ]
    }
   ],
   "source": [
    "# Retrieving the value by keys\n",
    "print(product['Aspergillus niger'])\n",
    "print(product['Saccharomyces cerevisiae'])\n",
    "print(product['Scheffersomyces stipitis'])"
   ]
  },
  {
   "cell_type": "markdown",
   "metadata": {},
   "source": [
    "keys() function to get the keys in the dictionary"
   ]
  },
  {
   "cell_type": "code",
   "execution_count": 17,
   "metadata": {},
   "outputs": [
    {
     "data": {
      "text/plain": [
       "dict_keys(['Aspergillus niger', 'Saccharomyces cerevisiae', 'Scheffersomyces stipitis', 'Aspergillus sojae_1', 'Streptococcus zooepidemicus', 'Lactobacillus casei', 'Aspergillus sojae_2'])"
      ]
     },
     "execution_count": 17,
     "metadata": {},
     "output_type": "execute_result"
    }
   ],
   "source": [
    "# What are the keys in the dictionary?\n",
    "product.keys()"
   ]
  },
  {
   "cell_type": "markdown",
   "metadata": {},
   "source": [
    "values() function to get the values in the dictionary"
   ]
  },
  {
   "cell_type": "code",
   "execution_count": 18,
   "metadata": {},
   "outputs": [
    {
     "data": {
      "text/plain": [
       "dict_values(['inulinase', 'ethanol', 'ethanol', 'mannanase', 'hyaluronic acid', 'lactic acid', 'polygalacturonase'])"
      ]
     },
     "execution_count": 18,
     "metadata": {},
     "output_type": "execute_result"
    }
   ],
   "source": [
    "# What are the values in the dictionary?\n",
    "product.values()"
   ]
  },
  {
   "cell_type": "markdown",
   "metadata": {},
   "source": [
    "Addition of a new key:value pair in the dictionary"
   ]
  },
  {
   "cell_type": "code",
   "execution_count": 19,
   "metadata": {},
   "outputs": [
    {
     "data": {
      "text/plain": [
       "{'Aspergillus niger': 'inulinase',\n",
       " 'Saccharomyces cerevisiae': 'ethanol',\n",
       " 'Scheffersomyces stipitis': 'ethanol',\n",
       " 'Aspergillus sojae_1': 'mannanase',\n",
       " 'Streptococcus zooepidemicus': 'hyaluronic acid',\n",
       " 'Lactobacillus casei': 'lactic acid',\n",
       " 'Aspergillus sojae_2': 'polygalacturonase',\n",
       " 'Yarrovia lipolytica': 'microbial oil'}"
      ]
     },
     "execution_count": 19,
     "metadata": {},
     "output_type": "execute_result"
    }
   ],
   "source": [
    "product['Yarrovia lipolytica'] = 'microbial oil'\n",
    "product"
   ]
  },
  {
   "cell_type": "markdown",
   "metadata": {},
   "source": [
    "Delete an item using del() function in the dictionary by key"
   ]
  },
  {
   "cell_type": "code",
   "execution_count": 20,
   "metadata": {},
   "outputs": [
    {
     "data": {
      "text/plain": [
       "{'Saccharomyces cerevisiae': 'ethanol',\n",
       " 'Scheffersomyces stipitis': 'ethanol',\n",
       " 'Streptococcus zooepidemicus': 'hyaluronic acid',\n",
       " 'Lactobacillus casei': 'lactic acid',\n",
       " 'Aspergillus sojae_2': 'polygalacturonase',\n",
       " 'Yarrovia lipolytica': 'microbial oil'}"
      ]
     },
     "execution_count": 20,
     "metadata": {},
     "output_type": "execute_result"
    }
   ],
   "source": [
    "del(product['Aspergillus niger'])\n",
    "del(product['Aspergillus sojae_1'])\n",
    "product"
   ]
  },
  {
   "cell_type": "code",
   "execution_count": 10,
   "metadata": {},
   "outputs": [
    {
     "ename": "NameError",
     "evalue": "name 'product' is not defined",
     "output_type": "error",
     "traceback": [
      "\u001b[1;31m---------------------------------------------------------------------------\u001b[0m",
      "\u001b[1;31mNameError\u001b[0m                                 Traceback (most recent call last)",
      "\u001b[1;32m~\\AppData\\Local\\Temp\\ipykernel_14284\\2494804566.py\u001b[0m in \u001b[0;36m<module>\u001b[1;34m\u001b[0m\n\u001b[0;32m      1\u001b[0m \u001b[1;32mdel\u001b[0m \u001b[0mproduct\u001b[0m\u001b[1;33m\u001b[0m\u001b[1;33m\u001b[0m\u001b[0m\n\u001b[1;32m----> 2\u001b[1;33m \u001b[0mprint\u001b[0m\u001b[1;33m(\u001b[0m\u001b[0mproduct\u001b[0m\u001b[1;33m)\u001b[0m\u001b[1;33m\u001b[0m\u001b[1;33m\u001b[0m\u001b[0m\n\u001b[0m\u001b[0;32m      3\u001b[0m \u001b[1;31m# The dictionary was deleted.\u001b[0m\u001b[1;33m\u001b[0m\u001b[1;33m\u001b[0m\u001b[0m\n",
      "\u001b[1;31mNameError\u001b[0m: name 'product' is not defined"
     ]
    }
   ],
   "source": [
    "del product\n",
    "print(product)\n",
    "# The dictionary was deleted."
   ]
  },
  {
   "cell_type": "markdown",
   "metadata": {},
   "source": [
    "Verification using in or not in"
   ]
  },
  {
   "cell_type": "code",
   "execution_count": 21,
   "metadata": {},
   "outputs": [
    {
     "name": "stdout",
     "output_type": "stream",
     "text": [
      "True\n",
      "False\n"
     ]
    }
   ],
   "source": [
    "print('Saccharomyces cerevisiae' in product)\n",
    "print('Saccharomyces cerevisiae' not in product)"
   ]
  },
  {
   "cell_type": "markdown",
   "metadata": {},
   "source": [
    "#### dict() function\n",
    "This function is used to create a dictionary"
   ]
  },
  {
   "cell_type": "code",
   "execution_count": 22,
   "metadata": {},
   "outputs": [
    {
     "data": {
      "text/plain": [
       "{'family': 'music', 'type': 'pop', 'year': '2022', 'name': 'happy new year'}"
      ]
     },
     "execution_count": 22,
     "metadata": {},
     "output_type": "execute_result"
    }
   ],
   "source": [
    "dict_sample = dict(family = 'music', type='pop', year='2022' , name='happy new year')\n",
    "dict_sample"
   ]
  },
  {
   "cell_type": "code",
   "execution_count": 23,
   "metadata": {},
   "outputs": [
    {
     "ename": "KeyError",
     "evalue": "1",
     "output_type": "error",
     "traceback": [
      "\u001b[1;31m---------------------------------------------------------------------------\u001b[0m",
      "\u001b[1;31mKeyError\u001b[0m                                  Traceback (most recent call last)",
      "\u001b[1;32m~\\AppData\\Local\\Temp\\ipykernel_14284\\4263495629.py\u001b[0m in \u001b[0;36m<module>\u001b[1;34m\u001b[0m\n\u001b[0;32m      1\u001b[0m \u001b[1;31m# Numerical index is not used to take the dictionary values. It gives a KeyError\u001b[0m\u001b[1;33m\u001b[0m\u001b[1;33m\u001b[0m\u001b[0m\n\u001b[1;32m----> 2\u001b[1;33m \u001b[0mdict_sample\u001b[0m\u001b[1;33m[\u001b[0m\u001b[1;36m1\u001b[0m\u001b[1;33m]\u001b[0m\u001b[1;33m\u001b[0m\u001b[1;33m\u001b[0m\u001b[0m\n\u001b[0m",
      "\u001b[1;31mKeyError\u001b[0m: 1"
     ]
    }
   ],
   "source": [
    "# Numerical index is not used to take the dictionary values. It gives a KeyError\n",
    "dict_sample[1]"
   ]
  },
  {
   "cell_type": "markdown",
   "metadata": {},
   "source": [
    "#### clear() functions\n",
    "It removes all the items in the dictionary and returns an empty dictionary"
   ]
  },
  {
   "cell_type": "code",
   "execution_count": 24,
   "metadata": {},
   "outputs": [
    {
     "data": {
      "text/plain": [
       "{}"
      ]
     },
     "execution_count": 24,
     "metadata": {},
     "output_type": "execute_result"
    }
   ],
   "source": [
    "dict_sample = dict(family = 'music', type='pop', year='2022' , name='happy new year')\n",
    "dict_sample.clear()\n",
    "dict_sample"
   ]
  },
  {
   "cell_type": "markdown",
   "metadata": {},
   "source": [
    "#### copy() function\n",
    "It returns a shallow copy of the main dictionary"
   ]
  },
  {
   "cell_type": "code",
   "execution_count": 25,
   "metadata": {},
   "outputs": [
    {
     "name": "stdout",
     "output_type": "stream",
     "text": [
      "{'family': 'music', 'type': 'pop', 'year': '2022', 'name': 'happy new year'}\n",
      "{'family': 'music', 'type': 'pop', 'year': '2022', 'name': 'happy new year'}\n"
     ]
    }
   ],
   "source": [
    "sample_original = dict(family = 'music', type='pop', year='2022' , name='happy new year')\n",
    "sample_copy = sample_original.copy()\n",
    "print(sample_original)\n",
    "print(sample_copy)"
   ]
  },
  {
   "cell_type": "code",
   "execution_count": 26,
   "metadata": {},
   "outputs": [
    {
     "name": "stdout",
     "output_type": "stream",
     "text": [
      "{'family': 'music', 'type': 'pop', 'year': '2022', 'name': 'happy new year'}\n",
      "{'family': 'music', 'type': 'pop', 'year': '2022', 'name': 'happy new year'}\n"
     ]
    }
   ],
   "source": [
    "# This method can be made usign '=' sign\n",
    "sample_copy = sample_original\n",
    "print(sample_copy)\n",
    "print(sample_original)"
   ]
  },
  {
   "cell_type": "markdown",
   "metadata": {},
   "source": [
    "#### pop() function\n",
    "This function is used to remove a specific item from the dictionary"
   ]
  },
  {
   "cell_type": "code",
   "execution_count": 27,
   "metadata": {},
   "outputs": [
    {
     "name": "stdout",
     "output_type": "stream",
     "text": [
      "pop\n",
      "{'family': 'music', 'year': '2022', 'name': 'happy new year'}\n"
     ]
    }
   ],
   "source": [
    "sample_original = dict(family = 'music', type='pop', year='2022' , name='happy new year')\n",
    "print(sample_original.pop('type'))\n",
    "print(sample_original)"
   ]
  },
  {
   "cell_type": "markdown",
   "metadata": {},
   "source": [
    "#### popitem() function\n",
    "It is used to remove the abitrary items from the dictionary and returns as a tuple"
   ]
  },
  {
   "cell_type": "code",
   "execution_count": 28,
   "metadata": {},
   "outputs": [
    {
     "name": "stdout",
     "output_type": "stream",
     "text": [
      "('name', 'happy new year')\n",
      "{'family': 'music', 'type': 'pop', 'year': '2022'}\n"
     ]
    }
   ],
   "source": [
    "sample_original = dict(family = 'music', type='pop', year='2022' , name='happy new year')\n",
    "print(sample_original.popitem())\n",
    "print(sample_original)"
   ]
  },
  {
   "cell_type": "markdown",
   "metadata": {},
   "source": [
    "#### get() function\n",
    "This method returns the value for the specified key if it is available in the dictionary. If the key is not available, it\n",
    "returns None"
   ]
  },
  {
   "cell_type": "code",
   "execution_count": 29,
   "metadata": {},
   "outputs": [
    {
     "name": "stdout",
     "output_type": "stream",
     "text": [
      "music\n",
      "None\n"
     ]
    }
   ],
   "source": [
    "sample_original = dict(family = 'music', type='pop', year='2022' , name='happy new year')\n",
    "print(sample_original.get('family'))\n",
    "print(sample_original.get(3))"
   ]
  },
  {
   "cell_type": "markdown",
   "metadata": {},
   "source": [
    "#### fromkeys() function\n",
    "It returns a new dictionary with the certain sequence of the items as the keys of the dictionary and the values\n",
    "are assigned with None"
   ]
  },
  {
   "cell_type": "code",
   "execution_count": 30,
   "metadata": {},
   "outputs": [
    {
     "name": "stdout",
     "output_type": "stream",
     "text": [
      "{'G': None, 'C': None, 'T': None, 'A': None}\n"
     ]
    }
   ],
   "source": [
    "keys = {'A', 'T', 'C', 'G'}\n",
    "sequence = dict.fromkeys(keys)\n",
    "print(sequence)"
   ]
  },
  {
   "cell_type": "markdown",
   "metadata": {},
   "source": [
    "#### update() function\n",
    "It integrates a dictionary with another dictionary or with an iterable of key:value pairs"
   ]
  },
  {
   "cell_type": "code",
   "execution_count": 31,
   "metadata": {},
   "outputs": [
    {
     "name": "stdout",
     "output_type": "stream",
     "text": [
      "{'Aspergillus niger': 'inulinase', 'Saccharomyces cerevisiae': 'ethanol', 'Scheffersomyces stipitis': 'ethanol', 'Aspergillus sojae_1': 'mannanase', 'Streptococcus zooepidemicus': 'hyaluronic acid', 'Lactobacillus casei': 'lactic acid', 'Aspergillus sojae_2': 'polygalacturonase', 'family': 'music', 'type': 'pop', 'year': '2022', 'name': 'happy new year'}\n"
     ]
    }
   ],
   "source": [
    "product = {'Aspergillus niger': 'inulinase', 'Saccharomyces cerevisiae': 'ethanol',\n",
    " 'Scheffersomyces stipitis': 'ethanol', 'Aspergillus sojae_1': 'mannanase',\n",
    " 'Streptococcus zooepidemicus': 'hyaluronic acid', 'Lactobacillus casei': 'lactic acid',\n",
    " 'Aspergillus sojae_2': 'polygalacturonase'}\n",
    "sample_original = dict(family = 'music', type='pop', year='2022' , name='happy new year')\n",
    "product.update(sample_original)\n",
    "print(product)"
   ]
  },
  {
   "cell_type": "markdown",
   "metadata": {},
   "source": [
    "#### items() function\n",
    "It returns a list of key:value pairs in a dictionary. The elements in the lists are tuples"
   ]
  },
  {
   "cell_type": "code",
   "execution_count": 32,
   "metadata": {},
   "outputs": [
    {
     "data": {
      "text/plain": [
       "dict_items([('Aspergillus niger', 'inulinase'), ('Saccharomyces cerevisiae', 'ethanol'), ('Scheffersomyces stipitis', 'ethanol'), ('Aspergillus sojae_1', 'mannanase'), ('Streptococcus zooepidemicus', 'hyaluronic acid'), ('Lactobacillus casei', 'lactic acid'), ('Aspergillus sojae_2', 'polygalacturonase')])"
      ]
     },
     "execution_count": 32,
     "metadata": {},
     "output_type": "execute_result"
    }
   ],
   "source": [
    "product = {'Aspergillus niger': 'inulinase', 'Saccharomyces cerevisiae': 'ethanol',\n",
    " 'Scheffersomyces stipitis': 'ethanol', 'Aspergillus sojae_1': 'mannanase',\n",
    " 'Streptococcus zooepidemicus': 'hyaluronic acid', 'Lactobacillus casei': 'lactic acid',\n",
    " 'Aspergillus sojae_2': 'polygalacturonase'}\n",
    "product.items()"
   ]
  },
  {
   "cell_type": "markdown",
   "metadata": {},
   "source": [
    "#### Iterating dictionary\n",
    "A dictionary can be iterated using the for loop"
   ]
  },
  {
   "cell_type": "code",
   "execution_count": 33,
   "metadata": {},
   "outputs": [
    {
     "name": "stdout",
     "output_type": "stream",
     "text": [
      "Aspergillus niger\n",
      "Saccharomyces cerevisiae\n",
      "Scheffersomyces stipitis\n",
      "Aspergillus sojae_1\n",
      "Streptococcus zooepidemicus\n",
      "Lactobacillus casei\n",
      "Aspergillus sojae_2\n"
     ]
    }
   ],
   "source": [
    "# 'for' loop print all the keys in the dictionary\n",
    "product = {'Aspergillus niger': 'inulinase', 'Saccharomyces cerevisiae': 'ethanol',\n",
    " 'Scheffersomyces stipitis': 'ethanol', 'Aspergillus sojae_1': 'mannanase',\n",
    " 'Streptococcus zooepidemicus': 'hyaluronic acid', 'Lactobacillus casei': 'lactic acid',\n",
    " 'Aspergillus sojae_2': 'polygalacturonase'}\n",
    "for k in product:\n",
    " print(k)"
   ]
  },
  {
   "cell_type": "code",
   "execution_count": 34,
   "metadata": {},
   "outputs": [
    {
     "name": "stdout",
     "output_type": "stream",
     "text": [
      "inulinase\n",
      "ethanol\n",
      "ethanol\n",
      "mannanase\n",
      "hyaluronic acid\n",
      "lactic acid\n",
      "polygalacturonase\n",
      "\n",
      "inulinase\n",
      "ethanol\n",
      "ethanol\n",
      "mannanase\n",
      "hyaluronic acid\n",
      "lactic acid\n",
      "polygalacturonase\n"
     ]
    }
   ],
   "source": [
    "# 'for' loop to print the values of the dictionary by using values() and other method\n",
    "product = {'Aspergillus niger': 'inulinase', 'Saccharomyces cerevisiae': 'ethanol',\n",
    " 'Scheffersomyces stipitis': 'ethanol', 'Aspergillus sojae_1': 'mannanase',\n",
    " 'Streptococcus zooepidemicus': 'hyaluronic acid', 'Lactobacillus casei': 'lactic acid',\n",
    " 'Aspergillus sojae_2': 'polygalacturonase'}\n",
    "for x in product.values():\n",
    " print(x)\n",
    "print()\n",
    "# 'for' loop to print the values of the dictionary by using values() and other method\n",
    "for x in product:\n",
    " print(product[x])"
   ]
  },
  {
   "cell_type": "code",
   "execution_count": 35,
   "metadata": {},
   "outputs": [
    {
     "name": "stdout",
     "output_type": "stream",
     "text": [
      "('Aspergillus niger', 'inulinase')\n",
      "('Saccharomyces cerevisiae', 'ethanol')\n",
      "('Scheffersomyces stipitis', 'ethanol')\n",
      "('Aspergillus sojae_1', 'mannanase')\n",
      "('Streptococcus zooepidemicus', 'hyaluronic acid')\n",
      "('Lactobacillus casei', 'lactic acid')\n",
      "('Aspergillus sojae_2', 'polygalacturonase')\n"
     ]
    }
   ],
   "source": [
    "# 'for' loop to print the items of the dictionary by using items() method\n",
    "product = {'Aspergillus niger': 'inulinase', 'Saccharomyces cerevisiae': 'ethanol',\n",
    " 'Scheffersomyces stipitis': 'ethanol', 'Aspergillus sojae_1': 'mannanase',\n",
    " 'Streptococcus zooepidemicus': 'hyaluronic acid', 'Lactobacillus casei': 'lactic acid',\n",
    " 'Aspergillus sojae_2': 'polygalacturonase'}\n",
    "for x in product.items():\n",
    " print(x)"
   ]
  },
  {
   "cell_type": "code",
   "execution_count": 36,
   "metadata": {},
   "outputs": [
    {
     "name": "stdout",
     "output_type": "stream",
     "text": [
      "Aspergillus niger inulinase\n",
      "Saccharomyces cerevisiae ethanol\n",
      "Scheffersomyces stipitis ethanol\n",
      "Aspergillus sojae_1 mannanase\n",
      "Streptococcus zooepidemicus hyaluronic acid\n",
      "Lactobacillus casei lactic acid\n",
      "Aspergillus sojae_2 polygalacturonase\n"
     ]
    }
   ],
   "source": [
    "product = {'Aspergillus niger': 'inulinase', 'Saccharomyces cerevisiae': 'ethanol',\n",
    " 'Scheffersomyces stipitis': 'ethanol', 'Aspergillus sojae_1': 'mannanase',\n",
    " 'Streptococcus zooepidemicus': 'hyaluronic acid', 'Lactobacillus casei': 'lactic acid',\n",
    " 'Aspergillus sojae_2': 'polygalacturonase'}\n",
    "for x, y in product.items():\n",
    " print(x, y)\n"
   ]
  }
 ],
 "metadata": {
  "kernelspec": {
   "display_name": "base",
   "language": "python",
   "name": "python3"
  },
  "language_info": {
   "codemirror_mode": {
    "name": "ipython",
    "version": 3
   },
   "file_extension": ".py",
   "mimetype": "text/x-python",
   "name": "python",
   "nbconvert_exporter": "python",
   "pygments_lexer": "ipython3",
   "version": "3.9.13"
  },
  "orig_nbformat": 4
 },
 "nbformat": 4,
 "nbformat_minor": 2
}
