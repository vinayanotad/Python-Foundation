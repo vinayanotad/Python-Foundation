{
 "cells": [
  {
   "cell_type": "markdown",
   "metadata": {},
   "source": [
    "## 9. Functions in Python"
   ]
  },
  {
   "cell_type": "markdown",
   "metadata": {},
   "source": [
    "**In Python, a function is a group of related statements that performs a specific task.\n",
    "Functions help break our program into smaller and modular chunks. * As our program grows larger and\n",
    "*larger, functions make it more organized and manageable.\n",
    "*Furthermore, it avoids repetition and makes the code reusable.\n",
    "*There are two types of functions :\n",
    "*Pre-defined functions\n",
    "*User defined functions\n",
    "*In Python a function is defined using the def keyword followed by the function name and parentheses ().\n",
    "*Keyword def that marks the start of the function header.\n",
    "*A function name to uniquely identify the function.\n",
    "*Function naming follows the same rules of writing identifiers in Python.\n",
    "*Parameters (arguments) through which we pass values to a function. They are optional.\n",
    "*A colon (:) to mark the end of the function header.\n",
    "*Optional documentation string (docstring) to describe what the function does.\n",
    "*One or more valid python statements that make up the function body.\n",
    "*Statements must have the same indentation level (usually 4 spaces).\n",
    "*An optional return statement to return a value from the function.*"
   ]
  }
 ],
 "metadata": {
  "language_info": {
   "name": "python"
  },
  "orig_nbformat": 4
 },
 "nbformat": 4,
 "nbformat_minor": 2
}
